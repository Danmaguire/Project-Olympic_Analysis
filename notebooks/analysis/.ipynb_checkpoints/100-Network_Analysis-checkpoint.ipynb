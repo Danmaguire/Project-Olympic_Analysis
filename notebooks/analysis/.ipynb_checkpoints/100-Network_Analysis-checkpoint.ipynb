{
 "cells": [
  {
   "cell_type": "markdown",
   "metadata": {},
   "source": [
    "# Network Analysis of Podiuming Nocs\n",
    "We want to create a network where we showcase the relationships between countires that meet on the podium of an event in each of the games. We want to do this for all games summer and winter seperately than maybe will do it for winter and summer in general to get a broader view over time of theserelationships.\n",
    "What will we need? \n",
    "*\tThree NOCs on the podium (EDGES) for every event for every olympics.\n",
    "\tThis will be formatted as such. E.g. (USA, UK, RUS) <br>\n",
    "\t-> USA,UK <br>\n",
    "\t-> UK,RUS <br>\n",
    "\t-> RUS,USA <br>\n",
    "\n",
    "* We need a list of the NOCS for each Olympics (Nodes) \n"
   ]
  },
  {
   "cell_type": "code",
   "execution_count": 60,
   "metadata": {
    "collapsed": true
   },
   "outputs": [],
   "source": [
    "import os.path\n",
    "import pandas as pd\n",
    "import numpy as np\n",
    "import matplotlib.pyplot as plt\n",
    "import math\n",
    "%matplotlib inline\n",
    "from bs4 import BeautifulSoup\n",
    "import webbrowser\n",
    "import urllib.request\n",
    "from lxml import html\n",
    "import zipfile\n",
    "import re\n",
    "import string\n",
    "import sys, os\n",
    "from IPython.display import Image\n",
    "import itertools"
   ]
  },
  {
   "cell_type": "code",
   "execution_count": 61,
   "metadata": {
    "collapsed": true
   },
   "outputs": [],
   "source": [
    "# Ensure the file exists\n",
    "if not os.path.exists( r\"..\\..\\data\\prep\\UneditedOlympics.csv\" ):\n",
    "    print(\"Missing dataset file\")"
   ]
  },
  {
   "cell_type": "code",
   "execution_count": 62,
   "metadata": {
    "collapsed": true
   },
   "outputs": [],
   "source": [
    "# read the medal csv into a dataframe\n",
    "df = pd.read_csv( r\"..\\..\\data\\prep\\UneditedOlympics.csv\", encoding = \"ISO-8859-1\")"
   ]
  },
  {
   "cell_type": "code",
   "execution_count": 63,
   "metadata": {},
   "outputs": [
    {
     "data": {
      "text/html": [
       "<div>\n",
       "<style>\n",
       "    .dataframe thead tr:only-child th {\n",
       "        text-align: right;\n",
       "    }\n",
       "\n",
       "    .dataframe thead th {\n",
       "        text-align: left;\n",
       "    }\n",
       "\n",
       "    .dataframe tbody tr th {\n",
       "        vertical-align: top;\n",
       "    }\n",
       "</style>\n",
       "<table border=\"1\" class=\"dataframe\">\n",
       "  <thead>\n",
       "    <tr style=\"text-align: right;\">\n",
       "      <th></th>\n",
       "      <th>Ath_Name</th>\n",
       "      <th>Host_City</th>\n",
       "      <th>Discipline</th>\n",
       "      <th>Event</th>\n",
       "      <th>Event_Gender</th>\n",
       "      <th>Gender</th>\n",
       "      <th>Medal</th>\n",
       "      <th>NOC</th>\n",
       "      <th>Sport</th>\n",
       "      <th>Summer</th>\n",
       "      <th>Winter</th>\n",
       "      <th>Year</th>\n",
       "    </tr>\n",
       "  </thead>\n",
       "  <tbody>\n",
       "    <tr>\n",
       "      <th>0</th>\n",
       "      <td>WEBSTER, Robert</td>\n",
       "      <td>Rome</td>\n",
       "      <td>Diving</td>\n",
       "      <td>10m platform</td>\n",
       "      <td>M</td>\n",
       "      <td>Men</td>\n",
       "      <td>Gold</td>\n",
       "      <td>USA</td>\n",
       "      <td>Aquatics</td>\n",
       "      <td>True</td>\n",
       "      <td>False</td>\n",
       "      <td>1960</td>\n",
       "    </tr>\n",
       "    <tr>\n",
       "      <th>1</th>\n",
       "      <td>TOBIAN, Gary</td>\n",
       "      <td>Rome</td>\n",
       "      <td>Diving</td>\n",
       "      <td>10m platform</td>\n",
       "      <td>M</td>\n",
       "      <td>Men</td>\n",
       "      <td>Silver</td>\n",
       "      <td>USA</td>\n",
       "      <td>Aquatics</td>\n",
       "      <td>True</td>\n",
       "      <td>False</td>\n",
       "      <td>1960</td>\n",
       "    </tr>\n",
       "    <tr>\n",
       "      <th>2</th>\n",
       "      <td>PHELPS, Brian</td>\n",
       "      <td>Rome</td>\n",
       "      <td>Diving</td>\n",
       "      <td>10m platform</td>\n",
       "      <td>M</td>\n",
       "      <td>Men</td>\n",
       "      <td>Bronze</td>\n",
       "      <td>GBR</td>\n",
       "      <td>Aquatics</td>\n",
       "      <td>True</td>\n",
       "      <td>False</td>\n",
       "      <td>1960</td>\n",
       "    </tr>\n",
       "  </tbody>\n",
       "</table>\n",
       "</div>"
      ],
      "text/plain": [
       "          Ath_Name Host_City Discipline         Event Event_Gender Gender  \\\n",
       "0  WEBSTER, Robert      Rome     Diving  10m platform            M    Men   \n",
       "1     TOBIAN, Gary      Rome     Diving  10m platform            M    Men   \n",
       "2    PHELPS, Brian      Rome     Diving  10m platform            M    Men   \n",
       "\n",
       "    Medal  NOC     Sport  Summer  Winter  Year  \n",
       "0    Gold  USA  Aquatics    True   False  1960  \n",
       "1  Silver  USA  Aquatics    True   False  1960  \n",
       "2  Bronze  GBR  Aquatics    True   False  1960  "
      ]
     },
     "execution_count": 63,
     "metadata": {},
     "output_type": "execute_result"
    }
   ],
   "source": [
    "df.head(3)"
   ]
  },
  {
   "cell_type": "code",
   "execution_count": 64,
   "metadata": {
    "collapsed": true
   },
   "outputs": [],
   "source": [
    "# dropping some redundant columns keeping only the ones we need\n",
    "df = df.drop(df.columns[[0, 4, 8]], axis=1)"
   ]
  },
  {
   "cell_type": "code",
   "execution_count": 65,
   "metadata": {},
   "outputs": [
    {
     "data": {
      "text/html": [
       "<div>\n",
       "<style>\n",
       "    .dataframe thead tr:only-child th {\n",
       "        text-align: right;\n",
       "    }\n",
       "\n",
       "    .dataframe thead th {\n",
       "        text-align: left;\n",
       "    }\n",
       "\n",
       "    .dataframe tbody tr th {\n",
       "        vertical-align: top;\n",
       "    }\n",
       "</style>\n",
       "<table border=\"1\" class=\"dataframe\">\n",
       "  <thead>\n",
       "    <tr style=\"text-align: right;\">\n",
       "      <th></th>\n",
       "      <th>Host_City</th>\n",
       "      <th>Discipline</th>\n",
       "      <th>Event</th>\n",
       "      <th>Gender</th>\n",
       "      <th>Medal</th>\n",
       "      <th>NOC</th>\n",
       "      <th>Summer</th>\n",
       "      <th>Winter</th>\n",
       "      <th>Year</th>\n",
       "    </tr>\n",
       "  </thead>\n",
       "  <tbody>\n",
       "    <tr>\n",
       "      <th>0</th>\n",
       "      <td>Rome</td>\n",
       "      <td>Diving</td>\n",
       "      <td>10m platform</td>\n",
       "      <td>Men</td>\n",
       "      <td>Gold</td>\n",
       "      <td>USA</td>\n",
       "      <td>True</td>\n",
       "      <td>False</td>\n",
       "      <td>1960</td>\n",
       "    </tr>\n",
       "    <tr>\n",
       "      <th>1</th>\n",
       "      <td>Rome</td>\n",
       "      <td>Diving</td>\n",
       "      <td>10m platform</td>\n",
       "      <td>Men</td>\n",
       "      <td>Silver</td>\n",
       "      <td>USA</td>\n",
       "      <td>True</td>\n",
       "      <td>False</td>\n",
       "      <td>1960</td>\n",
       "    </tr>\n",
       "    <tr>\n",
       "      <th>2</th>\n",
       "      <td>Rome</td>\n",
       "      <td>Diving</td>\n",
       "      <td>10m platform</td>\n",
       "      <td>Men</td>\n",
       "      <td>Bronze</td>\n",
       "      <td>GBR</td>\n",
       "      <td>True</td>\n",
       "      <td>False</td>\n",
       "      <td>1960</td>\n",
       "    </tr>\n",
       "  </tbody>\n",
       "</table>\n",
       "</div>"
      ],
      "text/plain": [
       "  Host_City Discipline         Event Gender   Medal  NOC  Summer  Winter  Year\n",
       "0      Rome     Diving  10m platform    Men    Gold  USA    True   False  1960\n",
       "1      Rome     Diving  10m platform    Men  Silver  USA    True   False  1960\n",
       "2      Rome     Diving  10m platform    Men  Bronze  GBR    True   False  1960"
      ]
     },
     "execution_count": 65,
     "metadata": {},
     "output_type": "execute_result"
    }
   ],
   "source": [
    "df.head(3)"
   ]
  },
  {
   "cell_type": "code",
   "execution_count": 66,
   "metadata": {
    "collapsed": true
   },
   "outputs": [],
   "source": [
    "# Here we're sorting the df so we can find out which countires are podiuming together \n",
    "df= df.sort_values(by=['Host_City', 'Year', 'Summer', 'Winter', 'Gender', 'Event'], ascending=False)"
   ]
  },
  {
   "cell_type": "markdown",
   "metadata": {},
   "source": [
    "# Multi athlete events\n",
    "Below we showcase the situation where mutliple athletes from each country are involved in an event meaning more than 3 medals are given out it will be (3 * Team size). We will have to remove all of the teams medal wins bar one  because we only want a team win to show up as a single occurance of a podium for a country. <br> </br>\n",
    "Another siutation to think about is the possability of a draw or if there is less than three medals awarded due to unforseen circumstances such as drug disquailfications etc. \n",
    "We're not sure as of yet about why some of the situations where less than three medals were awarded occurred but we've seen some examples of the boxing draw occuring.  "
   ]
  },
  {
   "cell_type": "code",
   "execution_count": 67,
   "metadata": {},
   "outputs": [
    {
     "data": {
      "text/html": [
       "<div>\n",
       "<style>\n",
       "    .dataframe thead tr:only-child th {\n",
       "        text-align: right;\n",
       "    }\n",
       "\n",
       "    .dataframe thead th {\n",
       "        text-align: left;\n",
       "    }\n",
       "\n",
       "    .dataframe tbody tr th {\n",
       "        vertical-align: top;\n",
       "    }\n",
       "</style>\n",
       "<table border=\"1\" class=\"dataframe\">\n",
       "  <thead>\n",
       "    <tr style=\"text-align: right;\">\n",
       "      <th></th>\n",
       "      <th>Host_City</th>\n",
       "      <th>Discipline</th>\n",
       "      <th>Event</th>\n",
       "      <th>Gender</th>\n",
       "      <th>Medal</th>\n",
       "      <th>NOC</th>\n",
       "      <th>Summer</th>\n",
       "      <th>Winter</th>\n",
       "      <th>Year</th>\n",
       "    </tr>\n",
       "  </thead>\n",
       "  <tbody>\n",
       "    <tr>\n",
       "      <th>27223</th>\n",
       "      <td>Vancouver</td>\n",
       "      <td>Bobsleigh</td>\n",
       "      <td>two-man</td>\n",
       "      <td>M</td>\n",
       "      <td>Bronze</td>\n",
       "      <td>RUS</td>\n",
       "      <td>False</td>\n",
       "      <td>True</td>\n",
       "      <td>2010</td>\n",
       "    </tr>\n",
       "    <tr>\n",
       "      <th>27224</th>\n",
       "      <td>Vancouver</td>\n",
       "      <td>Bobsleigh</td>\n",
       "      <td>two-man</td>\n",
       "      <td>M</td>\n",
       "      <td>Bronze</td>\n",
       "      <td>RUS</td>\n",
       "      <td>False</td>\n",
       "      <td>True</td>\n",
       "      <td>2010</td>\n",
       "    </tr>\n",
       "    <tr>\n",
       "      <th>27225</th>\n",
       "      <td>Vancouver</td>\n",
       "      <td>Bobsleigh</td>\n",
       "      <td>two-man</td>\n",
       "      <td>M</td>\n",
       "      <td>Gold</td>\n",
       "      <td>GER</td>\n",
       "      <td>False</td>\n",
       "      <td>True</td>\n",
       "      <td>2010</td>\n",
       "    </tr>\n",
       "    <tr>\n",
       "      <th>27226</th>\n",
       "      <td>Vancouver</td>\n",
       "      <td>Bobsleigh</td>\n",
       "      <td>two-man</td>\n",
       "      <td>M</td>\n",
       "      <td>Gold</td>\n",
       "      <td>GER</td>\n",
       "      <td>False</td>\n",
       "      <td>True</td>\n",
       "      <td>2010</td>\n",
       "    </tr>\n",
       "    <tr>\n",
       "      <th>27227</th>\n",
       "      <td>Vancouver</td>\n",
       "      <td>Bobsleigh</td>\n",
       "      <td>two-man</td>\n",
       "      <td>M</td>\n",
       "      <td>Silver</td>\n",
       "      <td>GER</td>\n",
       "      <td>False</td>\n",
       "      <td>True</td>\n",
       "      <td>2010</td>\n",
       "    </tr>\n",
       "    <tr>\n",
       "      <th>27228</th>\n",
       "      <td>Vancouver</td>\n",
       "      <td>Bobsleigh</td>\n",
       "      <td>two-man</td>\n",
       "      <td>M</td>\n",
       "      <td>Silver</td>\n",
       "      <td>GER</td>\n",
       "      <td>False</td>\n",
       "      <td>True</td>\n",
       "      <td>2010</td>\n",
       "    </tr>\n",
       "    <tr>\n",
       "      <th>27554</th>\n",
       "      <td>Vancouver</td>\n",
       "      <td>Alpine Skiing</td>\n",
       "      <td>super-G</td>\n",
       "      <td>M</td>\n",
       "      <td>Bronze</td>\n",
       "      <td>USA</td>\n",
       "      <td>False</td>\n",
       "      <td>True</td>\n",
       "      <td>2010</td>\n",
       "    </tr>\n",
       "    <tr>\n",
       "      <th>27555</th>\n",
       "      <td>Vancouver</td>\n",
       "      <td>Alpine Skiing</td>\n",
       "      <td>super-G</td>\n",
       "      <td>M</td>\n",
       "      <td>Gold</td>\n",
       "      <td>NOR</td>\n",
       "      <td>False</td>\n",
       "      <td>True</td>\n",
       "      <td>2010</td>\n",
       "    </tr>\n",
       "    <tr>\n",
       "      <th>27556</th>\n",
       "      <td>Vancouver</td>\n",
       "      <td>Alpine Skiing</td>\n",
       "      <td>super-G</td>\n",
       "      <td>M</td>\n",
       "      <td>Silver</td>\n",
       "      <td>USA</td>\n",
       "      <td>False</td>\n",
       "      <td>True</td>\n",
       "      <td>2010</td>\n",
       "    </tr>\n",
       "    <tr>\n",
       "      <th>27542</th>\n",
       "      <td>Vancouver</td>\n",
       "      <td>Alpine Skiing</td>\n",
       "      <td>slalom</td>\n",
       "      <td>M</td>\n",
       "      <td>Bronze</td>\n",
       "      <td>SWE</td>\n",
       "      <td>False</td>\n",
       "      <td>True</td>\n",
       "      <td>2010</td>\n",
       "    </tr>\n",
       "  </tbody>\n",
       "</table>\n",
       "</div>"
      ],
      "text/plain": [
       "       Host_City     Discipline    Event Gender   Medal  NOC  Summer  Winter  \\\n",
       "27223  Vancouver      Bobsleigh  two-man      M  Bronze  RUS   False    True   \n",
       "27224  Vancouver      Bobsleigh  two-man      M  Bronze  RUS   False    True   \n",
       "27225  Vancouver      Bobsleigh  two-man      M    Gold  GER   False    True   \n",
       "27226  Vancouver      Bobsleigh  two-man      M    Gold  GER   False    True   \n",
       "27227  Vancouver      Bobsleigh  two-man      M  Silver  GER   False    True   \n",
       "27228  Vancouver      Bobsleigh  two-man      M  Silver  GER   False    True   \n",
       "27554  Vancouver  Alpine Skiing  super-G      M  Bronze  USA   False    True   \n",
       "27555  Vancouver  Alpine Skiing  super-G      M    Gold  NOR   False    True   \n",
       "27556  Vancouver  Alpine Skiing  super-G      M  Silver  USA   False    True   \n",
       "27542  Vancouver  Alpine Skiing   slalom      M  Bronze  SWE   False    True   \n",
       "\n",
       "       Year  \n",
       "27223  2010  \n",
       "27224  2010  \n",
       "27225  2010  \n",
       "27226  2010  \n",
       "27227  2010  \n",
       "27228  2010  \n",
       "27554  2010  \n",
       "27555  2010  \n",
       "27556  2010  \n",
       "27542  2010  "
      ]
     },
     "execution_count": 67,
     "metadata": {},
     "output_type": "execute_result"
    }
   ],
   "source": [
    "df.head(10)"
   ]
  },
  {
   "cell_type": "code",
   "execution_count": 68,
   "metadata": {
    "collapsed": true
   },
   "outputs": [],
   "source": [
    "# here we're dropping all the team meaals and leaving one so the relationship will be intact\n",
    "df = df.drop_duplicates(keep='first')"
   ]
  },
  {
   "cell_type": "code",
   "execution_count": 69,
   "metadata": {},
   "outputs": [
    {
     "data": {
      "text/html": [
       "<div>\n",
       "<style>\n",
       "    .dataframe thead tr:only-child th {\n",
       "        text-align: right;\n",
       "    }\n",
       "\n",
       "    .dataframe thead th {\n",
       "        text-align: left;\n",
       "    }\n",
       "\n",
       "    .dataframe tbody tr th {\n",
       "        vertical-align: top;\n",
       "    }\n",
       "</style>\n",
       "<table border=\"1\" class=\"dataframe\">\n",
       "  <thead>\n",
       "    <tr style=\"text-align: right;\">\n",
       "      <th></th>\n",
       "      <th>Host_City</th>\n",
       "      <th>Discipline</th>\n",
       "      <th>Event</th>\n",
       "      <th>Gender</th>\n",
       "      <th>Medal</th>\n",
       "      <th>NOC</th>\n",
       "      <th>Summer</th>\n",
       "      <th>Winter</th>\n",
       "      <th>Year</th>\n",
       "    </tr>\n",
       "  </thead>\n",
       "  <tbody>\n",
       "    <tr>\n",
       "      <th>27223</th>\n",
       "      <td>Vancouver</td>\n",
       "      <td>Bobsleigh</td>\n",
       "      <td>two-man</td>\n",
       "      <td>M</td>\n",
       "      <td>Bronze</td>\n",
       "      <td>RUS</td>\n",
       "      <td>False</td>\n",
       "      <td>True</td>\n",
       "      <td>2010</td>\n",
       "    </tr>\n",
       "    <tr>\n",
       "      <th>27225</th>\n",
       "      <td>Vancouver</td>\n",
       "      <td>Bobsleigh</td>\n",
       "      <td>two-man</td>\n",
       "      <td>M</td>\n",
       "      <td>Gold</td>\n",
       "      <td>GER</td>\n",
       "      <td>False</td>\n",
       "      <td>True</td>\n",
       "      <td>2010</td>\n",
       "    </tr>\n",
       "    <tr>\n",
       "      <th>27227</th>\n",
       "      <td>Vancouver</td>\n",
       "      <td>Bobsleigh</td>\n",
       "      <td>two-man</td>\n",
       "      <td>M</td>\n",
       "      <td>Silver</td>\n",
       "      <td>GER</td>\n",
       "      <td>False</td>\n",
       "      <td>True</td>\n",
       "      <td>2010</td>\n",
       "    </tr>\n",
       "    <tr>\n",
       "      <th>27554</th>\n",
       "      <td>Vancouver</td>\n",
       "      <td>Alpine Skiing</td>\n",
       "      <td>super-G</td>\n",
       "      <td>M</td>\n",
       "      <td>Bronze</td>\n",
       "      <td>USA</td>\n",
       "      <td>False</td>\n",
       "      <td>True</td>\n",
       "      <td>2010</td>\n",
       "    </tr>\n",
       "    <tr>\n",
       "      <th>27555</th>\n",
       "      <td>Vancouver</td>\n",
       "      <td>Alpine Skiing</td>\n",
       "      <td>super-G</td>\n",
       "      <td>M</td>\n",
       "      <td>Gold</td>\n",
       "      <td>NOR</td>\n",
       "      <td>False</td>\n",
       "      <td>True</td>\n",
       "      <td>2010</td>\n",
       "    </tr>\n",
       "    <tr>\n",
       "      <th>27556</th>\n",
       "      <td>Vancouver</td>\n",
       "      <td>Alpine Skiing</td>\n",
       "      <td>super-G</td>\n",
       "      <td>M</td>\n",
       "      <td>Silver</td>\n",
       "      <td>USA</td>\n",
       "      <td>False</td>\n",
       "      <td>True</td>\n",
       "      <td>2010</td>\n",
       "    </tr>\n",
       "    <tr>\n",
       "      <th>27542</th>\n",
       "      <td>Vancouver</td>\n",
       "      <td>Alpine Skiing</td>\n",
       "      <td>slalom</td>\n",
       "      <td>M</td>\n",
       "      <td>Bronze</td>\n",
       "      <td>SWE</td>\n",
       "      <td>False</td>\n",
       "      <td>True</td>\n",
       "      <td>2010</td>\n",
       "    </tr>\n",
       "    <tr>\n",
       "      <th>27543</th>\n",
       "      <td>Vancouver</td>\n",
       "      <td>Alpine Skiing</td>\n",
       "      <td>slalom</td>\n",
       "      <td>M</td>\n",
       "      <td>Gold</td>\n",
       "      <td>ITA</td>\n",
       "      <td>False</td>\n",
       "      <td>True</td>\n",
       "      <td>2010</td>\n",
       "    </tr>\n",
       "    <tr>\n",
       "      <th>27544</th>\n",
       "      <td>Vancouver</td>\n",
       "      <td>Alpine Skiing</td>\n",
       "      <td>slalom</td>\n",
       "      <td>M</td>\n",
       "      <td>Silver</td>\n",
       "      <td>CRO</td>\n",
       "      <td>False</td>\n",
       "      <td>True</td>\n",
       "      <td>2010</td>\n",
       "    </tr>\n",
       "    <tr>\n",
       "      <th>27409</th>\n",
       "      <td>Vancouver</td>\n",
       "      <td>Luge</td>\n",
       "      <td>singles</td>\n",
       "      <td>M</td>\n",
       "      <td>Bronze</td>\n",
       "      <td>ITA</td>\n",
       "      <td>False</td>\n",
       "      <td>True</td>\n",
       "      <td>2010</td>\n",
       "    </tr>\n",
       "  </tbody>\n",
       "</table>\n",
       "</div>"
      ],
      "text/plain": [
       "       Host_City     Discipline    Event Gender   Medal  NOC  Summer  Winter  \\\n",
       "27223  Vancouver      Bobsleigh  two-man      M  Bronze  RUS   False    True   \n",
       "27225  Vancouver      Bobsleigh  two-man      M    Gold  GER   False    True   \n",
       "27227  Vancouver      Bobsleigh  two-man      M  Silver  GER   False    True   \n",
       "27554  Vancouver  Alpine Skiing  super-G      M  Bronze  USA   False    True   \n",
       "27555  Vancouver  Alpine Skiing  super-G      M    Gold  NOR   False    True   \n",
       "27556  Vancouver  Alpine Skiing  super-G      M  Silver  USA   False    True   \n",
       "27542  Vancouver  Alpine Skiing   slalom      M  Bronze  SWE   False    True   \n",
       "27543  Vancouver  Alpine Skiing   slalom      M    Gold  ITA   False    True   \n",
       "27544  Vancouver  Alpine Skiing   slalom      M  Silver  CRO   False    True   \n",
       "27409  Vancouver           Luge  singles      M  Bronze  ITA   False    True   \n",
       "\n",
       "       Year  \n",
       "27223  2010  \n",
       "27225  2010  \n",
       "27227  2010  \n",
       "27554  2010  \n",
       "27555  2010  \n",
       "27556  2010  \n",
       "27542  2010  \n",
       "27543  2010  \n",
       "27544  2010  \n",
       "27409  2010  "
      ]
     },
     "execution_count": 69,
     "metadata": {},
     "output_type": "execute_result"
    }
   ],
   "source": [
    "df.head(10)"
   ]
  },
  {
   "cell_type": "code",
   "execution_count": 70,
   "metadata": {
    "collapsed": true
   },
   "outputs": [],
   "source": [
    "# Re-sorting again and dropping the previus index column\n",
    "df= df.sort_values(by=['Year', 'Winter', 'Gender', 'Discipline', 'Event', 'Medal']).reset_index()\n",
    "# dropping the old index column\n",
    "df = df.drop(df.columns[[0]], axis=1)"
   ]
  },
  {
   "cell_type": "code",
   "execution_count": 71,
   "metadata": {
    "collapsed": true
   },
   "outputs": [],
   "source": [
    "# Changing the order of the columns \n",
    "df = df[['Year', 'Host_City', 'Summer', 'Winter', 'Discipline', 'Event', 'Gender', 'NOC' , 'Medal']]"
   ]
  },
  {
   "cell_type": "code",
   "execution_count": 72,
   "metadata": {},
   "outputs": [
    {
     "data": {
      "text/html": [
       "<div>\n",
       "<style>\n",
       "    .dataframe thead tr:only-child th {\n",
       "        text-align: right;\n",
       "    }\n",
       "\n",
       "    .dataframe thead th {\n",
       "        text-align: left;\n",
       "    }\n",
       "\n",
       "    .dataframe tbody tr th {\n",
       "        vertical-align: top;\n",
       "    }\n",
       "</style>\n",
       "<table border=\"1\" class=\"dataframe\">\n",
       "  <thead>\n",
       "    <tr style=\"text-align: right;\">\n",
       "      <th></th>\n",
       "      <th>Year</th>\n",
       "      <th>Host_City</th>\n",
       "      <th>Summer</th>\n",
       "      <th>Winter</th>\n",
       "      <th>Discipline</th>\n",
       "      <th>Event</th>\n",
       "      <th>Gender</th>\n",
       "      <th>NOC</th>\n",
       "      <th>Medal</th>\n",
       "    </tr>\n",
       "  </thead>\n",
       "  <tbody>\n",
       "    <tr>\n",
       "      <th>0</th>\n",
       "      <td>1960</td>\n",
       "      <td>Rome</td>\n",
       "      <td>True</td>\n",
       "      <td>False</td>\n",
       "      <td>Athletics</td>\n",
       "      <td>10000m</td>\n",
       "      <td>Men</td>\n",
       "      <td>AUS</td>\n",
       "      <td>Bronze</td>\n",
       "    </tr>\n",
       "  </tbody>\n",
       "</table>\n",
       "</div>"
      ],
      "text/plain": [
       "   Year Host_City  Summer  Winter Discipline   Event Gender  NOC   Medal\n",
       "0  1960      Rome    True   False  Athletics  10000m    Men  AUS  Bronze"
      ]
     },
     "execution_count": 72,
     "metadata": {},
     "output_type": "execute_result"
    }
   ],
   "source": [
    "df.head(1)"
   ]
  },
  {
   "cell_type": "markdown",
   "metadata": {},
   "source": [
    "# Creating the relationships\n",
    "We've taken out the duplicate medals for team wins now we have to create the relationships shared by podiuming countries. Realationships will be between countires that win a medal in a certain event. We have to get these relationships for each event split into the different olympics by year and whether they are summer or winter and also. So we can create a sub networks for every olympics and then at the end we can have a network that covers all the olympics since 1960 however we'll proaly still spilt that into summer and winter games.   "
   ]
  },
  {
   "cell_type": "code",
   "execution_count": 73,
   "metadata": {},
   "outputs": [
    {
     "data": {
      "text/html": [
       "<div>\n",
       "<style>\n",
       "    .dataframe thead tr:only-child th {\n",
       "        text-align: right;\n",
       "    }\n",
       "\n",
       "    .dataframe thead th {\n",
       "        text-align: left;\n",
       "    }\n",
       "\n",
       "    .dataframe tbody tr th {\n",
       "        vertical-align: top;\n",
       "    }\n",
       "</style>\n",
       "<table border=\"1\" class=\"dataframe\">\n",
       "  <thead>\n",
       "    <tr style=\"text-align: right;\">\n",
       "      <th></th>\n",
       "      <th>Year</th>\n",
       "      <th>Host_City</th>\n",
       "      <th>Summer</th>\n",
       "      <th>Winter</th>\n",
       "      <th>Discipline</th>\n",
       "      <th>Event</th>\n",
       "      <th>Gender</th>\n",
       "      <th>NOC</th>\n",
       "      <th>Medal</th>\n",
       "    </tr>\n",
       "  </thead>\n",
       "  <tbody>\n",
       "    <tr>\n",
       "      <th>0</th>\n",
       "      <td>1960</td>\n",
       "      <td>Rome</td>\n",
       "      <td>True</td>\n",
       "      <td>False</td>\n",
       "      <td>Athletics</td>\n",
       "      <td>10000m</td>\n",
       "      <td>Men</td>\n",
       "      <td>AUS</td>\n",
       "      <td>Bronze</td>\n",
       "    </tr>\n",
       "    <tr>\n",
       "      <th>1</th>\n",
       "      <td>1960</td>\n",
       "      <td>Rome</td>\n",
       "      <td>True</td>\n",
       "      <td>False</td>\n",
       "      <td>Athletics</td>\n",
       "      <td>10000m</td>\n",
       "      <td>Men</td>\n",
       "      <td>URS</td>\n",
       "      <td>Gold</td>\n",
       "    </tr>\n",
       "    <tr>\n",
       "      <th>2</th>\n",
       "      <td>1960</td>\n",
       "      <td>Rome</td>\n",
       "      <td>True</td>\n",
       "      <td>False</td>\n",
       "      <td>Athletics</td>\n",
       "      <td>10000m</td>\n",
       "      <td>Men</td>\n",
       "      <td>EUA</td>\n",
       "      <td>Silver</td>\n",
       "    </tr>\n",
       "    <tr>\n",
       "      <th>3</th>\n",
       "      <td>1960</td>\n",
       "      <td>Rome</td>\n",
       "      <td>True</td>\n",
       "      <td>False</td>\n",
       "      <td>Athletics</td>\n",
       "      <td>100m</td>\n",
       "      <td>Men</td>\n",
       "      <td>GBR</td>\n",
       "      <td>Bronze</td>\n",
       "    </tr>\n",
       "    <tr>\n",
       "      <th>4</th>\n",
       "      <td>1960</td>\n",
       "      <td>Rome</td>\n",
       "      <td>True</td>\n",
       "      <td>False</td>\n",
       "      <td>Athletics</td>\n",
       "      <td>100m</td>\n",
       "      <td>Men</td>\n",
       "      <td>EUA</td>\n",
       "      <td>Gold</td>\n",
       "    </tr>\n",
       "    <tr>\n",
       "      <th>5</th>\n",
       "      <td>1960</td>\n",
       "      <td>Rome</td>\n",
       "      <td>True</td>\n",
       "      <td>False</td>\n",
       "      <td>Athletics</td>\n",
       "      <td>100m</td>\n",
       "      <td>Men</td>\n",
       "      <td>USA</td>\n",
       "      <td>Silver</td>\n",
       "    </tr>\n",
       "    <tr>\n",
       "      <th>6</th>\n",
       "      <td>1960</td>\n",
       "      <td>Rome</td>\n",
       "      <td>True</td>\n",
       "      <td>False</td>\n",
       "      <td>Athletics</td>\n",
       "      <td>110m hurdles</td>\n",
       "      <td>Men</td>\n",
       "      <td>USA</td>\n",
       "      <td>Bronze</td>\n",
       "    </tr>\n",
       "    <tr>\n",
       "      <th>7</th>\n",
       "      <td>1960</td>\n",
       "      <td>Rome</td>\n",
       "      <td>True</td>\n",
       "      <td>False</td>\n",
       "      <td>Athletics</td>\n",
       "      <td>110m hurdles</td>\n",
       "      <td>Men</td>\n",
       "      <td>USA</td>\n",
       "      <td>Gold</td>\n",
       "    </tr>\n",
       "    <tr>\n",
       "      <th>8</th>\n",
       "      <td>1960</td>\n",
       "      <td>Rome</td>\n",
       "      <td>True</td>\n",
       "      <td>False</td>\n",
       "      <td>Athletics</td>\n",
       "      <td>110m hurdles</td>\n",
       "      <td>Men</td>\n",
       "      <td>USA</td>\n",
       "      <td>Silver</td>\n",
       "    </tr>\n",
       "    <tr>\n",
       "      <th>9</th>\n",
       "      <td>1960</td>\n",
       "      <td>Rome</td>\n",
       "      <td>True</td>\n",
       "      <td>False</td>\n",
       "      <td>Athletics</td>\n",
       "      <td>1500m</td>\n",
       "      <td>Men</td>\n",
       "      <td>HUN</td>\n",
       "      <td>Bronze</td>\n",
       "    </tr>\n",
       "  </tbody>\n",
       "</table>\n",
       "</div>"
      ],
      "text/plain": [
       "   Year Host_City  Summer  Winter Discipline         Event Gender  NOC   Medal\n",
       "0  1960      Rome    True   False  Athletics        10000m    Men  AUS  Bronze\n",
       "1  1960      Rome    True   False  Athletics        10000m    Men  URS    Gold\n",
       "2  1960      Rome    True   False  Athletics        10000m    Men  EUA  Silver\n",
       "3  1960      Rome    True   False  Athletics          100m    Men  GBR  Bronze\n",
       "4  1960      Rome    True   False  Athletics          100m    Men  EUA    Gold\n",
       "5  1960      Rome    True   False  Athletics          100m    Men  USA  Silver\n",
       "6  1960      Rome    True   False  Athletics  110m hurdles    Men  USA  Bronze\n",
       "7  1960      Rome    True   False  Athletics  110m hurdles    Men  USA    Gold\n",
       "8  1960      Rome    True   False  Athletics  110m hurdles    Men  USA  Silver\n",
       "9  1960      Rome    True   False  Athletics         1500m    Men  HUN  Bronze"
      ]
     },
     "execution_count": 73,
     "metadata": {},
     "output_type": "execute_result"
    }
   ],
   "source": [
    "df.head(10)"
   ]
  },
  {
   "cell_type": "markdown",
   "metadata": {},
   "source": [
    "# How? \n",
    "I think the easiest way to do this would to just get an ordered list of all the NOCs who won a medal (podiumed) for each games. If the list is order as the df above we know each set of three have the podium relationsip. Then after we get these lists, one for each games we can then turn the list form e.g. ['GER', 'USA' 'CHN'....] to ['GER,CHN', 'GER,USA', 'USA,CHN'....] so we need up with lists of relationships for each olympics. \n",
    "This is crucial because as of now one easy way to create a network of relationships is to have a csv containg nodes (Unique NOC names) and relationships (the lists we talked about above). \n",
    "<br></br>\n",
    "The other consideration we have to deal with is the sitatuions of draws and less than three medals awarded like we talked about above. This would mean that a list of all the NOCs sorted like this ['GER', 'USA' 'CHN'....] taking every three to be a podium  might not represent the relatioships correctly because as we said before we could have a draw sitatuion where four NOCs could be on a podium. <br> </br>\n",
    "This issue is addressed below by putting each events podiums into a seperate list and putting all these event lists into a list that represent that given olympic games. Then we will put all of these lists of games into a final list. \n",
    "<br></br>\n",
    "So to be clear we will have a main list of olympic games lists and in each olympic games list there will be lists for every event in that games containing every NOC that reaches the podium for that event. "
   ]
  },
  {
   "cell_type": "code",
   "execution_count": 74,
   "metadata": {
    "collapsed": true
   },
   "outputs": [],
   "source": [
    "# first I'll create a list to hold all of the lists for each olympics \n",
    "olympicGsList = []\n",
    "# Then a list to hold the values for the current olympics Games\n",
    "currGamesList = []\n",
    "# Then a list to hold the values for the current olympics events \n",
    "currEventList = []"
   ]
  },
  {
   "cell_type": "code",
   "execution_count": 75,
   "metadata": {
    "collapsed": true
   },
   "outputs": [],
   "source": [
    "# The lastyear and lasthost varaibles are needed so we can track when the games change in the iteration\n",
    "lastyear = df['Year'].iloc[0]\n",
    "lastHost = df['Host_City'].iloc[0]\n",
    "# The lastyEvent and lastDis varaibles are needed so we can track when the events change in the iteration\n",
    "lastEvent = df['Event'].iloc[0]\n",
    "lastDis = df['Discipline'].iloc[0]\n",
    "\n",
    "for x, row in df.iterrows():\n",
    "    \n",
    "    # current year and host to compare with the last years \n",
    "    curryear = df['Year'].iloc[x]\n",
    "    currHost = df['Host_City'].iloc[x]\n",
    "    \n",
    "    # varaible for the country \n",
    "    country = df['NOC'].iloc[x]\n",
    "    \n",
    "    # current event and year \n",
    "    currEvent = df['Event'].iloc[x]\n",
    "    currDis = df['Discipline'].iloc[x]\n",
    "    \n",
    "    \n",
    "    # as long as the current host and year are the same we're in the same games\n",
    "    # so each list representing an event is added to the currGamesList\n",
    "    if(curryear == lastyear and currHost == lastHost):\n",
    "        \n",
    "         # as long as the current event and discipline are the same then these NOcs will be added to the currEventList \n",
    "        if( currEvent == lastEvent and currDis == lastDis):\n",
    "            currEventList.append(country)\n",
    "        else:\n",
    "        # When the event changes we add the list of the last event to the list for the current games \n",
    "            currGamesList.append(currEventList)\n",
    "            # we reset the currEventsList for a new event \n",
    "            currEventList = []\n",
    "            # we add the first NOC to the new event list \n",
    "            currEventList.append(country)\n",
    "        \n",
    "        \n",
    "    \n",
    "    # if the games changes then we add the currGamesList containing a full olympics to the olympicGsList\n",
    "    # the we reset currList and move to the next olympics \n",
    "    else:\n",
    "        # add last event to the currGames\n",
    "        currGamesList.append(currEventList)\n",
    "        # add currGames to the olympicGsList\n",
    "        olympicGsList.append(currGamesList)\n",
    "        \n",
    "        #reset currGamesList and currEventsL:ist for new games and events \n",
    "        currGamesList = []\n",
    "        currEventList = []\n",
    "        \n",
    "        # We need this here so we the change from one games to another happens, we don't miss that first NOC\n",
    "        currEventList.append(country)\n",
    "        \n",
    "        \n",
    "        \n",
    "    # give the last year and host varaibles their new values \n",
    "    lastyear = curryear\n",
    "    lastHost = currHost\n",
    "    # give the last event and discipline varaibles their new values \n",
    "    lastEvent = currEvent\n",
    "    lastDis = currDis\n",
    "    \n",
    "\n",
    "# This just appends the last event to the currentGamesList and then this last games to the olympic list \n",
    "currGamesList.append(currEventList)\n",
    "olympicGsList.append(currGamesList)"
   ]
  },
  {
   "cell_type": "code",
   "execution_count": 76,
   "metadata": {},
   "outputs": [
    {
     "name": "stdout",
     "output_type": "stream",
     "text": [
      "We got all the NOCS!\n"
     ]
    }
   ],
   "source": [
    "#This nested for loop makes sure we got every NOC into a list of its event \n",
    "sumb = 0\n",
    "suma = 0\n",
    "for x in range(len(olympicGsList)): \n",
    "\n",
    "    for y in range(len(olympicGsList[x])):\n",
    "        suma = suma +  len(olympicGsList[x][y])\n",
    "    \n",
    "    sumb = sumb + suma \n",
    "    suma = 0\n",
    "    \n",
    "if (sumb == len(df)):\n",
    "    print(\"We got all the NOCS!\")\n",
    "    "
   ]
  },
  {
   "cell_type": "markdown",
   "metadata": {},
   "source": [
    "** Quick note .append places the lists at the end of the list ** <br>\n",
    "This means our list will start at the NOCS from 1960 and end with 2018\n"
   ]
  },
  {
   "cell_type": "markdown",
   "metadata": {},
   "source": [
    "# Nodes before relationships\n",
    "Before I take the lists in the olympicGsList and create all the realtionships I want to get all of the nodes for each of the olympics which As I said before will just be all the unique NOCs who got medals from each olympics. Now with our big list olympicGsList we have all the NOCs who got medals from every olympics however they will obviusly be lots of duplicates in each of these lists as countires will win in multiple events. In order to get a list of unqiue NOCs for each olympics for these lists we can transform it into a set which is all the unique values of the list and then just transform it back into a list. This is what I do below. "
   ]
  },
  {
   "cell_type": "code",
   "execution_count": 77,
   "metadata": {
    "collapsed": true
   },
   "outputs": [],
   "source": [
    "# This will hold one list for every olympics containing all the NOCs in each event \n",
    "# So we'll then transform these lists in NOdeList to sets then back to lists to get all the unique values \n",
    "nodeList = [] "
   ]
  },
  {
   "cell_type": "code",
   "execution_count": 78,
   "metadata": {
    "collapsed": true
   },
   "outputs": [],
   "source": [
    "# We must use a double nested for loop\n",
    "# The first goes through the list containing each list one for every olympic games \n",
    "# The second goes through the olympic games lists so we can access the diffe rent event lists in this games \n",
    "# The third goes through the NOCs in each of these event lists\n",
    "\n",
    "# This lists is used to append each NOC to the indivdual lists in the nodeList\n",
    "currNodeList = []\n",
    "\n",
    "for x in range(len(olympicGsList)): \n",
    "\n",
    "    for y in range(len(olympicGsList[x])):\n",
    "\n",
    "           for j in range(len(olympicGsList[x][y])):\n",
    "                \n",
    "                # appending each NOC for each event \n",
    "                currNodeList.append(olympicGsList[x][y][j])\n",
    "                \n",
    "    # appending all the NOCs from a single olympics to the NodeList\n",
    "    nodeList.append(currNodeList)\n",
    "    currNodeList = []"
   ]
  },
  {
   "cell_type": "code",
   "execution_count": 79,
   "metadata": {
    "collapsed": true
   },
   "outputs": [],
   "source": [
    "# this is the final nodes list with all the unique NOCs for each games. So these will be the nodes for our networks \n",
    "fnodesList = []\n",
    "\n",
    "for x in range(len(nodeList)):\n",
    "    \n",
    "    # just getting the unique NOCs for all of the nodes \n",
    "    fnodesList.append(list(set(nodeList[x])))"
   ]
  },
  {
   "cell_type": "markdown",
   "metadata": {},
   "source": [
    "# Creating the relationsips \n",
    "As I said before we are now left with the list olympicGsList contains a list for every olympic games. Now in these lists are seperate lists, one for each of the events in the games. \n",
    "The structure of an event list is like so ['USA, UK, CAN'] so for an event like this is relationships would look like this 'USA,UK' 'USA,CAN' and 'UK,CAN'. So we have to do this for every event for every games. Oce we create the realationships we can just have a list of relationships for each games they do not have to be seperated into events.  "
   ]
  },
  {
   "cell_type": "code",
   "execution_count": 80,
   "metadata": {
    "collapsed": true
   },
   "outputs": [],
   "source": [
    "# This list will contain the list of relationsips for each olympic games \n",
    "relationList = [] "
   ]
  },
  {
   "cell_type": "markdown",
   "metadata": {},
   "source": [
    "# Relationship for Loop\n",
    "The second nested for loop is where the relationships are created. olympicGsList[x][y] will be an event list in one of the list of games. The third nested loop will take this list and produce all the possible relationships like in the example we talked about above. Then it will append these relationships in the currNodeList and do the same for every event in that games. After the last event is done this list of realatioships for a given games is appended onto the relationList. The process is completed untill the relationList contains a list of realatioships for every games. "
   ]
  },
  {
   "cell_type": "code",
   "execution_count": 81,
   "metadata": {
    "collapsed": true
   },
   "outputs": [],
   "source": [
    "# This lists is used to append each NOC to the indivdual lists in the nodeList\n",
    "currNodeList = []\n",
    "\n",
    "for x in range(len(olympicGsList)): \n",
    "\n",
    "    for y in range(len(olympicGsList[x])):\n",
    "\n",
    "           for j in range(len(olympicGsList[x][y])):\n",
    "                \n",
    "                for pair in itertools.product(olympicGsList[x][y], repeat=2):\n",
    "                    rel = pair[0] + ',' + pair[1]\n",
    "                    currNodeList.append(rel)\n",
    "    # appending all the NOCs from a single olympics to the NodeList\n",
    "    relationList.append(currNodeList)\n",
    "    currNodeList = []\n",
    "            "
   ]
  },
  {
   "cell_type": "markdown",
   "metadata": {},
   "source": [
    "# List containing info on Games\n",
    "The list i create below can be used to get information on olympics in the relationList. The indexes for both lists will reference the same olympics so we can match the relationships of an olympics to any other infomration on that olympics.  "
   ]
  },
  {
   "cell_type": "code",
   "execution_count": 82,
   "metadata": {
    "collapsed": true
   },
   "outputs": [],
   "source": [
    "# If we need the host city, year or anything of an olympics we can just call an index with .iloc[]\n",
    "# and call the same index on relationList and we'll match the same relationships to whatever info we want. \n",
    "gameInfoDf =  df.drop_duplicates(subset=['Year', 'Host_City'], keep='first').reset_index()\n",
    "# dropping the old index column\n",
    "df = df.drop(df.columns[[0]], axis=1)"
   ]
  },
  {
   "cell_type": "code",
   "execution_count": 83,
   "metadata": {},
   "outputs": [
    {
     "data": {
      "text/html": [
       "<div>\n",
       "<style>\n",
       "    .dataframe thead tr:only-child th {\n",
       "        text-align: right;\n",
       "    }\n",
       "\n",
       "    .dataframe thead th {\n",
       "        text-align: left;\n",
       "    }\n",
       "\n",
       "    .dataframe tbody tr th {\n",
       "        vertical-align: top;\n",
       "    }\n",
       "</style>\n",
       "<table border=\"1\" class=\"dataframe\">\n",
       "  <thead>\n",
       "    <tr style=\"text-align: right;\">\n",
       "      <th></th>\n",
       "      <th>index</th>\n",
       "      <th>Year</th>\n",
       "      <th>Host_City</th>\n",
       "      <th>Summer</th>\n",
       "      <th>Winter</th>\n",
       "      <th>Discipline</th>\n",
       "      <th>Event</th>\n",
       "      <th>Gender</th>\n",
       "      <th>NOC</th>\n",
       "      <th>Medal</th>\n",
       "    </tr>\n",
       "  </thead>\n",
       "  <tbody>\n",
       "    <tr>\n",
       "      <th>0</th>\n",
       "      <td>0</td>\n",
       "      <td>1960</td>\n",
       "      <td>Rome</td>\n",
       "      <td>True</td>\n",
       "      <td>False</td>\n",
       "      <td>Athletics</td>\n",
       "      <td>10000m</td>\n",
       "      <td>Men</td>\n",
       "      <td>AUS</td>\n",
       "      <td>Bronze</td>\n",
       "    </tr>\n",
       "    <tr>\n",
       "      <th>1</th>\n",
       "      <td>461</td>\n",
       "      <td>1960</td>\n",
       "      <td>Squaw Valley</td>\n",
       "      <td>False</td>\n",
       "      <td>True</td>\n",
       "      <td>Alpine Skiing</td>\n",
       "      <td>downhill</td>\n",
       "      <td>F</td>\n",
       "      <td>AUT</td>\n",
       "      <td>Bronze</td>\n",
       "    </tr>\n",
       "    <tr>\n",
       "      <th>2</th>\n",
       "      <td>545</td>\n",
       "      <td>1964</td>\n",
       "      <td>Tokyo</td>\n",
       "      <td>True</td>\n",
       "      <td>False</td>\n",
       "      <td>Athletics</td>\n",
       "      <td>10000m</td>\n",
       "      <td>Men</td>\n",
       "      <td>AUS</td>\n",
       "      <td>Bronze</td>\n",
       "    </tr>\n",
       "    <tr>\n",
       "      <th>3</th>\n",
       "      <td>1049</td>\n",
       "      <td>1964</td>\n",
       "      <td>Innsbruck</td>\n",
       "      <td>False</td>\n",
       "      <td>True</td>\n",
       "      <td>Alpine Skiing</td>\n",
       "      <td>downhill</td>\n",
       "      <td>F</td>\n",
       "      <td>AUT</td>\n",
       "      <td>Bronze</td>\n",
       "    </tr>\n",
       "    <tr>\n",
       "      <th>4</th>\n",
       "      <td>1156</td>\n",
       "      <td>1968</td>\n",
       "      <td>Mexico</td>\n",
       "      <td>True</td>\n",
       "      <td>False</td>\n",
       "      <td>Athletics</td>\n",
       "      <td>10000m</td>\n",
       "      <td>Men</td>\n",
       "      <td>TUN</td>\n",
       "      <td>Bronze</td>\n",
       "    </tr>\n",
       "  </tbody>\n",
       "</table>\n",
       "</div>"
      ],
      "text/plain": [
       "   index  Year     Host_City  Summer  Winter     Discipline     Event Gender  \\\n",
       "0      0  1960          Rome    True   False      Athletics    10000m    Men   \n",
       "1    461  1960  Squaw Valley   False    True  Alpine Skiing  downhill      F   \n",
       "2    545  1964         Tokyo    True   False      Athletics    10000m    Men   \n",
       "3   1049  1964     Innsbruck   False    True  Alpine Skiing  downhill      F   \n",
       "4   1156  1968        Mexico    True   False      Athletics    10000m    Men   \n",
       "\n",
       "   NOC   Medal  \n",
       "0  AUS  Bronze  \n",
       "1  AUT  Bronze  \n",
       "2  AUS  Bronze  \n",
       "3  AUT  Bronze  \n",
       "4  TUN  Bronze  "
      ]
     },
     "execution_count": 83,
     "metadata": {},
     "output_type": "execute_result"
    }
   ],
   "source": [
    "gameInfoDf.head(5)"
   ]
  },
  {
   "cell_type": "markdown",
   "metadata": {},
   "source": [
    "# Creating the csvs for GEPHI\n",
    "First we'll create a function to produce a node csv and edges csv for a given olympics. You'll reference which olympics you want by index which pertains to gameInfoDf above. "
   ]
  },
  {
   "cell_type": "code",
   "execution_count": 84,
   "metadata": {
    "collapsed": true
   },
   "outputs": [],
   "source": [
    "relation = relationList[0]"
   ]
  },
  {
   "cell_type": "code",
   "execution_count": 85,
   "metadata": {
    "collapsed": true
   },
   "outputs": [],
   "source": [
    "# this is a function to get the csvs for the nodes and relationships of a given games \n",
    "# the number you must enter is the index of the olympics in the relation list and gamesinfoDf\n",
    "\n",
    "def getNetworkCSVs(gNum):\n",
    "    #creating two lists the source is one of the NOCs in  a relationsip and the target is the other\n",
    "    source = []\n",
    "    target = []\n",
    "\n",
    "    # this for loop seperates the relationsips and puts one NOc in each column source and target\n",
    "    for i in relation:\n",
    "        source.append(i.split(',')[0])\n",
    "        target.append(i.split(',')[1])\n",
    "\n",
    "    # create a df for these lists and equate the lists to the columns \n",
    "    dfRel = pd.DataFrame(columns=['Source', 'Target'])\n",
    "    dfRel['Source'] = source\n",
    "    dfRel['Target'] = target\n",
    "\n",
    "    # creating a dataframe for all the nodes of a games \n",
    "    nodes = fnodesList[gNum]\n",
    "    dfNodes = pd.DataFrame(nodes)\n",
    "\n",
    "    # setting a varaible for whether the gmaes is summer or winter \n",
    "    if(gameInfoDf['Summer'].iloc[gNum]):\n",
    "        gamesType = 'Summer'\n",
    "    else:\n",
    "        gamesType = 'Winter'\n",
    "\n",
    "    # the next couple of lines create the directory for where the csvs for the edges and nodes are placed\n",
    "    nodepath = r\"..\\..\\data\\analysis\\Games_Networks\\{}\".format(str(gameInfoDf['Year'].iloc[gNum]) + '_' + str(gameInfoDf['Host_City'].iloc[gNum])  + '_' + gamesType)\n",
    "\n",
    "    edgepath = r\"..\\..\\data\\analysis\\Games_Networks\\{}\".format(str(gameInfoDf['Year'].iloc[gNum])+ '_' + str(gameInfoDf['Host_City'].iloc[gNum]) + '_' + gamesType)\n",
    "    if not os.path.exists(nodepath):\n",
    "        os.makedirs(nodepath)\n",
    "\n",
    "    nodepath = nodepath + '\\{}'\n",
    "    nodepath = nodepath.format('nodes.csv')\n",
    "\n",
    "    edgepath = edgepath + '\\{}'\n",
    "    edgepath = edgepath.format('edges.csv')\n",
    "\n",
    "\n",
    "    # creating the csvs for the dataframes made above with to the directories made above\n",
    "    dfNodes.to_csv(nodepath, index=False)\n",
    "    dfRel.to_csv(edgepath, index=False)"
   ]
  },
  {
   "cell_type": "markdown",
   "metadata": {},
   "source": [
    "Now we can create a for loop to create all of the required csvs to create networks of all the games "
   ]
  },
  {
   "cell_type": "code",
   "execution_count": 86,
   "metadata": {},
   "outputs": [],
   "source": [
    "for i in range(len(gameInfoDf)):\n",
    "    getNetworkCSVs(i)"
   ]
  },
  {
   "cell_type": "markdown",
   "metadata": {},
   "source": [
    "# Network Analysis of Summer and winter games as a whole\n",
    "Now that we have csvs for the nodes and edges of every olympics from 1960 we can do a more general analysis of the summer and winter games as a whole. So we can get all the relationships from summer and winter and create a big network. To do this we'll use the relationList and the gamesInfoDf so we'll know whether a games is summer or winter. We'' have the same process for getting the nodes for the summer and winter games.  "
   ]
  },
  {
   "cell_type": "code",
   "execution_count": 87,
   "metadata": {
    "collapsed": true
   },
   "outputs": [],
   "source": [
    "# We'll have two lists one for the summer games relationships and one for the winter gmaes relationsips \n",
    "summerRels = []\n",
    "winterRels = [] \n",
    "# We'll also have two lists for the summer and winter nodes \n",
    "summerNodes = []\n",
    "winterNodes = []"
   ]
  },
  {
   "cell_type": "code",
   "execution_count": 88,
   "metadata": {
    "collapsed": true
   },
   "outputs": [],
   "source": [
    "# The for  loop just checks to see if the current games is winter or summer\n",
    "# Seeing as all the lists below have each olympics at the same index making things quite easy\n",
    "for x in range(len(relationList)):\n",
    "    \n",
    "    if(gameInfoDf['Summer'].iloc[x]):\n",
    "        summerRels.append(relationList[x])\n",
    "        summerNodes.append(fnodesList[x])\n",
    "    else:\n",
    "        winterRels.append(relationList[x])\n",
    "        winterNodes.append(fnodesList[x])"
   ]
  },
  {
   "cell_type": "markdown",
   "metadata": {},
   "source": [
    "Now that we have all the olympics lists split into summer and winter we can just breakdown the indivdual lists and form four big lists two for the winter nodes and edges and two for the summer nodes and edges.  "
   ]
  },
  {
   "cell_type": "code",
   "execution_count": 89,
   "metadata": {
    "collapsed": true
   },
   "outputs": [],
   "source": [
    "# the final list summer olympic games relationships \n",
    "summerEdges = []"
   ]
  },
  {
   "cell_type": "code",
   "execution_count": 90,
   "metadata": {
    "collapsed": true
   },
   "outputs": [],
   "source": [
    "for x in range(len(summerRels)):\n",
    "    \n",
    "    for y in range(len(summerRels[x])):\n",
    "        summerEdges.append(summerRels[x][y])"
   ]
  },
  {
   "cell_type": "code",
   "execution_count": 91,
   "metadata": {
    "collapsed": true
   },
   "outputs": [],
   "source": [
    "# the final list winter olympic games relationships \n",
    "winterEdges = []"
   ]
  },
  {
   "cell_type": "code",
   "execution_count": 92,
   "metadata": {
    "collapsed": true
   },
   "outputs": [],
   "source": [
    "for x in range(len(winterRels)):\n",
    "    \n",
    "    for y in range(len(winterRels[x])):\n",
    "        winterEdges.append(winterRels[x][y])"
   ]
  },
  {
   "cell_type": "code",
   "execution_count": 93,
   "metadata": {
    "collapsed": true
   },
   "outputs": [],
   "source": [
    "# the final list summer olympic games nodes or unique NOCs\n",
    "summerFNodes = []"
   ]
  },
  {
   "cell_type": "code",
   "execution_count": 94,
   "metadata": {
    "collapsed": true
   },
   "outputs": [],
   "source": [
    "for x in range(len(summerNodes)):\n",
    "    \n",
    "    for y in range(len(summerNodes[x])):\n",
    "        summerFNodes.append(summerNodes[x][y])\n",
    "        \n",
    "summerFNodes = list(set(summerFNodes))"
   ]
  },
  {
   "cell_type": "code",
   "execution_count": 95,
   "metadata": {
    "collapsed": true
   },
   "outputs": [],
   "source": [
    "# the final list summer olympic games nodes or unique NOCs\n",
    "winterFNodes = []"
   ]
  },
  {
   "cell_type": "code",
   "execution_count": 96,
   "metadata": {
    "collapsed": true
   },
   "outputs": [],
   "source": [
    "for x in range(len(winterNodes)):\n",
    "    \n",
    "    for y in range(len(winterNodes[x])):\n",
    "        winterFNodes.append(winterNodes[x][y])\n",
    "        \n",
    "winterFNodes = list(set(winterFNodes))"
   ]
  },
  {
   "cell_type": "markdown",
   "metadata": {},
   "source": [
    "# Creating the dataFrames for the summer and winter edges and nodes\n",
    "Like we did in the networks for all the individual olympics we must change the lists for nodes and edges to datafrmaes so they can be represented in the right formatt for Gehpi."
   ]
  },
  {
   "cell_type": "code",
   "execution_count": 97,
   "metadata": {
    "collapsed": true
   },
   "outputs": [],
   "source": [
    "# Summer games first  \n",
    "#creating two lists the source is one of the NOCs in  a relationsip and the target is the other\n",
    "source = []\n",
    "target = []\n",
    "\n",
    "# this for loop seperates the relationsips and puts one NOc in each column source and target\n",
    "for i in summerEdges:\n",
    "    source.append(i.split(',')[0])\n",
    "    target.append(i.split(',')[1])\n",
    "\n",
    "# create a df for these lists and equate the lists to the columns \n",
    "sumEdgesdf = pd.DataFrame(columns=['Source', 'Target'])\n",
    "sumEdgesdf['Source'] = source\n",
    "sumEdgesdf['Target'] = target\n",
    "\n",
    "# creating a dataframe for all the nodes of the summer games \n",
    "sumNodesdf = pd.DataFrame(summerFNodes)\n",
    "\n",
    "# Creating the Summer network folder\n",
    "sumpath = r\"..\\..\\data\\analysis\\\\Summer_Games_Network\"\n",
    "if not os.path.exists(sumpath):\n",
    "    os.makedirs(sumpath)\n",
    "\n",
    "    \n",
    "# creating the csvs for the dataframes    \n",
    "sumNodesdf.to_csv(r\"..\\..\\data\\analysis\\Summer_Games_Network\\SummerNodes.csv\", index=False)\n",
    "sumEdgesdf.to_csv(r\"..\\..\\data\\analysis\\Summer_Games_Network\\SummerEdges.csv\", index=False)"
   ]
  },
  {
   "cell_type": "code",
   "execution_count": 98,
   "metadata": {
    "collapsed": true
   },
   "outputs": [],
   "source": [
    "# Winter games  \n",
    "#creating two lists the source is one of the NOCs in a relationsip and the target is the other\n",
    "source = []\n",
    "target = []\n",
    "\n",
    "# this for loop seperates the relationsips and puts one NOc in each column source and target\n",
    "for i in winterEdges:\n",
    "    source.append(i.split(',')[0])\n",
    "    target.append(i.split(',')[1])\n",
    "\n",
    "# create a df for these lists and equate the lists to the columns \n",
    "winEdgesdf = pd.DataFrame(columns=['Source', 'Target'])\n",
    "winEdgesdf['Source'] = source\n",
    "winEdgesdf['Target'] = target\n",
    "\n",
    "# creating a dataframe for all the nodes of the summer games \n",
    "winNodesdf = pd.DataFrame(winterFNodes)\n",
    "\n",
    "# Creating the Summer network folder\n",
    "winpath = r\"..\\..\\data\\analysis\\\\Winter_Games_Network\"\n",
    "if not os.path.exists(winpath):\n",
    "    os.makedirs(winpath)\n",
    "\n",
    "    \n",
    "# creating the csvs for the dataframes    \n",
    "winNodesdf.to_csv(r\"..\\..\\data\\analysis\\Winter_Games_Network\\WinterNodes.csv\", index=False)\n",
    "winEdgesdf.to_csv(r\"..\\..\\data\\analysis\\\\Winter_Games_Network\\WinterEdges.csv\", index=False)"
   ]
  }
 ],
 "metadata": {
  "kernelspec": {
   "display_name": "Python 3",
   "language": "python",
   "name": "python3"
  },
  "language_info": {
   "codemirror_mode": {
    "name": "ipython",
    "version": 3
   },
   "file_extension": ".py",
   "mimetype": "text/x-python",
   "name": "python",
   "nbconvert_exporter": "python",
   "pygments_lexer": "ipython3",
   "version": "3.6.3"
  }
 },
 "nbformat": 4,
 "nbformat_minor": 2
}
