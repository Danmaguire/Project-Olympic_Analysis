{
 "cells": [
  {
   "cell_type": "markdown",
   "metadata": {},
   "source": [
    "# Prep"
   ]
  },
  {
   "cell_type": "code",
   "execution_count": 1,
   "metadata": {
    "collapsed": true
   },
   "outputs": [],
   "source": [
    "%%capture\n",
    "%run 200-Country_Preperation-Final.ipynb\n",
    "%run 250-Removing_All_Countries_Without_Medals.ipynb\n",
    "%run 275-GDP_Null_Values.ipynb\n",
    "%run 300-Geographical_Nulls.ipynb\n",
    "%run 325-Get_Elevation_Range.ipynb\n",
    "%run 350-Education_Index.ipynb\n",
    "%run 400-Other_Olympic_Teams.ipynb\n",
    "%run 1000-Joining\n",
    "#%run 500-Olympic_Medals_DF.ipynb\n",
    "#%run 600-Olympic_Athlete_Numbers.ipynb\n",
    "#%run 700-Olympic_Medals_and_Athlete_Numbers_DF.ipynb\n",
    "#%run 800-Olympic_NOC_Rankings.ipynb\n",
    "#%run 900-Olympic_Athlete_Rankings.ipynb\n",
    "#%run 950-Final_Medal_DataFrame.ipynb"
   ]
  },
  {
   "cell_type": "code",
   "execution_count": 16,
   "metadata": {},
   "outputs": [
    {
     "ename": "SyntaxError",
     "evalue": "invalid syntax (<ipython-input-16-74036e9df6fd>, line 1)",
     "output_type": "error",
     "traceback": [
      "\u001b[1;36m  File \u001b[1;32m\"<ipython-input-16-74036e9df6fd>\"\u001b[1;36m, line \u001b[1;32m1\u001b[0m\n\u001b[1;33m    from ../../src/graphingFunctions.py import standardScatterLine\u001b[0m\n\u001b[1;37m           ^\u001b[0m\n\u001b[1;31mSyntaxError\u001b[0m\u001b[1;31m:\u001b[0m invalid syntax\n"
     ]
    }
   ],
   "source": [
    "from ../../src/graphingFunctions.py import standardScatterLine"
   ]
  }
 ],
 "metadata": {
  "kernelspec": {
   "display_name": "Python 3",
   "language": "python",
   "name": "python3"
  },
  "language_info": {
   "codemirror_mode": {
    "name": "ipython",
    "version": 3
   },
   "file_extension": ".py",
   "mimetype": "text/x-python",
   "name": "python",
   "nbconvert_exporter": "python",
   "pygments_lexer": "ipython3",
   "version": "3.6.3"
  }
 },
 "nbformat": 4,
 "nbformat_minor": 2
}
