{
 "cells": [
  {
   "cell_type": "markdown",
   "metadata": {
    "collapsed": true
   },
   "source": [
    "# Notebook for removing all countries without Medal wins"
   ]
  },
  {
   "cell_type": "code",
   "execution_count": 131,
   "metadata": {
    "collapsed": true
   },
   "outputs": [],
   "source": [
    "import os.path\n",
    "import pandas as pd\n",
    "import numpy as np\n",
    "import matplotlib.pyplot as plt\n",
    "import math\n",
    "%matplotlib inline\n",
    "from bs4 import BeautifulSoup\n",
    "import webbrowser\n",
    "import urllib.request\n",
    "from lxml import html\n",
    "import zipfile\n",
    "import re\n",
    "import string\n",
    "import sys, os\n",
    "from IPython.display import Image"
   ]
  },
  {
   "cell_type": "code",
   "execution_count": 132,
   "metadata": {
    "collapsed": true
   },
   "outputs": [],
   "source": [
    "# Ensure the file exists\n",
    "if not os.path.exists(  r\"../../data/prep/Countries/countries_200.csv\" ):\n",
    "    print(\"Missing dataset file\")"
   ]
  },
  {
   "cell_type": "code",
   "execution_count": 133,
   "metadata": {
    "collapsed": true
   },
   "outputs": [],
   "source": [
    "# read the countries df into a dataframe\n",
    "df = pd.read_csv(  r\"../../data/prep/Countries/countries_200.csv\", encoding = \"ISO-8859-1\")"
   ]
  },
  {
   "cell_type": "code",
   "execution_count": 134,
   "metadata": {},
   "outputs": [
    {
     "data": {
      "text/html": [
       "<div>\n",
       "<style>\n",
       "    .dataframe thead tr:only-child th {\n",
       "        text-align: right;\n",
       "    }\n",
       "\n",
       "    .dataframe thead th {\n",
       "        text-align: left;\n",
       "    }\n",
       "\n",
       "    .dataframe tbody tr th {\n",
       "        vertical-align: top;\n",
       "    }\n",
       "</style>\n",
       "<table border=\"1\" class=\"dataframe\">\n",
       "  <thead>\n",
       "    <tr style=\"text-align: right;\">\n",
       "      <th></th>\n",
       "      <th>Country</th>\n",
       "      <th>Year</th>\n",
       "      <th>Population</th>\n",
       "      <th>Males</th>\n",
       "      <th>Females</th>\n",
       "      <th>Life_Expectancy</th>\n",
       "      <th>GDP</th>\n",
       "      <th>Region</th>\n",
       "      <th>Elevation</th>\n",
       "      <th>Area_SqKM</th>\n",
       "      <th>Centroid_Longitude</th>\n",
       "      <th>Centroid_Latitude</th>\n",
       "      <th>Population_Density</th>\n",
       "      <th>CO2_Emissions</th>\n",
       "      <th>Methane_Emissions</th>\n",
       "      <th>Nitrous_Oxide_Emisions</th>\n",
       "      <th>Total_Emissions</th>\n",
       "      <th>Emmisions_per_Capita</th>\n",
       "    </tr>\n",
       "  </thead>\n",
       "  <tbody>\n",
       "    <tr>\n",
       "      <th>0</th>\n",
       "      <td>Afghanistan</td>\n",
       "      <td>1960</td>\n",
       "      <td>8996351.0</td>\n",
       "      <td>4649361.0</td>\n",
       "      <td>4346990.0</td>\n",
       "      <td>32.337561</td>\n",
       "      <td>5.377778e+08</td>\n",
       "      <td>West and Central Asia</td>\n",
       "      <td>1884.71</td>\n",
       "      <td>646212.0</td>\n",
       "      <td>66.1685</td>\n",
       "      <td>33.78231</td>\n",
       "      <td>13.921671</td>\n",
       "      <td>414.371</td>\n",
       "      <td>NaN</td>\n",
       "      <td>NaN</td>\n",
       "      <td>414.371</td>\n",
       "      <td>0.000046</td>\n",
       "    </tr>\n",
       "  </tbody>\n",
       "</table>\n",
       "</div>"
      ],
      "text/plain": [
       "       Country  Year  Population      Males    Females  Life_Expectancy  \\\n",
       "0  Afghanistan  1960   8996351.0  4649361.0  4346990.0        32.337561   \n",
       "\n",
       "            GDP                 Region  Elevation  Area_SqKM  \\\n",
       "0  5.377778e+08  West and Central Asia    1884.71   646212.0   \n",
       "\n",
       "   Centroid_Longitude  Centroid_Latitude  Population_Density  CO2_Emissions  \\\n",
       "0             66.1685           33.78231           13.921671        414.371   \n",
       "\n",
       "   Methane_Emissions  Nitrous_Oxide_Emisions  Total_Emissions  \\\n",
       "0                NaN                     NaN          414.371   \n",
       "\n",
       "   Emmisions_per_Capita  \n",
       "0              0.000046  "
      ]
     },
     "execution_count": 134,
     "metadata": {},
     "output_type": "execute_result"
    }
   ],
   "source": [
    "# printing the country df out looking at field names \n",
    "df.head(1)"
   ]
  },
  {
   "cell_type": "code",
   "execution_count": 135,
   "metadata": {},
   "outputs": [
    {
     "data": {
      "text/plain": [
       "Country                      0\n",
       "Year                         0\n",
       "Population                   0\n",
       "Males                        0\n",
       "Females                      0\n",
       "Life_Expectancy            455\n",
       "GDP                        777\n",
       "Region                       0\n",
       "Elevation                  861\n",
       "Area_SqKM                  861\n",
       "Centroid_Longitude         861\n",
       "Centroid_Latitude          861\n",
       "Population_Density         861\n",
       "CO2_Emissions              675\n",
       "Methane_Emissions         1118\n",
       "Nitrous_Oxide_Emisions    1102\n",
       "Total_Emissions              0\n",
       "Emmisions_per_Capita         0\n",
       "dtype: int64"
      ]
     },
     "execution_count": 135,
     "metadata": {},
     "output_type": "execute_result"
    }
   ],
   "source": [
    "# checking the number of null values we are dealing with\n",
    "df.isnull().sum()"
   ]
  },
  {
   "cell_type": "code",
   "execution_count": 136,
   "metadata": {},
   "outputs": [
    {
     "data": {
      "text/plain": [
       "4179"
      ]
     },
     "execution_count": 136,
     "metadata": {},
     "output_type": "execute_result"
    }
   ],
   "source": [
    "len(df)"
   ]
  },
  {
   "cell_type": "code",
   "execution_count": 137,
   "metadata": {},
   "outputs": [
    {
     "data": {
      "text/html": [
       "<div>\n",
       "<style>\n",
       "    .dataframe thead tr:only-child th {\n",
       "        text-align: right;\n",
       "    }\n",
       "\n",
       "    .dataframe thead th {\n",
       "        text-align: left;\n",
       "    }\n",
       "\n",
       "    .dataframe tbody tr th {\n",
       "        vertical-align: top;\n",
       "    }\n",
       "</style>\n",
       "<table border=\"1\" class=\"dataframe\">\n",
       "  <thead>\n",
       "    <tr style=\"text-align: right;\">\n",
       "      <th></th>\n",
       "      <th>Country</th>\n",
       "      <th>Year</th>\n",
       "      <th>Population</th>\n",
       "      <th>Males</th>\n",
       "      <th>Females</th>\n",
       "      <th>Life_Expectancy</th>\n",
       "      <th>GDP</th>\n",
       "      <th>Region</th>\n",
       "      <th>Elevation</th>\n",
       "      <th>Area_SqKM</th>\n",
       "      <th>Centroid_Longitude</th>\n",
       "      <th>Centroid_Latitude</th>\n",
       "      <th>Population_Density</th>\n",
       "      <th>CO2_Emissions</th>\n",
       "      <th>Methane_Emissions</th>\n",
       "      <th>Nitrous_Oxide_Emisions</th>\n",
       "      <th>Total_Emissions</th>\n",
       "      <th>Emmisions_per_Capita</th>\n",
       "    </tr>\n",
       "  </thead>\n",
       "  <tbody>\n",
       "    <tr>\n",
       "      <th>0</th>\n",
       "      <td>Afghanistan</td>\n",
       "      <td>1960</td>\n",
       "      <td>8996351.0</td>\n",
       "      <td>4649361.0</td>\n",
       "      <td>4346990.0</td>\n",
       "      <td>32.337561</td>\n",
       "      <td>5.377778e+08</td>\n",
       "      <td>West and Central Asia</td>\n",
       "      <td>1884.71</td>\n",
       "      <td>646212.0</td>\n",
       "      <td>66.1685</td>\n",
       "      <td>33.78231</td>\n",
       "      <td>13.921671</td>\n",
       "      <td>414.371</td>\n",
       "      <td>NaN</td>\n",
       "      <td>NaN</td>\n",
       "      <td>414.371</td>\n",
       "      <td>0.000046</td>\n",
       "    </tr>\n",
       "  </tbody>\n",
       "</table>\n",
       "</div>"
      ],
      "text/plain": [
       "       Country  Year  Population      Males    Females  Life_Expectancy  \\\n",
       "0  Afghanistan  1960   8996351.0  4649361.0  4346990.0        32.337561   \n",
       "\n",
       "            GDP                 Region  Elevation  Area_SqKM  \\\n",
       "0  5.377778e+08  West and Central Asia    1884.71   646212.0   \n",
       "\n",
       "   Centroid_Longitude  Centroid_Latitude  Population_Density  CO2_Emissions  \\\n",
       "0             66.1685           33.78231           13.921671        414.371   \n",
       "\n",
       "   Methane_Emissions  Nitrous_Oxide_Emisions  Total_Emissions  \\\n",
       "0                NaN                     NaN          414.371   \n",
       "\n",
       "   Emmisions_per_Capita  \n",
       "0              0.000046  "
      ]
     },
     "execution_count": 137,
     "metadata": {},
     "output_type": "execute_result"
    }
   ],
   "source": [
    "df.head(1)"
   ]
  },
  {
   "cell_type": "markdown",
   "metadata": {},
   "source": [
    "# Removing countries that have not won any medals \n",
    "We don't need any information on any countries outside of the countries who won medals. "
   ]
  },
  {
   "cell_type": "code",
   "execution_count": 138,
   "metadata": {
    "collapsed": true
   },
   "outputs": [],
   "source": [
    "# Ensure the file exists\n",
    "if not os.path.exists(  r\"../../data/raw/dictionary.csv\" ):\n",
    "    print(\"Missing dataset file\")"
   ]
  },
  {
   "cell_type": "code",
   "execution_count": 139,
   "metadata": {
    "collapsed": true
   },
   "outputs": [],
   "source": [
    "# read the dictionary df into a dataframe\n",
    "dfD = pd.read_csv(  r\"../../data/raw/dictionary.csv\", encoding = \"ISO-8859-1\")"
   ]
  },
  {
   "cell_type": "code",
   "execution_count": 140,
   "metadata": {},
   "outputs": [
    {
     "data": {
      "text/html": [
       "<div>\n",
       "<style>\n",
       "    .dataframe thead tr:only-child th {\n",
       "        text-align: right;\n",
       "    }\n",
       "\n",
       "    .dataframe thead th {\n",
       "        text-align: left;\n",
       "    }\n",
       "\n",
       "    .dataframe tbody tr th {\n",
       "        vertical-align: top;\n",
       "    }\n",
       "</style>\n",
       "<table border=\"1\" class=\"dataframe\">\n",
       "  <thead>\n",
       "    <tr style=\"text-align: right;\">\n",
       "      <th></th>\n",
       "      <th>Country</th>\n",
       "      <th>Code</th>\n",
       "      <th>Region</th>\n",
       "    </tr>\n",
       "  </thead>\n",
       "  <tbody>\n",
       "    <tr>\n",
       "      <th>0</th>\n",
       "      <td>Afghanistan</td>\n",
       "      <td>AFG</td>\n",
       "      <td>West and Central Asia</td>\n",
       "    </tr>\n",
       "  </tbody>\n",
       "</table>\n",
       "</div>"
      ],
      "text/plain": [
       "       Country Code                 Region\n",
       "0  Afghanistan  AFG  West and Central Asia"
      ]
     },
     "execution_count": 140,
     "metadata": {},
     "output_type": "execute_result"
    }
   ],
   "source": [
    "dfD.head(1)"
   ]
  },
  {
   "cell_type": "code",
   "execution_count": 141,
   "metadata": {
    "collapsed": true
   },
   "outputs": [],
   "source": [
    "# Ensure the file exists\n",
    "if not os.path.exists(  r\"..\\..\\data\\prep\\Games\\Games-950.csv\" ):\n",
    "    print(\"Missing dataset file\")"
   ]
  },
  {
   "cell_type": "code",
   "execution_count": 142,
   "metadata": {
    "collapsed": true
   },
   "outputs": [],
   "source": [
    "# read the medaldf df into a dataframe\n",
    "Medaldf = pd.read_csv(  r\"..\\..\\data\\prep\\Games\\Games-950.csv\", encoding = \"ISO-8859-1\")"
   ]
  },
  {
   "cell_type": "code",
   "execution_count": 143,
   "metadata": {},
   "outputs": [
    {
     "data": {
      "text/html": [
       "<div>\n",
       "<style>\n",
       "    .dataframe thead tr:only-child th {\n",
       "        text-align: right;\n",
       "    }\n",
       "\n",
       "    .dataframe thead th {\n",
       "        text-align: left;\n",
       "    }\n",
       "\n",
       "    .dataframe tbody tr th {\n",
       "        vertical-align: top;\n",
       "    }\n",
       "</style>\n",
       "<table border=\"1\" class=\"dataframe\">\n",
       "  <thead>\n",
       "    <tr style=\"text-align: right;\">\n",
       "      <th></th>\n",
       "      <th>Year</th>\n",
       "      <th>Host_Country</th>\n",
       "      <th>Host_City</th>\n",
       "      <th>Summer</th>\n",
       "      <th>Winter</th>\n",
       "      <th>Total_Males</th>\n",
       "      <th>Total_Females</th>\n",
       "      <th>Total_Athletes</th>\n",
       "      <th>Discipline</th>\n",
       "      <th>Sport</th>\n",
       "      <th>...</th>\n",
       "      <th>NOC</th>\n",
       "      <th>NOC_Males_Sent</th>\n",
       "      <th>NOC_Females_Sent</th>\n",
       "      <th>NOC_Total_Sent</th>\n",
       "      <th>NOC_Gold</th>\n",
       "      <th>NOC_Silver</th>\n",
       "      <th>NOC_Bronze</th>\n",
       "      <th>NOC_Total_Medals</th>\n",
       "      <th>NOC_Rating</th>\n",
       "      <th>NOC_Rank</th>\n",
       "    </tr>\n",
       "  </thead>\n",
       "  <tbody>\n",
       "    <tr>\n",
       "      <th>0</th>\n",
       "      <td>1960</td>\n",
       "      <td>ITA</td>\n",
       "      <td>Rome</td>\n",
       "      <td>True</td>\n",
       "      <td>False</td>\n",
       "      <td>4727</td>\n",
       "      <td>611</td>\n",
       "      <td>5338</td>\n",
       "      <td>Sailing</td>\n",
       "      <td>Sailing</td>\n",
       "      <td>...</td>\n",
       "      <td>ARG</td>\n",
       "      <td>91.0</td>\n",
       "      <td>0.0</td>\n",
       "      <td>91.0</td>\n",
       "      <td>0</td>\n",
       "      <td>3</td>\n",
       "      <td>1</td>\n",
       "      <td>4</td>\n",
       "      <td>7</td>\n",
       "      <td>26</td>\n",
       "    </tr>\n",
       "  </tbody>\n",
       "</table>\n",
       "<p>1 rows × 29 columns</p>\n",
       "</div>"
      ],
      "text/plain": [
       "   Year Host_Country Host_City Summer Winter  Total_Males  Total_Females  \\\n",
       "0  1960          ITA      Rome   True  False         4727            611   \n",
       "\n",
       "   Total_Athletes Discipline    Sport   ...     NOC NOC_Males_Sent  \\\n",
       "0            5338    Sailing  Sailing   ...     ARG           91.0   \n",
       "\n",
       "   NOC_Females_Sent  NOC_Total_Sent  NOC_Gold  NOC_Silver  NOC_Bronze  \\\n",
       "0               0.0            91.0         0           3           1   \n",
       "\n",
       "   NOC_Total_Medals  NOC_Rating NOC_Rank  \n",
       "0                 4           7       26  \n",
       "\n",
       "[1 rows x 29 columns]"
      ]
     },
     "execution_count": 143,
     "metadata": {},
     "output_type": "execute_result"
    }
   ],
   "source": [
    "Medaldf.head(1)"
   ]
  },
  {
   "cell_type": "code",
   "execution_count": 144,
   "metadata": {},
   "outputs": [
    {
     "data": {
      "text/plain": [
       "array(['ARG', 'AUS', 'AUT', 'BEL', 'BRA', 'BUL', 'BWI', 'CAN', 'DEN',\n",
       "       'EGY', 'ESP', 'ETH', 'EUA', 'FIN', 'FRA', 'GBR', 'GHA', 'GRE',\n",
       "       'HUN', 'IND', 'IRI', 'IRQ', 'ITA', 'JPN', 'MAR', 'MEX', 'NED',\n",
       "       'NOR', 'NZL', 'PAK', 'POL', 'POR', 'ROU', 'RSA', 'SGP', 'SUI',\n",
       "       'SWE', 'TCH', 'TPE', 'TUR', 'URS', 'USA', 'VEN', 'YUG', 'PRK',\n",
       "       'BAH', 'CUB', 'IRL', 'KEN', 'KOR', 'NGR', 'PHI', 'TTO', 'TUN',\n",
       "       'URU', 'FRG', 'GDR', 'CMR', 'JAM', 'MGL', 'UGA', 'COL', 'LBN',\n",
       "       'NIG', 'LIE', 'BER', 'PUR', 'THA', 'GUY', 'TAN', 'ZIM', 'ALG',\n",
       "       'CHN', 'CIV', 'DOM', 'ISL', 'PER', 'SYR', 'ZAM', 'AHO', 'CHI',\n",
       "       'CRC', 'DJI', 'INA', 'ISV', 'SEN', 'SUR', 'CRO', 'EST', 'EUN',\n",
       "       'GER', 'IOP', 'ISR', 'LAT', 'LTU', 'MAS', 'NAM', 'QAT', 'SLO',\n",
       "       'LUX', 'BLR', 'KAZ', 'RUS', 'UKR', 'UZB', 'ARM', 'AZE', 'BDI',\n",
       "       'CZE', 'ECU', 'GEO', 'HKG', 'MDA', 'MOZ', 'SVK', 'TGA', 'BAR',\n",
       "       'KGZ', 'KSA', 'KUW', 'MKD', 'SRI', 'VIE', 'ERI', 'PAR', 'SCG',\n",
       "       'UAE', 'AFG', 'MRI', 'PAN', 'SAM', 'SRB', 'SUD', 'TJK', 'TOG',\n",
       "       'BOT', 'BRN', 'CYP', 'GAB', 'GRN', 'GUA', 'MNE', 'FIJ', 'IOA',\n",
       "       'JOR', 'KOS', 'OAR'], dtype=object)"
      ]
     },
     "execution_count": 144,
     "metadata": {},
     "output_type": "execute_result"
    }
   ],
   "source": [
    "# These are the NOCs that matter \n",
    "Medaldf['NOC'].unique()"
   ]
  },
  {
   "cell_type": "markdown",
   "metadata": {},
   "source": [
    "# Getting the NOCs of each country in the Country df\n",
    "To do this I'll create a dictionary containing all the countries as keys and their NOCs as values. "
   ]
  },
  {
   "cell_type": "code",
   "execution_count": 145,
   "metadata": {
    "collapsed": true
   },
   "outputs": [],
   "source": [
    " countrydf = df"
   ]
  },
  {
   "cell_type": "code",
   "execution_count": 146,
   "metadata": {},
   "outputs": [
    {
     "data": {
      "text/plain": [
       "Index(['Country', 'Year', 'Population', 'Males', 'Females', 'Life_Expectancy',\n",
       "       'GDP', 'Region', 'Elevation', 'Area_SqKM', 'Centroid_Longitude',\n",
       "       'Centroid_Latitude', 'Population_Density', 'CO2_Emissions',\n",
       "       'Methane_Emissions', 'Nitrous_Oxide_Emisions', 'Total_Emissions',\n",
       "       'Emmisions_per_Capita'],\n",
       "      dtype='object')"
      ]
     },
     "execution_count": 146,
     "metadata": {},
     "output_type": "execute_result"
    }
   ],
   "source": [
    "countrydf.columns"
   ]
  },
  {
   "cell_type": "code",
   "execution_count": 147,
   "metadata": {
    "collapsed": true
   },
   "outputs": [],
   "source": [
    "# creating the dictionary \n",
    "countrydic = {}"
   ]
  },
  {
   "cell_type": "code",
   "execution_count": 148,
   "metadata": {
    "collapsed": true
   },
   "outputs": [],
   "source": [
    "# For that fills the country name, NOC dictionary \n",
    "dfD['Dic'] = None \n",
    "\n",
    "for x, row in dfD.iterrows():\n",
    "    \n",
    "    country = dfD['Country'].iloc[x]\n",
    "    code = dfD['Code'].iloc[x]\n",
    "    \n",
    "    countrydic.update({country: code})"
   ]
  },
  {
   "cell_type": "code",
   "execution_count": 149,
   "metadata": {},
   "outputs": [
    {
     "data": {
      "text/html": [
       "<div>\n",
       "<style>\n",
       "    .dataframe thead tr:only-child th {\n",
       "        text-align: right;\n",
       "    }\n",
       "\n",
       "    .dataframe thead th {\n",
       "        text-align: left;\n",
       "    }\n",
       "\n",
       "    .dataframe tbody tr th {\n",
       "        vertical-align: top;\n",
       "    }\n",
       "</style>\n",
       "<table border=\"1\" class=\"dataframe\">\n",
       "  <thead>\n",
       "    <tr style=\"text-align: right;\">\n",
       "      <th></th>\n",
       "      <th>Country</th>\n",
       "      <th>Year</th>\n",
       "      <th>Population</th>\n",
       "      <th>Males</th>\n",
       "      <th>Females</th>\n",
       "      <th>Life_Expectancy</th>\n",
       "      <th>GDP</th>\n",
       "      <th>Region</th>\n",
       "      <th>Elevation</th>\n",
       "      <th>Area_SqKM</th>\n",
       "      <th>Centroid_Longitude</th>\n",
       "      <th>Centroid_Latitude</th>\n",
       "      <th>Population_Density</th>\n",
       "      <th>CO2_Emissions</th>\n",
       "      <th>Methane_Emissions</th>\n",
       "      <th>Nitrous_Oxide_Emisions</th>\n",
       "      <th>Total_Emissions</th>\n",
       "      <th>Emmisions_per_Capita</th>\n",
       "    </tr>\n",
       "  </thead>\n",
       "  <tbody>\n",
       "    <tr>\n",
       "      <th>0</th>\n",
       "      <td>Afghanistan</td>\n",
       "      <td>1960</td>\n",
       "      <td>8996351.0</td>\n",
       "      <td>4649361.0</td>\n",
       "      <td>4346990.0</td>\n",
       "      <td>32.337561</td>\n",
       "      <td>5.377778e+08</td>\n",
       "      <td>West and Central Asia</td>\n",
       "      <td>1884.71</td>\n",
       "      <td>646212.0</td>\n",
       "      <td>66.1685</td>\n",
       "      <td>33.78231</td>\n",
       "      <td>13.921671</td>\n",
       "      <td>414.371</td>\n",
       "      <td>NaN</td>\n",
       "      <td>NaN</td>\n",
       "      <td>414.371</td>\n",
       "      <td>0.000046</td>\n",
       "    </tr>\n",
       "  </tbody>\n",
       "</table>\n",
       "</div>"
      ],
      "text/plain": [
       "       Country  Year  Population      Males    Females  Life_Expectancy  \\\n",
       "0  Afghanistan  1960   8996351.0  4649361.0  4346990.0        32.337561   \n",
       "\n",
       "            GDP                 Region  Elevation  Area_SqKM  \\\n",
       "0  5.377778e+08  West and Central Asia    1884.71   646212.0   \n",
       "\n",
       "   Centroid_Longitude  Centroid_Latitude  Population_Density  CO2_Emissions  \\\n",
       "0             66.1685           33.78231           13.921671        414.371   \n",
       "\n",
       "   Methane_Emissions  Nitrous_Oxide_Emisions  Total_Emissions  \\\n",
       "0                NaN                     NaN          414.371   \n",
       "\n",
       "   Emmisions_per_Capita  \n",
       "0              0.000046  "
      ]
     },
     "execution_count": 149,
     "metadata": {},
     "output_type": "execute_result"
    }
   ],
   "source": [
    "countrydf.head(1)"
   ]
  },
  {
   "cell_type": "code",
   "execution_count": 150,
   "metadata": {
    "collapsed": true
   },
   "outputs": [],
   "source": [
    "countrydic = {'Afghanistan': 'AFG',\n",
    " 'Albania': 'ALB',\n",
    " 'Algeria': 'ALG',\n",
    " 'American Samoa': 'ASA',\n",
    " 'Andorra': 'AND',\n",
    " 'Angola': 'ANG',\n",
    " 'Antigua and Barbuda': 'ANT',\n",
    " 'Argentina': 'ARG',\n",
    " 'Armenia': 'ARM',\n",
    " 'Aruba': 'ARU',\n",
    " 'Australia': 'AUS',\n",
    " 'Austria': 'AUT',\n",
    " 'Azerbaijan': 'AZE',\n",
    " 'Bahamas': 'BAH',\n",
    " 'Bahamas, The' : 'BAH',       \n",
    " 'Bahrain': 'BRN',\n",
    " 'Bangladesh': 'BAN',\n",
    " 'Barbados': 'BAR',\n",
    " 'Belarus': 'BLR',\n",
    " 'Belgium': 'BEL',\n",
    " 'Belize': 'BIZ',\n",
    " 'Benin': 'BEN',\n",
    " 'Bermuda': 'BER',\n",
    " 'Bhutan': 'BHU',\n",
    " 'Bolivia': 'BOL',\n",
    " 'Bosnia and Herzegovina': 'BIH',\n",
    " 'Botswana': 'BOT',\n",
    " 'Brazil': 'BRA',\n",
    " 'British Virgin Islands': 'IVB',\n",
    " 'Brunei Darussalam': 'BRU',\n",
    " 'Bulgaria': 'BUL',\n",
    " 'Burkina Faso': 'BUR',\n",
    " 'Burundi': 'BDI',\n",
    " 'Cabo Verde': 'CPV',\n",
    " 'Cambodia': 'CAM',\n",
    " 'Cameroon': 'CMR',\n",
    " 'Canada': 'CAN',\n",
    " 'Cayman Islands': 'CAY',\n",
    " 'Central African Republic': 'CAF',\n",
    " 'Chad': 'CHA',\n",
    " 'Chile': 'CHI',\n",
    " 'China': 'CHN',\n",
    " 'Colombia': 'COL',\n",
    " 'Comoros': 'COM',\n",
    " 'Congo, Dem Rep': 'COD', \n",
    " 'Congo, Dem. Rep.': 'COD', \n",
    " 'Costa Rica': 'CRC',\n",
    " \"Cote d'Ivoire\": 'CIV',\n",
    " 'Croatia': 'CRO',\n",
    " 'Cuba': 'CUB',\n",
    " 'Curacao': 'CUW',\n",
    " 'Cyprus': 'CYP',\n",
    " 'Czech Republic': 'CZE',\n",
    " 'Denmark': 'DEN',\n",
    " 'Djibouti': 'DJI',\n",
    " 'Dominica': 'DMA',\n",
    " 'Dominican Republic': 'DOM',\n",
    " 'Ecuador': 'ECU',\n",
    " 'Egypt Arab Rep': 'EGY',\n",
    " 'Egypt, Arab Rep.': 'EGY',\n",
    " 'El Salvador': 'ESA',\n",
    " 'Equatorial Guinea': 'GEQ',\n",
    " 'Eritrea': 'ERI',\n",
    " 'Estonia': 'EST',\n",
    " 'Ethiopia': 'ETH',\n",
    " 'Fiji': 'FIJ',\n",
    " 'Finland': 'FIN',\n",
    " 'France': 'FRA',\n",
    " 'Gabon': 'GAB',\n",
    " 'Gambia': 'GAM',\n",
    " 'Gambia, The': 'GAM',\n",
    " 'Georgia': 'GEO',\n",
    " 'Germany': 'GER',\n",
    " 'Ghana': 'GHA',\n",
    " 'Greece': 'GRE',\n",
    " 'Grenada': 'GRN',\n",
    " 'Guam': 'GUM',\n",
    " 'Guatemala': 'GUA',\n",
    " 'Guinea': 'GUI',\n",
    " 'Guinea-Bissau': 'GBS',\n",
    " 'Guyana': 'GUY',\n",
    " 'Haiti': 'HAI',\n",
    " 'Honduras': 'HON',\n",
    " 'Hong Kong SAR, China': 'HKG',\n",
    " 'Hungary': 'HUN',\n",
    " 'Iceland': 'ISL',\n",
    " 'India': 'IND',\n",
    " 'Indonesia': 'INA',\n",
    " 'Iran, Islamic Rep.': 'IRI',\n",
    " 'Iraq': 'IRQ',\n",
    " 'Ireland': 'IRL',\n",
    " 'Israel': 'ISR',\n",
    " 'Italy': 'ITA',\n",
    " 'Jamaica': 'JAM',\n",
    " 'Japan': 'JPN',\n",
    " 'Jordan': 'JOR',\n",
    " 'Kazakhstan': 'KAZ',\n",
    " 'Kenya': 'KEN',\n",
    " \"Korea, Dem. People\\x92s Rep.\": 'PRK',\n",
    " 'Korea, Dem. People?s Rep.': 'PRK',\n",
    " 'Korea, Rep.': 'KOR',\n",
    " 'Kosovo': 'KOS',\n",
    " 'Kuwait': 'KUW',\n",
    " 'Kyrgyz Republic': 'KGZ',\n",
    " 'Lao PDR': 'LAO',\n",
    " 'Latvia': 'LAT',\n",
    " 'Lebanon': 'LIB',\n",
    " 'Lesotho': 'LES',\n",
    " 'Liberia': 'LBR',\n",
    " 'Libya': 'LBA',\n",
    " 'Liechtenstein': 'LIE',\n",
    " 'Lithuania': 'LTU',\n",
    " 'Luxembourg': 'LUX',\n",
    " 'Macedonia, FYR': 'MKD',\n",
    " 'Madagascar': 'MAD',\n",
    " 'Malawi': 'MAW',\n",
    " 'Malaysia': 'MAS',\n",
    " 'Maldives': 'MDV',\n",
    " 'Mali': 'MLI',\n",
    " 'Malta': 'MLT',\n",
    " 'Mauritania': 'MTN',\n",
    " 'Mauritius': 'MRI',\n",
    " 'Mexico': 'MEX',\n",
    " 'Micronesia Fed. Sts.': 'FSM',\n",
    " 'Micronesia, Fed. Sts.': 'FSM', \n",
    " 'Moldova': 'MDA',\n",
    " 'Monaco': 'MON',\n",
    " 'Mongolia': 'MGL',\n",
    " 'Montenegro': 'MNE',\n",
    " 'Morocco': 'MAR',\n",
    " 'Mozambique': 'MOZ',\n",
    " 'Myanmar': 'MYA',\n",
    " 'Namibia': 'NAM',\n",
    " 'Nauru': 'NRU',\n",
    " 'Nepal': 'NEP',\n",
    " 'Netherlands': 'NED',\n",
    " 'New Zealand': 'NZL',\n",
    " 'Nicaragua': 'NCA',\n",
    " 'Niger': 'NIG',\n",
    " 'Nigeria': 'NGR',\n",
    " 'Norway': 'NOR',\n",
    " 'Oman': 'OMA',\n",
    " 'Pakistan': 'PAK',\n",
    " 'Palau': 'PLW',\n",
    " 'Panama': 'PAN',\n",
    " 'Papua New Guinea': 'PNG',\n",
    " 'Paraguay': 'PAR',\n",
    " 'Peru': 'PER',\n",
    " 'Philippines': 'PHI',\n",
    " 'Poland': 'POL',\n",
    " 'Portugal': 'POR',\n",
    " 'Puerto Rico': 'PUR',\n",
    " 'Qatar': 'QAT',\n",
    " 'Romania': 'ROU',\n",
    " 'Russian Federation': 'RUS',\n",
    " 'Rwanda': 'RWA',\n",
    " 'Samoa': 'SAM',\n",
    " 'San Marino': 'SMR',\n",
    " 'Sao Tome and Principe': 'STP',\n",
    " 'Saudi Arabia': 'KSA',\n",
    " 'Senegal': 'SEN',\n",
    " 'Serbia': 'SRB',\n",
    " 'Seychelles': 'SEY',\n",
    " 'Sierra Leone': 'SLE',\n",
    " 'Singapore': 'SGP',\n",
    " 'Slovak Republic': 'SVK',\n",
    " 'Slovenia': 'SLO',\n",
    " 'Solomon Islands': 'SOL',\n",
    " 'Somalia': 'SOM',\n",
    " 'South Africa': 'RSA',\n",
    " 'Spain': 'ESP',\n",
    " 'Sri Lanka': 'SRI',\n",
    " 'St. Kitts and Nevis': 'SKN',\n",
    " 'St. Lucia': 'LCA',\n",
    " 'St. Vincent and the Grenadines': 'VIN',\n",
    " 'Sudan': 'SUD',\n",
    " 'Suriname': 'SUR',\n",
    " 'Swaziland': 'SWZ',\n",
    " 'Sweden': 'SWE',\n",
    " 'Switzerland': 'SUI',\n",
    " 'Syrian Arab Republic': 'SYR',\n",
    " 'Tajikistan': 'TJK',\n",
    " 'Tanzania': 'TAN',\n",
    " 'Thailand': 'THA',\n",
    " 'Timor-Leste': 'TLS',\n",
    " 'Togo': 'TOG',\n",
    " 'Tonga': 'TGA',\n",
    " 'Trinidad and Tobago': 'TTO',\n",
    " 'Tunisia': 'TUN',\n",
    " 'Turkey': 'TUR',\n",
    " 'Turkmenistan': 'TKM',\n",
    " 'Uganda': 'UGA',\n",
    " 'Ukraine': 'UKR',\n",
    " 'United Arab Emirates': 'UAE',\n",
    " 'United Kingdom': 'GBR',\n",
    " 'United States': 'USA',\n",
    " 'Uruguay': 'URU',\n",
    " 'Uzbekistan': 'UZB',\n",
    " 'Vanuatu': 'VAN',\n",
    " 'Venezuela': 'VEN',\n",
    " 'Venezuela, RB' : 'VEN',\n",
    " 'Vietnam': 'VIE',\n",
    " 'Virgin Islands (US)': 'ISV',\n",
    " 'Virgin Islands (U.S.)': 'ISV',\n",
    " 'Yemen, Rep.': 'YEM',\n",
    " 'Zambia': 'ZAM',\n",
    " 'Zimbabwe': 'ZIM'}"
   ]
  },
  {
   "cell_type": "code",
   "execution_count": 151,
   "metadata": {
    "collapsed": true
   },
   "outputs": [],
   "source": [
    "# adding all the NOCs from the dictionary into the countrydf \n",
    "countrydf['Code'] = None \n",
    "\n",
    "for x, row in countrydf.iterrows():\n",
    "    \n",
    "    country = countrydf['Country'].iloc[x]\n",
    "    countrydf.loc[x, 'Code'] = countrydic[country]"
   ]
  },
  {
   "cell_type": "markdown",
   "metadata": {},
   "source": [
    "# Countries that change Nocs they are competing for\n",
    "The are a few cases were countires like germany and soviet union split and different countries within there bounds end up complete for different teams like the Unified olympic team. \n",
    "We'll will not address the issues of countries playing for different countries in this notebook for now we will just leave them in. \n",
    "The list below represents the countires that are invloved in cases where NOCs switch. "
   ]
  },
  {
   "cell_type": "markdown",
   "metadata": {},
   "source": [
    "* All these team switch NOCs or join another at one point.\n",
    "* We'll get the unique conturies and leave them in the country df and get values for their factors then in another notebook we can join them later to their respective NOCs. "
   ]
  },
  {
   "cell_type": "code",
   "execution_count": 152,
   "metadata": {
    "collapsed": true
   },
   "outputs": [],
   "source": [
    "members = ['Armenia','Azerbaijan','Belarus','Georgia','Kazakhstan','Kyrgyz Republic','Moldova',\n",
    "           'Russian Federation','Tajikistan','Turkmenistan','Ukraine','Uzbekistan','Latvia', \n",
    "            'Armenia','Belarus','Kazakhstan','Russian Federation','Uzbekistan',\n",
    "            'Serbia','Montenegro','Macedonia, FYR','Bosnia and Herzegovina','Slovenia','Croatia', \n",
    "            'Armenia', 'Belarus', 'Georgia', 'Kazakhstan', 'Kyrgyz Republic', \n",
    "            'Moldova','Russian Federation', 'Ukraine', 'Uzbekistan', 'Czech Republic','Slovak Republic', 'Serbia','Montenegro', \n",
    "           'Estonia', 'Lativa', 'Lithuania']"
   ]
  },
  {
   "cell_type": "code",
   "execution_count": 153,
   "metadata": {
    "collapsed": true
   },
   "outputs": [],
   "source": [
    "# now we can get the unique countries because some repeat in this list\n",
    "# We'll do this by changing it to a set then back to a list \n",
    "otherCslist = list(set(members))"
   ]
  },
  {
   "cell_type": "code",
   "execution_count": 154,
   "metadata": {
    "collapsed": true
   },
   "outputs": [],
   "source": [
    "# create a df for other countires above so we can get their country codes, by joining to the dictionary df  \n",
    "otherCsdf = pd.DataFrame(columns=['Country'])\n",
    "otherCsdf['Country'] = otherCslist"
   ]
  },
  {
   "cell_type": "code",
   "execution_count": 155,
   "metadata": {},
   "outputs": [
    {
     "data": {
      "text/html": [
       "<div>\n",
       "<style>\n",
       "    .dataframe thead tr:only-child th {\n",
       "        text-align: right;\n",
       "    }\n",
       "\n",
       "    .dataframe thead th {\n",
       "        text-align: left;\n",
       "    }\n",
       "\n",
       "    .dataframe tbody tr th {\n",
       "        vertical-align: top;\n",
       "    }\n",
       "</style>\n",
       "<table border=\"1\" class=\"dataframe\">\n",
       "  <thead>\n",
       "    <tr style=\"text-align: right;\">\n",
       "      <th></th>\n",
       "      <th>Country</th>\n",
       "    </tr>\n",
       "  </thead>\n",
       "  <tbody>\n",
       "    <tr>\n",
       "      <th>0</th>\n",
       "      <td>Slovak Republic</td>\n",
       "    </tr>\n",
       "  </tbody>\n",
       "</table>\n",
       "</div>"
      ],
      "text/plain": [
       "           Country\n",
       "0  Slovak Republic"
      ]
     },
     "execution_count": 155,
     "metadata": {},
     "output_type": "execute_result"
    }
   ],
   "source": [
    "# now we can join this to the dictonary and get all its Country codes \n",
    "otherCsdf.head(1)"
   ]
  },
  {
   "cell_type": "code",
   "execution_count": 156,
   "metadata": {},
   "outputs": [
    {
     "data": {
      "text/plain": [
       "24"
      ]
     },
     "execution_count": 156,
     "metadata": {},
     "output_type": "execute_result"
    }
   ],
   "source": [
    "len(otherCsdf)"
   ]
  },
  {
   "cell_type": "code",
   "execution_count": 157,
   "metadata": {
    "collapsed": true
   },
   "outputs": [],
   "source": [
    "# creating a temp dictionary so we can get the country codes for only the countries in this otherCsList\n",
    "tempDict = dfD\n",
    "# then we are removing all the rows with countries that are not in the otherCslist and creating a df\n",
    "# this df contains all the countries and country codes of the country that change NOcs that we need to keep with the Medaldf\n",
    "otherCsdf = tempDict[tempDict['Country'].isin(otherCslist)].reset_index()\n",
    "# Now we can remove the old index field because it is redudant \n",
    "otherCsdf = otherCsdf.drop(otherCsdf.columns[[0]], axis=1)"
   ]
  },
  {
   "cell_type": "code",
   "execution_count": 158,
   "metadata": {},
   "outputs": [
    {
     "data": {
      "text/plain": [
       "array(['ARM', 'AZE', 'BLR', 'BIH', 'CRO', 'CZE', 'EST', 'GEO', 'KAZ',\n",
       "       'KGZ', 'LAT', 'LTU', 'MKD', 'MDA', 'RUS', 'SRB', 'SVK', 'SLO',\n",
       "       'TJK', 'TKM', 'UKR', 'UZB', 'MNE'], dtype=object)"
      ]
     },
     "execution_count": 158,
     "metadata": {},
     "output_type": "execute_result"
    }
   ],
   "source": [
    "otherCsdf['Code'].unique()"
   ]
  },
  {
   "cell_type": "code",
   "execution_count": 159,
   "metadata": {
    "collapsed": true
   },
   "outputs": [],
   "source": [
    "otherCslist = ['ARM', 'AZE', 'BLR', 'BIH', 'CRO', 'CZE', 'GEO', 'KAZ', 'KGZ',\n",
    "       'LAT', 'MKD', 'MDA', 'RUS', 'SRB', 'SVK', 'SLO', 'TJK', 'TKM',\n",
    "       'UKR', 'UZB', 'MNE']"
   ]
  },
  {
   "cell_type": "markdown",
   "metadata": {},
   "source": [
    "# Adding the two lists so we'll have a list of only the countries we need for the final country df\n",
    "So we'll add this otherCslist to the unique Nocs in the medalDf and we'll have a list all of these countires "
   ]
  },
  {
   "cell_type": "code",
   "execution_count": 160,
   "metadata": {},
   "outputs": [
    {
     "data": {
      "text/plain": [
       "array(['ARG', 'AUS', 'AUT', 'BEL', 'BRA', 'BUL', 'BWI', 'CAN', 'DEN',\n",
       "       'EGY', 'ESP', 'ETH', 'EUA', 'FIN', 'FRA', 'GBR', 'GHA', 'GRE',\n",
       "       'HUN', 'IND', 'IRI', 'IRQ', 'ITA', 'JPN', 'MAR', 'MEX', 'NED',\n",
       "       'NOR', 'NZL', 'PAK', 'POL', 'POR', 'ROU', 'RSA', 'SGP', 'SUI',\n",
       "       'SWE', 'TCH', 'TPE', 'TUR', 'URS', 'USA', 'VEN', 'YUG', 'PRK',\n",
       "       'BAH', 'CUB', 'IRL', 'KEN', 'KOR', 'NGR', 'PHI', 'TTO', 'TUN',\n",
       "       'URU', 'FRG', 'GDR', 'CMR', 'JAM', 'MGL', 'UGA', 'COL', 'LBN',\n",
       "       'NIG', 'LIE', 'BER', 'PUR', 'THA', 'GUY', 'TAN', 'ZIM', 'ALG',\n",
       "       'CHN', 'CIV', 'DOM', 'ISL', 'PER', 'SYR', 'ZAM', 'AHO', 'CHI',\n",
       "       'CRC', 'DJI', 'INA', 'ISV', 'SEN', 'SUR', 'CRO', 'EST', 'EUN',\n",
       "       'GER', 'IOP', 'ISR', 'LAT', 'LTU', 'MAS', 'NAM', 'QAT', 'SLO',\n",
       "       'LUX', 'BLR', 'KAZ', 'RUS', 'UKR', 'UZB', 'ARM', 'AZE', 'BDI',\n",
       "       'CZE', 'ECU', 'GEO', 'HKG', 'MDA', 'MOZ', 'SVK', 'TGA', 'BAR',\n",
       "       'KGZ', 'KSA', 'KUW', 'MKD', 'SRI', 'VIE', 'ERI', 'PAR', 'SCG',\n",
       "       'UAE', 'AFG', 'MRI', 'PAN', 'SAM', 'SRB', 'SUD', 'TJK', 'TOG',\n",
       "       'BOT', 'BRN', 'CYP', 'GAB', 'GRN', 'GUA', 'MNE', 'FIJ', 'IOA',\n",
       "       'JOR', 'KOS', 'OAR'], dtype=object)"
      ]
     },
     "execution_count": 160,
     "metadata": {},
     "output_type": "execute_result"
    }
   ],
   "source": [
    "Medaldf['NOC'].unique()"
   ]
  },
  {
   "cell_type": "code",
   "execution_count": 161,
   "metadata": {
    "collapsed": true
   },
   "outputs": [],
   "source": [
    "MedaldfCs = ['ARG', 'AUS', 'AUT', 'BEL', 'BRA', 'BUL', 'BWI', 'CAN', 'DEN',\n",
    "       'EGY', 'ESP', 'ETH', 'EUA', 'FIN', 'FRA', 'GBR', 'GHA', 'GRE',\n",
    "       'HUN', 'IND', 'IRI', 'IRQ', 'ITA', 'JPN', 'MAR', 'MEX', 'NED',\n",
    "       'NOR', 'NZL', 'PAK', 'POL', 'POR', 'ROU', 'RSA', 'SGP', 'SUI',\n",
    "       'SWE', 'TCH', 'TPE', 'TUR', 'URS', 'USA', 'VEN', 'YUG', 'PRK',\n",
    "       'BAH', 'CUB', 'IRL', 'KEN', 'KOR', 'NGR', 'PHI', 'TTO', 'TUN',\n",
    "       'URU', 'FRG', 'GDR', 'CMR', 'JAM', 'MGL', 'UGA', 'COL', 'LBN',\n",
    "       'NIG', 'LIE', 'BER', 'PUR', 'THA', 'GUY', 'TAN', 'ZIM', 'ALG',\n",
    "       'CHN', 'CIV', 'DOM', 'ISL', 'PER', 'SYR', 'ZAM', 'AHO', 'CHI',\n",
    "       'CRC', 'DJI', 'INA', 'ISV', 'SEN', 'SUR', 'CRO', 'EST', 'EUN',\n",
    "       'GER', 'IOP', 'ISR', 'LAT', 'LTU', 'MAS', 'NAM', 'QAT', 'SLO',\n",
    "       'LUX', 'BLR', 'KAZ', 'RUS', 'UKR', 'UZB', 'ARM', 'AZE', 'BDI',\n",
    "       'CZE', 'ECU', 'GEO', 'HKG', 'MDA', 'MOZ', 'SVK', 'TGA', 'BAR',\n",
    "       'KGZ', 'KSA', 'KUW', 'MKD', 'SRI', 'VIE', 'ERI', 'PAR', 'SCG',\n",
    "       'UAE', 'AFG', 'MRI', 'PAN', 'SAM', 'SRB', 'SUD', 'TJK', 'TOG',\n",
    "       'BOT', 'BRN', 'CYP', 'GAB', 'GRN', 'GUA', 'MNE', 'FIJ', 'IOA',\n",
    "       'JOR', 'KOS', 'OAR']"
   ]
  },
  {
   "cell_type": "code",
   "execution_count": 162,
   "metadata": {
    "collapsed": true
   },
   "outputs": [],
   "source": [
    "# this is a list of the relevant countries \n",
    "RelCs = list(set(otherCslist + MedaldfCs))"
   ]
  },
  {
   "cell_type": "code",
   "execution_count": 163,
   "metadata": {},
   "outputs": [
    {
     "data": {
      "text/plain": [
       "['ROU',\n",
       " 'USA',\n",
       " 'VIE',\n",
       " 'BRN',\n",
       " 'TJK',\n",
       " 'AUS',\n",
       " 'EST',\n",
       " 'GHA',\n",
       " 'IND',\n",
       " 'ISV',\n",
       " 'GDR',\n",
       " 'TOG',\n",
       " 'QAT',\n",
       " 'IRQ',\n",
       " 'DEN',\n",
       " 'SUI',\n",
       " 'GER',\n",
       " 'TAN',\n",
       " 'UGA',\n",
       " 'SUD',\n",
       " 'UKR',\n",
       " 'INA',\n",
       " 'FIJ',\n",
       " 'KAZ',\n",
       " 'CIV',\n",
       " 'ERI',\n",
       " 'NOR',\n",
       " 'BLR',\n",
       " 'BRA',\n",
       " 'JAM',\n",
       " 'PUR',\n",
       " 'ECU',\n",
       " 'KUW',\n",
       " 'EUN',\n",
       " 'TKM',\n",
       " 'LAT',\n",
       " 'GEO',\n",
       " 'MGL',\n",
       " 'CRC',\n",
       " 'BOT',\n",
       " 'TCH',\n",
       " 'JOR',\n",
       " 'ISR',\n",
       " 'IOA',\n",
       " 'DOM',\n",
       " 'BAR',\n",
       " 'LIE',\n",
       " 'CUB',\n",
       " 'RUS',\n",
       " 'KEN',\n",
       " 'DJI',\n",
       " 'SGP',\n",
       " 'CHI',\n",
       " 'SAM',\n",
       " 'GBR',\n",
       " 'MDA',\n",
       " 'BER',\n",
       " 'SUR',\n",
       " 'LBN',\n",
       " 'KSA',\n",
       " 'MNE',\n",
       " 'CRO',\n",
       " 'FRG',\n",
       " 'IOP',\n",
       " 'GAB',\n",
       " 'ETH',\n",
       " 'SCG',\n",
       " 'ALG',\n",
       " 'URU',\n",
       " 'TTO',\n",
       " 'KOS',\n",
       " 'EUA',\n",
       " 'BAH',\n",
       " 'ITA',\n",
       " 'KOR',\n",
       " 'CZE',\n",
       " 'CAN',\n",
       " 'MKD',\n",
       " 'OAR',\n",
       " 'CYP',\n",
       " 'GRE',\n",
       " 'BUL',\n",
       " 'CMR',\n",
       " 'PER',\n",
       " 'SRI',\n",
       " 'NAM',\n",
       " 'ISL',\n",
       " 'SVK',\n",
       " 'BIH',\n",
       " 'SEN',\n",
       " 'MEX',\n",
       " 'NGR',\n",
       " 'PHI',\n",
       " 'ARG',\n",
       " 'HUN',\n",
       " 'BEL',\n",
       " 'PAK',\n",
       " 'MRI',\n",
       " 'SRB',\n",
       " 'ZIM',\n",
       " 'IRL',\n",
       " 'POL',\n",
       " 'URS',\n",
       " 'NED',\n",
       " 'POR',\n",
       " 'KGZ',\n",
       " 'NIG',\n",
       " 'TPE',\n",
       " 'CHN',\n",
       " 'PAN',\n",
       " 'COL',\n",
       " 'YUG',\n",
       " 'RSA',\n",
       " 'THA',\n",
       " 'EGY',\n",
       " 'TGA',\n",
       " 'AZE',\n",
       " 'FRA',\n",
       " 'SYR',\n",
       " 'TUR',\n",
       " 'MOZ',\n",
       " 'ARM',\n",
       " 'LTU',\n",
       " 'MAS',\n",
       " 'HKG',\n",
       " 'BDI',\n",
       " 'IRI',\n",
       " 'MAR',\n",
       " 'NZL',\n",
       " 'LUX',\n",
       " 'JPN',\n",
       " 'PAR',\n",
       " 'ESP',\n",
       " 'VEN',\n",
       " 'SLO',\n",
       " 'ZAM',\n",
       " 'UAE',\n",
       " 'TUN',\n",
       " 'AHO',\n",
       " 'BWI',\n",
       " 'UZB',\n",
       " 'SWE',\n",
       " 'GRN',\n",
       " 'GUY',\n",
       " 'AFG',\n",
       " 'AUT',\n",
       " 'FIN',\n",
       " 'GUA',\n",
       " 'PRK']"
      ]
     },
     "execution_count": 163,
     "metadata": {},
     "output_type": "execute_result"
    }
   ],
   "source": [
    "RelCs"
   ]
  },
  {
   "cell_type": "markdown",
   "metadata": {},
   "source": [
    "# Finally removing all the irrelevant countries from the country df\n",
    "We'll remove all the rows from the country df that are not in this RelCs list above"
   ]
  },
  {
   "cell_type": "code",
   "execution_count": 164,
   "metadata": {
    "collapsed": true
   },
   "outputs": [],
   "source": [
    "countrydf = countrydf[countrydf['Code'].isin(RelCs)].reset_index()\n",
    "# Now we can remove the old index field because it is redudant \n",
    "countrydf = countrydf.drop(countrydf.columns[[0]], axis=1)"
   ]
  },
  {
   "cell_type": "markdown",
   "metadata": {},
   "source": [
    "# This country dataFrame now only contains the relevant countires who have won medals"
   ]
  },
  {
   "cell_type": "code",
   "execution_count": 165,
   "metadata": {},
   "outputs": [
    {
     "data": {
      "text/html": [
       "<div>\n",
       "<style>\n",
       "    .dataframe thead tr:only-child th {\n",
       "        text-align: right;\n",
       "    }\n",
       "\n",
       "    .dataframe thead th {\n",
       "        text-align: left;\n",
       "    }\n",
       "\n",
       "    .dataframe tbody tr th {\n",
       "        vertical-align: top;\n",
       "    }\n",
       "</style>\n",
       "<table border=\"1\" class=\"dataframe\">\n",
       "  <thead>\n",
       "    <tr style=\"text-align: right;\">\n",
       "      <th></th>\n",
       "      <th>Country</th>\n",
       "      <th>Year</th>\n",
       "      <th>Population</th>\n",
       "      <th>Males</th>\n",
       "      <th>Females</th>\n",
       "      <th>Life_Expectancy</th>\n",
       "      <th>GDP</th>\n",
       "      <th>Region</th>\n",
       "      <th>Elevation</th>\n",
       "      <th>Area_SqKM</th>\n",
       "      <th>Centroid_Longitude</th>\n",
       "      <th>Centroid_Latitude</th>\n",
       "      <th>Population_Density</th>\n",
       "      <th>CO2_Emissions</th>\n",
       "      <th>Methane_Emissions</th>\n",
       "      <th>Nitrous_Oxide_Emisions</th>\n",
       "      <th>Total_Emissions</th>\n",
       "      <th>Emmisions_per_Capita</th>\n",
       "      <th>Code</th>\n",
       "    </tr>\n",
       "  </thead>\n",
       "  <tbody>\n",
       "    <tr>\n",
       "      <th>0</th>\n",
       "      <td>Afghanistan</td>\n",
       "      <td>1960</td>\n",
       "      <td>8996351.0</td>\n",
       "      <td>4649361.0</td>\n",
       "      <td>4346990.0</td>\n",
       "      <td>32.337561</td>\n",
       "      <td>5.377778e+08</td>\n",
       "      <td>West and Central Asia</td>\n",
       "      <td>1884.71</td>\n",
       "      <td>646212.0</td>\n",
       "      <td>66.1685</td>\n",
       "      <td>33.78231</td>\n",
       "      <td>13.921671</td>\n",
       "      <td>414.371</td>\n",
       "      <td>NaN</td>\n",
       "      <td>NaN</td>\n",
       "      <td>414.371</td>\n",
       "      <td>0.000046</td>\n",
       "      <td>AFG</td>\n",
       "    </tr>\n",
       "  </tbody>\n",
       "</table>\n",
       "</div>"
      ],
      "text/plain": [
       "       Country  Year  Population      Males    Females  Life_Expectancy  \\\n",
       "0  Afghanistan  1960   8996351.0  4649361.0  4346990.0        32.337561   \n",
       "\n",
       "            GDP                 Region  Elevation  Area_SqKM  \\\n",
       "0  5.377778e+08  West and Central Asia    1884.71   646212.0   \n",
       "\n",
       "   Centroid_Longitude  Centroid_Latitude  Population_Density  CO2_Emissions  \\\n",
       "0             66.1685           33.78231           13.921671        414.371   \n",
       "\n",
       "   Methane_Emissions  Nitrous_Oxide_Emisions  Total_Emissions  \\\n",
       "0                NaN                     NaN          414.371   \n",
       "\n",
       "   Emmisions_per_Capita Code  \n",
       "0              0.000046  AFG  "
      ]
     },
     "execution_count": 165,
     "metadata": {},
     "output_type": "execute_result"
    }
   ],
   "source": [
    "df = countrydf\n",
    "df.head(1)"
   ]
  },
  {
   "cell_type": "code",
   "execution_count": 166,
   "metadata": {
    "collapsed": true
   },
   "outputs": [],
   "source": [
    "df.to_csv( r\"../../data/prep/Countries/countries_250.csv\", index=False)"
   ]
  },
  {
   "cell_type": "code",
   "execution_count": null,
   "metadata": {
    "collapsed": true
   },
   "outputs": [],
   "source": []
  },
  {
   "cell_type": "code",
   "execution_count": null,
   "metadata": {
    "collapsed": true
   },
   "outputs": [],
   "source": []
  },
  {
   "cell_type": "code",
   "execution_count": null,
   "metadata": {
    "collapsed": true
   },
   "outputs": [],
   "source": []
  },
  {
   "cell_type": "code",
   "execution_count": null,
   "metadata": {
    "collapsed": true
   },
   "outputs": [],
   "source": []
  }
 ],
 "metadata": {
  "kernelspec": {
   "display_name": "Python 3",
   "language": "python",
   "name": "python3"
  },
  "language_info": {
   "codemirror_mode": {
    "name": "ipython",
    "version": 3
   },
   "file_extension": ".py",
   "mimetype": "text/x-python",
   "name": "python",
   "nbconvert_exporter": "python",
   "pygments_lexer": "ipython3",
   "version": "3.6.3"
  }
 },
 "nbformat": 4,
 "nbformat_minor": 2
}
