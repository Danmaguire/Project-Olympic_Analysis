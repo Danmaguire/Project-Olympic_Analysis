{
 "cells": [
  {
   "cell_type": "markdown",
   "metadata": {},
   "source": [
    "# Notebook for Total Atheltes split male and female\n",
    "From the last notebook we created a csv file or dataframe with all the number of athletes split into male, female and total for every country for every summer and winter games. Now we wnat to get the total males, females and total for each of the host city and countires so we can add it to our other prevoiusly created csv which contained all the information on the medal winners. "
   ]
  },
  {
   "cell_type": "code",
   "execution_count": 1,
   "metadata": {
    "collapsed": true
   },
   "outputs": [],
   "source": [
    "import os.path\n",
    "import pandas as pd\n",
    "import numpy as np\n",
    "import matplotlib.pyplot as plt\n",
    "import math\n",
    "%matplotlib inline\n",
    "from bs4 import BeautifulSoup\n",
    "import webbrowser\n",
    "import urllib.request\n",
    "from lxml import html\n",
    "import zipfile\n",
    "import re\n",
    "import string\n",
    "import sys, os\n",
    "from IPython.display import Image"
   ]
  },
  {
   "cell_type": "code",
   "execution_count": 2,
   "metadata": {
    "collapsed": true
   },
   "outputs": [],
   "source": [
    "# Ensure the file exists\n",
    "if not os.path.exists( r\"..\\..\\data\\prep\\Games\\Games-600.csv\"):\n",
    "    print(\"Missing dataset file\")"
   ]
  },
  {
   "cell_type": "code",
   "execution_count": 8,
   "metadata": {
    "collapsed": true
   },
   "outputs": [],
   "source": [
    "df = pd.read_csv( r\"..\\..\\data\\prep\\Games\\Games-600.csv\", encoding = \"ISO-8859-1\")"
   ]
  },
  {
   "cell_type": "code",
   "execution_count": 9,
   "metadata": {},
   "outputs": [
    {
     "data": {
      "text/html": [
       "<div>\n",
       "<style>\n",
       "    .dataframe thead tr:only-child th {\n",
       "        text-align: right;\n",
       "    }\n",
       "\n",
       "    .dataframe thead th {\n",
       "        text-align: left;\n",
       "    }\n",
       "\n",
       "    .dataframe tbody tr th {\n",
       "        vertical-align: top;\n",
       "    }\n",
       "</style>\n",
       "<table border=\"1\" class=\"dataframe\">\n",
       "  <thead>\n",
       "    <tr style=\"text-align: right;\">\n",
       "      <th></th>\n",
       "      <th>NOC</th>\n",
       "      <th>M</th>\n",
       "      <th>F</th>\n",
       "      <th>Total</th>\n",
       "      <th>Year</th>\n",
       "      <th>Host_Country</th>\n",
       "      <th>Host_City</th>\n",
       "      <th>Summer</th>\n",
       "      <th>Winter</th>\n",
       "    </tr>\n",
       "  </thead>\n",
       "  <tbody>\n",
       "    <tr>\n",
       "      <th>0</th>\n",
       "      <td>EGY</td>\n",
       "      <td>74</td>\n",
       "      <td>0</td>\n",
       "      <td>74</td>\n",
       "      <td>1960</td>\n",
       "      <td>ITA</td>\n",
       "      <td>Rome</td>\n",
       "      <td>True</td>\n",
       "      <td>False</td>\n",
       "    </tr>\n",
       "    <tr>\n",
       "      <th>1</th>\n",
       "      <td>ETH</td>\n",
       "      <td>9</td>\n",
       "      <td>0</td>\n",
       "      <td>9</td>\n",
       "      <td>1960</td>\n",
       "      <td>ITA</td>\n",
       "      <td>Rome</td>\n",
       "      <td>True</td>\n",
       "      <td>False</td>\n",
       "    </tr>\n",
       "    <tr>\n",
       "      <th>2</th>\n",
       "      <td>GHA</td>\n",
       "      <td>13</td>\n",
       "      <td>0</td>\n",
       "      <td>13</td>\n",
       "      <td>1960</td>\n",
       "      <td>ITA</td>\n",
       "      <td>Rome</td>\n",
       "      <td>True</td>\n",
       "      <td>False</td>\n",
       "    </tr>\n",
       "  </tbody>\n",
       "</table>\n",
       "</div>"
      ],
      "text/plain": [
       "   NOC   M  F  Total  Year Host_Country Host_City  Summer  Winter\n",
       "0  EGY  74  0     74  1960          ITA      Rome    True   False\n",
       "1  ETH   9  0      9  1960          ITA      Rome    True   False\n",
       "2  GHA  13  0     13  1960          ITA      Rome    True   False"
      ]
     },
     "execution_count": 9,
     "metadata": {},
     "output_type": "execute_result"
    }
   ],
   "source": [
    "# looking at the previously created df with all the athlete number information  \n",
    "df.head(3)"
   ]
  },
  {
   "cell_type": "code",
   "execution_count": 10,
   "metadata": {},
   "outputs": [],
   "source": [
    "dfT = df.groupby(['Year', 'Host_Country', 'Host_City'])[[\"M\", \"F\", \"Total\"]].sum()\n",
    "dfT = dfT.reset_index()"
   ]
  },
  {
   "cell_type": "code",
   "execution_count": 12,
   "metadata": {
    "collapsed": true
   },
   "outputs": [],
   "source": [
    "# Ensure the file exists\n",
    "if not os.path.exists(r\"..\\..\\data\\prep\\Games\\Games-500.csv\" ):\n",
    "    print(\"Missing dataset file\")"
   ]
  },
  {
   "cell_type": "code",
   "execution_count": 13,
   "metadata": {
    "collapsed": true
   },
   "outputs": [],
   "source": [
    "df = pd.read_csv( r\"..\\..\\data\\prep\\Games\\Games-500.csv\", encoding = \"ISO-8859-1\")"
   ]
  },
  {
   "cell_type": "markdown",
   "metadata": {},
   "source": [
    "# Joining the tables\n",
    "in order to join these two tables I'll have to index them with the same fields."
   ]
  },
  {
   "cell_type": "code",
   "execution_count": 14,
   "metadata": {
    "collapsed": true
   },
   "outputs": [],
   "source": [
    "# I'll set the index of the original dataframe to Year, Host_Country and host_City so I can join it to the total athletes df\n",
    "df = df.set_index(['Year', 'Host_Country', 'Host_City'])"
   ]
  },
  {
   "cell_type": "code",
   "execution_count": 15,
   "metadata": {
    "collapsed": true
   },
   "outputs": [],
   "source": [
    "# Now I'll do the same to the total table so I can join them \n",
    "dfT = dfT.set_index(['Year', 'Host_Country', 'Host_City'])"
   ]
  },
  {
   "cell_type": "code",
   "execution_count": 16,
   "metadata": {},
   "outputs": [
    {
     "data": {
      "text/html": [
       "<div>\n",
       "<style>\n",
       "    .dataframe thead tr:only-child th {\n",
       "        text-align: right;\n",
       "    }\n",
       "\n",
       "    .dataframe thead th {\n",
       "        text-align: left;\n",
       "    }\n",
       "\n",
       "    .dataframe tbody tr th {\n",
       "        vertical-align: top;\n",
       "    }\n",
       "</style>\n",
       "<table border=\"1\" class=\"dataframe\">\n",
       "  <thead>\n",
       "    <tr style=\"text-align: right;\">\n",
       "      <th></th>\n",
       "      <th></th>\n",
       "      <th></th>\n",
       "      <th>Summer</th>\n",
       "      <th>Winter</th>\n",
       "      <th>Discipline</th>\n",
       "      <th>Sport</th>\n",
       "      <th>Ath_Name</th>\n",
       "      <th>Gender</th>\n",
       "      <th>NOC</th>\n",
       "      <th>Home_Adv</th>\n",
       "      <th>Gold</th>\n",
       "      <th>Silver</th>\n",
       "      <th>Bronze</th>\n",
       "      <th>Total_Medals</th>\n",
       "    </tr>\n",
       "    <tr>\n",
       "      <th>Year</th>\n",
       "      <th>Host_Country</th>\n",
       "      <th>Host_City</th>\n",
       "      <th></th>\n",
       "      <th></th>\n",
       "      <th></th>\n",
       "      <th></th>\n",
       "      <th></th>\n",
       "      <th></th>\n",
       "      <th></th>\n",
       "      <th></th>\n",
       "      <th></th>\n",
       "      <th></th>\n",
       "      <th></th>\n",
       "      <th></th>\n",
       "    </tr>\n",
       "  </thead>\n",
       "  <tbody>\n",
       "    <tr>\n",
       "      <th>1980</th>\n",
       "      <th>USA</th>\n",
       "      <th>Lake Placid</th>\n",
       "      <td>False</td>\n",
       "      <td>True</td>\n",
       "      <td>Ice Hockey</td>\n",
       "      <td>Ice Hockey</td>\n",
       "      <td>AAHLBERG, Mats</td>\n",
       "      <td>M</td>\n",
       "      <td>SWE</td>\n",
       "      <td>False</td>\n",
       "      <td>0</td>\n",
       "      <td>0</td>\n",
       "      <td>1</td>\n",
       "      <td>1</td>\n",
       "    </tr>\n",
       "  </tbody>\n",
       "</table>\n",
       "</div>"
      ],
      "text/plain": [
       "                               Summer  Winter  Discipline       Sport  \\\n",
       "Year Host_Country Host_City                                             \n",
       "1980 USA          Lake Placid   False    True  Ice Hockey  Ice Hockey   \n",
       "\n",
       "                                     Ath_Name Gender  NOC  Home_Adv  Gold  \\\n",
       "Year Host_Country Host_City                                                 \n",
       "1980 USA          Lake Placid  AAHLBERG, Mats      M  SWE     False     0   \n",
       "\n",
       "                               Silver  Bronze  Total_Medals  \n",
       "Year Host_Country Host_City                                  \n",
       "1980 USA          Lake Placid       0       1             1  "
      ]
     },
     "execution_count": 16,
     "metadata": {},
     "output_type": "execute_result"
    }
   ],
   "source": [
    "df.head(1)"
   ]
  },
  {
   "cell_type": "code",
   "execution_count": 17,
   "metadata": {
    "collapsed": true
   },
   "outputs": [],
   "source": [
    "# It'll be possible to join the medal df to the total athlete df because they share the same indexes\n",
    "# I just have to include which of the fields from the medal df I want to include in the join (which is all of them)\n",
    "df = df[['Discipline','Gender', 'NOC', 'Sport', 'Summer', 'Winter', 'Ath_Name', 'Home_Adv', 'Gold', 'Silver', 'Bronze', 'Total_Medals']].join(dfT).reset_index()"
   ]
  },
  {
   "cell_type": "code",
   "execution_count": 18,
   "metadata": {
    "collapsed": true
   },
   "outputs": [],
   "source": [
    "# Changing the field names for the athlete numbers   \n",
    "df.rename(columns={'M': 'Total_Males'}, inplace=True)\n",
    "df.rename(columns={'F': 'Total_Females'}, inplace=True)\n",
    "df.rename(columns={'Total': 'Total_Athletes'}, inplace=True)"
   ]
  },
  {
   "cell_type": "code",
   "execution_count": 19,
   "metadata": {
    "collapsed": true
   },
   "outputs": [],
   "source": [
    "# Changing the order of the columns \n",
    "df = df[['Year', 'Host_City', 'Host_Country', 'Total_Males', 'Total_Females', 'Total_Athletes', 'Summer', 'Winter', 'Discipline','Sport',\n",
    "              'Ath_Name', 'Gender', 'NOC', 'Home_Adv', 'Gold', 'Silver', 'Bronze', 'Total_Medals']]"
   ]
  },
  {
   "cell_type": "code",
   "execution_count": 22,
   "metadata": {
    "collapsed": true
   },
   "outputs": [],
   "source": [
    "df.to_csv(r\"..\\..\\data\\prep\\Games\\Games-700.csv\", index=False)"
   ]
  },
  {
   "cell_type": "code",
   "execution_count": null,
   "metadata": {
    "collapsed": true
   },
   "outputs": [],
   "source": []
  }
 ],
 "metadata": {
  "kernelspec": {
   "display_name": "Python 3",
   "language": "python",
   "name": "python3"
  },
  "language_info": {
   "codemirror_mode": {
    "name": "ipython",
    "version": 3
   },
   "file_extension": ".py",
   "mimetype": "text/x-python",
   "name": "python",
   "nbconvert_exporter": "python",
   "pygments_lexer": "ipython3",
   "version": "3.6.3"
  }
 },
 "nbformat": 4,
 "nbformat_minor": 2
}
