{
 "cells": [
  {
   "cell_type": "markdown",
   "metadata": {},
   "source": [
    "# NoteBook for numbers of Athletes \n",
    "This is the notebook for getting the information on the number of athletes and gender split for every country at every games. Then files where given to us by the Olympic Study Center "
   ]
  },
  {
   "cell_type": "code",
   "execution_count": 7,
   "metadata": {
    "collapsed": true
   },
   "outputs": [],
   "source": [
    "import os.path\n",
    "import pandas as pd\n",
    "import numpy as np\n",
    "import matplotlib.pyplot as plt\n",
    "import math\n",
    "%matplotlib inline\n",
    "from bs4 import BeautifulSoup\n",
    "import webbrowser\n",
    "import urllib.request\n",
    "from lxml import html\n",
    "import zipfile\n",
    "import re\n",
    "import string\n",
    "import sys, os\n",
    "from IPython.display import Image"
   ]
  },
  {
   "cell_type": "markdown",
   "metadata": {},
   "source": [
    "# The Summer Olympics File\n",
    "* Two xls files sent to us by the olympic study center contained information on the number of athletes split male and females sent to each of the Olympic games by each country. The first was the summer games. \n",
    "* Each summer games had its own xls sheet titled just by the year of that games.\n",
    "* The was some useless information on each of the sheets that we had to get rid of first then we could start to extract the numbers.\n",
    "* After that we had to change the layout of the xls files in order to turn it into a useable dataframe. "
   ]
  },
  {
   "cell_type": "markdown",
   "metadata": {},
   "source": [
    "\n",
    "* This is an example of what a sheet would look like. So what we wanted to do was join these five section together to make a df for that given year. With the end goal of then joining all the years to have a big dataFrame with the number of all athletes sent from all countrys for every summer gmaes. "
   ]
  },
  {
   "cell_type": "markdown",
   "metadata": {},
   "source": [
    "![title](..\\..\\data\\raw\\Study_center\\xlsEG.PNG)"
   ]
  },
  {
   "cell_type": "code",
   "execution_count": 8,
   "metadata": {
    "collapsed": true
   },
   "outputs": [],
   "source": [
    "# Ensure the file exists\n",
    "if not os.path.exists( r\"..\\..\\data\\raw\\Study_Center\\SummerGamesATH.xlsx\" ):\n",
    "    print(\"Missing dataset file\")"
   ]
  },
  {
   "cell_type": "code",
   "execution_count": 9,
   "metadata": {
    "collapsed": true
   },
   "outputs": [],
   "source": [
    "# reading in the xls file \n",
    "xlsS = pd.ExcelFile(r\"..\\..\\data\\raw\\Study_Center\\SummerGamesATH.xlsx\")"
   ]
  },
  {
   "cell_type": "markdown",
   "metadata": {},
   "source": [
    "We are also going to add the city and country that hosted the gmaes of the given year. "
   ]
  },
  {
   "cell_type": "code",
   "execution_count": 10,
   "metadata": {
    "collapsed": true
   },
   "outputs": [],
   "source": [
    "# Dictionary for the host countries key is the year of the games and the country is the value \n",
    "countrySDict =  {2012: 'UK', 2016: 'BRA', 1976: 'CAN', 1964: 'JPN', 1984: 'USA', 1996: 'USA', 1960: 'ITA', 2004: 'GRC', 2008: 'CHN', 1988: 'KOR', 1992: 'ESP', 2000: \n",
    "       'AUS', 1972: 'DEU', 1968: 'MEX', 1980: 'RUS' }"
   ]
  },
  {
   "cell_type": "code",
   "execution_count": 11,
   "metadata": {
    "collapsed": true
   },
   "outputs": [],
   "source": [
    "# Dictionary for the host cities key is the year of the games and the city is the value \n",
    "citySDict = { 2008: 'Beijing', 1988: 'Seoul', 1996: 'Atlanta', 2016: 'Rio', 2012: 'London', 2000: 'Sydney', 2004: 'Athens',\n",
    "      1980: 'Moscow', 1984: 'Los Angeles', 1992: 'Barcelone', 1964: 'Tokyo', 1968: 'Mexico', 1972: 'Munich', 1976:\n",
    "       'Montréal', 1960: 'Rome'}"
   ]
  },
  {
   "cell_type": "code",
   "execution_count": 12,
   "metadata": {
    "collapsed": true
   },
   "outputs": [],
   "source": [
    "# Emoty list to hold the dataFrames one for each summer games \n",
    "SdataFrameList = []\n",
    "# Starting with the 1960 olympics \n",
    "year = 1960\n",
    "\n",
    "# For loop of 15 iterations one for every sheet/ games in the xls file \n",
    "for x in range(15):\n",
    "    df = pd.read_excel(xlsS, str(year))\n",
    "\n",
    "    #First we'll drop all the null columns with no information \n",
    "    df = df.drop(df.columns[[4, 9, 14, 19]], axis=1)\n",
    "    \n",
    "    # Then we created a small df fro each of the 5 dfs of 4 coulmns seen in the image above \n",
    "    j1 = df[['NOC', 'M', 'F', 'Total']].copy()\n",
    "    j2 = df[['NOC.1', 'M.1', 'F.1', 'Total.1']].copy()\n",
    "    j3 = df[['NOC.2', 'M.2', 'F.2', 'Total.2']].copy()\n",
    "    j4 = df[['NOC.3', 'M.3', 'F.3', 'Total.3']].copy()\n",
    "    j5 = df[['NOC.4', 'M.4', 'F.4', 'Total.4']].copy()\n",
    "    \n",
    "    # then we created a list of the names of each column so we could change all the sub dfs column to be the same for joining \n",
    "    j2n = list(j2)\n",
    "    j3n = list(j3)\n",
    "    j4n = list(j4)\n",
    "    j5n = list(j5)\n",
    "    \n",
    "    # Then we could rename the columns of the 5 smaller dfs\n",
    "    j2 = j2.rename(columns={ j2n[0]: 'NOC', j2n[1]: 'M', j2n[2]: 'F', j2n[3]: 'Total'})\n",
    "    j3 = j3.rename(columns={ j3n[0]: 'NOC', j3n[1]: 'M', j3n[2]: 'F', j3n[3]: 'Total'})\n",
    "    j4 = j4.rename(columns={ j4n[0]: 'NOC', j4n[1]: 'M', j4n[2]: 'F', j4n[3]: 'Total'})\n",
    "    j5 = j5.rename(columns={ j5n[0]: 'NOC', j5n[1]: 'M', j5n[2]: 'F', j5n[3]: 'Total'})\n",
    "    \n",
    "    # Here we are joining the 5 smaller dfs and making one big one\n",
    "    df = pd.concat([j1, j2, j3, j4, j5], ignore_index=True)\n",
    "    \n",
    "    # Dropping all the null values these null rows would be the whitespace rows seen in the image above \n",
    "    df = df.dropna(axis=0, how='any')\n",
    "    \n",
    "    # Adding a year column with the year of the given games \n",
    "    df['Year'] = year\n",
    "    \n",
    "    # Adding the host country column referencing its respective dictionary  \n",
    "    df['Host_Country'] = countrySDict[year]\n",
    "    \n",
    "   # Adding the host country column referencing its respective dictionary   \n",
    "    df['Host_City'] = citySDict[year]\n",
    "    \n",
    "    # Creating a list of dataframes each df in the list represents the numbers from one summer games \n",
    "    SdataFrameList.append(df)\n",
    "    \n",
    "    # Changing the year to reference the next sheet in the xls file\n",
    "    year = year + 4    "
   ]
  },
  {
   "cell_type": "code",
   "execution_count": 13,
   "metadata": {
    "collapsed": true
   },
   "outputs": [],
   "source": [
    "# Now we create the final dataFrame containing all the summer games and the infomration on athletes sent \n",
    "sumdf = pd.concat(SdataFrameList, ignore_index=True)"
   ]
  },
  {
   "cell_type": "code",
   "execution_count": 14,
   "metadata": {
    "collapsed": true
   },
   "outputs": [],
   "source": [
    "# creating the summer and winter games bolleans\n",
    "sumdf['Summer']= True\n",
    "sumdf['Winter']= False"
   ]
  },
  {
   "cell_type": "code",
   "execution_count": 15,
   "metadata": {},
   "outputs": [
    {
     "data": {
      "text/html": [
       "<div>\n",
       "<style>\n",
       "    .dataframe thead tr:only-child th {\n",
       "        text-align: right;\n",
       "    }\n",
       "\n",
       "    .dataframe thead th {\n",
       "        text-align: left;\n",
       "    }\n",
       "\n",
       "    .dataframe tbody tr th {\n",
       "        vertical-align: top;\n",
       "    }\n",
       "</style>\n",
       "<table border=\"1\" class=\"dataframe\">\n",
       "  <thead>\n",
       "    <tr style=\"text-align: right;\">\n",
       "      <th></th>\n",
       "      <th>NOC</th>\n",
       "      <th>M</th>\n",
       "      <th>F</th>\n",
       "      <th>Total</th>\n",
       "      <th>Year</th>\n",
       "      <th>Host_Country</th>\n",
       "      <th>Host_City</th>\n",
       "      <th>Summer</th>\n",
       "      <th>Winter</th>\n",
       "    </tr>\n",
       "  </thead>\n",
       "  <tbody>\n",
       "    <tr>\n",
       "      <th>0</th>\n",
       "      <td>EGY</td>\n",
       "      <td>74.0</td>\n",
       "      <td>0.0</td>\n",
       "      <td>74.0</td>\n",
       "      <td>1960</td>\n",
       "      <td>ITA</td>\n",
       "      <td>Rome</td>\n",
       "      <td>True</td>\n",
       "      <td>False</td>\n",
       "    </tr>\n",
       "    <tr>\n",
       "      <th>1</th>\n",
       "      <td>ETH</td>\n",
       "      <td>9.0</td>\n",
       "      <td>0.0</td>\n",
       "      <td>9.0</td>\n",
       "      <td>1960</td>\n",
       "      <td>ITA</td>\n",
       "      <td>Rome</td>\n",
       "      <td>True</td>\n",
       "      <td>False</td>\n",
       "    </tr>\n",
       "    <tr>\n",
       "      <th>2</th>\n",
       "      <td>GHA</td>\n",
       "      <td>13.0</td>\n",
       "      <td>0.0</td>\n",
       "      <td>13.0</td>\n",
       "      <td>1960</td>\n",
       "      <td>ITA</td>\n",
       "      <td>Rome</td>\n",
       "      <td>True</td>\n",
       "      <td>False</td>\n",
       "    </tr>\n",
       "    <tr>\n",
       "      <th>3</th>\n",
       "      <td>KEN</td>\n",
       "      <td>28.0</td>\n",
       "      <td>0.0</td>\n",
       "      <td>28.0</td>\n",
       "      <td>1960</td>\n",
       "      <td>ITA</td>\n",
       "      <td>Rome</td>\n",
       "      <td>True</td>\n",
       "      <td>False</td>\n",
       "    </tr>\n",
       "    <tr>\n",
       "      <th>4</th>\n",
       "      <td>LBR</td>\n",
       "      <td>4.0</td>\n",
       "      <td>0.0</td>\n",
       "      <td>4.0</td>\n",
       "      <td>1960</td>\n",
       "      <td>ITA</td>\n",
       "      <td>Rome</td>\n",
       "      <td>True</td>\n",
       "      <td>False</td>\n",
       "    </tr>\n",
       "  </tbody>\n",
       "</table>\n",
       "</div>"
      ],
      "text/plain": [
       "   NOC     M    F  Total  Year Host_Country Host_City  Summer  Winter\n",
       "0  EGY  74.0  0.0   74.0  1960          ITA      Rome    True   False\n",
       "1  ETH   9.0  0.0    9.0  1960          ITA      Rome    True   False\n",
       "2  GHA  13.0  0.0   13.0  1960          ITA      Rome    True   False\n",
       "3  KEN  28.0  0.0   28.0  1960          ITA      Rome    True   False\n",
       "4  LBR   4.0  0.0    4.0  1960          ITA      Rome    True   False"
      ]
     },
     "execution_count": 15,
     "metadata": {},
     "output_type": "execute_result"
    }
   ],
   "source": [
    "sumdf.head(5)"
   ]
  },
  {
   "cell_type": "markdown",
   "metadata": {},
   "source": [
    "# The Winter Olympics File\n",
    "* The winter Olympics file was the same idea. It was an xls file containing multiple sheets each one for a different winter games. "
   ]
  },
  {
   "cell_type": "code",
   "execution_count": 16,
   "metadata": {
    "collapsed": true
   },
   "outputs": [],
   "source": [
    "# Ensure the file exists\n",
    "if not os.path.exists(r\"..\\..\\data\\raw\\Study_center\\WinterGamesATH.xlsx\" ):\n",
    "    print(\"Missing dataset file\")"
   ]
  },
  {
   "cell_type": "code",
   "execution_count": 17,
   "metadata": {
    "collapsed": true
   },
   "outputs": [],
   "source": [
    "# reading in the xls file \n",
    "xlsW = pd.ExcelFile(r\"..\\..\\data\\raw\\Study_Center\\WinterGamesATH.xlsx\")"
   ]
  },
  {
   "cell_type": "code",
   "execution_count": 18,
   "metadata": {
    "collapsed": true
   },
   "outputs": [],
   "source": [
    "# Dictionary for the host cities key is the year of the games and the city is the value \n",
    "cityWDict = { 1972: 'Sapporo', 1968: 'Grenoble', 2002: 'Salt Lake City', 1980: 'Lake Placid', 2018: 'PyeongChang', \n",
    "1992: 'Albertville', \n",
    "1998: 'Nagano', \n",
    "2006: 'Turin', \n",
    "2014: 'Sochi', \n",
    "2010: 'Vancouver', \n",
    "1984: 'Sarajevo', \n",
    "1988: 'Calgary', \n",
    "1964: 'Innsbruck', \n",
    "1994: 'Lillehammer',\n",
    "1960: 'Squaw Valley',\n",
    "1976: 'Innsbruck'}"
   ]
  },
  {
   "cell_type": "code",
   "execution_count": 19,
   "metadata": {
    "collapsed": true
   },
   "outputs": [],
   "source": [
    "# Dictionary for the host countries key is the year of the games and the country is the value \n",
    "countryWDict =  { 1972: 'JPN', 1968: 'FRA', 2002: 'USA', 1980: 'USA', 2018: 'KOR', \n",
    "1992: 'FRA', \n",
    "1998: 'JPN', \n",
    "2006: 'ITA', \n",
    "2014: 'RUS', \n",
    "2010: 'CAN', \n",
    "1984: 'BIH', \n",
    "1988: 'CAN', \n",
    "1964: 'AUS', \n",
    "1994: 'NOR',\n",
    "1960: 'USA',\n",
    "1976: 'AUS'}"
   ]
  },
  {
   "cell_type": "code",
   "execution_count": 20,
   "metadata": {
    "collapsed": true
   },
   "outputs": [],
   "source": [
    "# Emoty list to hold the dataFrames one for each summer games \n",
    "WdataFrameList = []\n",
    "# Starting with the 1960 olympics \n",
    "year = 1960\n",
    "\n",
    "# For loop of 15 iterations one for every sheet/ games in the xls file \n",
    "for x in range(16):\n",
    "    df = pd.read_excel(xlsW, str(year))\n",
    "\n",
    "    #First we'll drop all the null columns with no information\n",
    "    if(year <= 2010):\n",
    "        df = df.drop(df.columns[[4, 9, 14, 19, 24, 25, 26, 27, 28]], axis=1)\n",
    "    else:\n",
    "        df = df.drop(df.columns[[4, 9, 14, 19]], axis=1)\n",
    "    \n",
    "    \n",
    "    # Then we created a small df fro each of the 5 dfs of 4 coulmns seen in the image above \n",
    "    j1 = df[['NOC', 'M', 'F', 'Total']].copy()\n",
    "    j2 = df[['NOC.1', 'M.1', 'F.1', 'Total.1']].copy()\n",
    "    j3 = df[['NOC.2', 'M.2', 'F.2', 'Total.2']].copy()\n",
    "    j4 = df[['NOC.3', 'M.3', 'F.3', 'Total.3']].copy()\n",
    "    j5 = df[['NOC.4', 'M.4', 'F.4', 'Total.4']].copy()\n",
    "    \n",
    "    # then we created a list of the names of each column so we could change all the sub dfs column to be the same for joining \n",
    "    j2n = list(j2)\n",
    "    j3n = list(j3)\n",
    "    j4n = list(j4)\n",
    "    j5n = list(j5)\n",
    "    \n",
    "    # Then we could rename the columns of the 5 smaller dfs\n",
    "    j2 = j2.rename(columns={ j2n[0]: 'NOC', j2n[1]: 'M', j2n[2]: 'F', j2n[3]: 'Total'})\n",
    "    j3 = j3.rename(columns={ j3n[0]: 'NOC', j3n[1]: 'M', j3n[2]: 'F', j3n[3]: 'Total'})\n",
    "    j4 = j4.rename(columns={ j4n[0]: 'NOC', j4n[1]: 'M', j4n[2]: 'F', j4n[3]: 'Total'})\n",
    "    j5 = j5.rename(columns={ j5n[0]: 'NOC', j5n[1]: 'M', j5n[2]: 'F', j5n[3]: 'Total'})\n",
    "    \n",
    "    # Here we are joining the 5 smaller dfs and making one big one\n",
    "    df = pd.concat([j1, j2, j3, j4, j5], ignore_index=True)\n",
    "    \n",
    "    # Dropping all the null values these null rows would be the whitespace rows seen in the image above \n",
    "    df = df.dropna(axis=0, how='any')\n",
    "    \n",
    "    # Adding a year column with the year of the given games \n",
    "    df['Year'] = year\n",
    "    \n",
    "    # Adding the host country column referencing its respective dictionary  \n",
    "    df['Host_Country'] = countryWDict[year]\n",
    "    \n",
    "   # Adding the host country column referencing its respective dictionary   \n",
    "    df['Host_City'] = cityWDict[year]\n",
    "    \n",
    "    # Creating a list of dataframes each df in the list represents the numbers from one summer games \n",
    "    WdataFrameList.append(df)\n",
    "    \n",
    "    # Changing the year to reference the next sheet in the xls file\n",
    "    if(year == 1992 ):\n",
    "        year = year + 2\n",
    "    else:\n",
    "        year = year + 4"
   ]
  },
  {
   "cell_type": "code",
   "execution_count": 21,
   "metadata": {
    "collapsed": true
   },
   "outputs": [],
   "source": [
    "# Now we create the final dataFrame containing all the summer games and the infomration on athletes sent \n",
    "windf = pd.concat(WdataFrameList, ignore_index=True)"
   ]
  },
  {
   "cell_type": "code",
   "execution_count": 22,
   "metadata": {
    "collapsed": true
   },
   "outputs": [],
   "source": [
    "# creating the summer and winter games bolleans\n",
    "windf['Summer']= False\n",
    "windf['Winter']= True"
   ]
  },
  {
   "cell_type": "markdown",
   "metadata": {},
   "source": [
    "# Final DataFrame \n",
    "Now that we have two dataframes for the summer and winter games with fields supplying information on the number of athletes from every country spilt into genders as well as the year of the games, booleans for whether the games were summer or winter and the host country and city of that games.\n",
    "Now we can combine the two to make our final big dataframe for this section. "
   ]
  },
  {
   "cell_type": "code",
   "execution_count": 23,
   "metadata": {
    "collapsed": true
   },
   "outputs": [],
   "source": [
    "# joining the summer and winter games \n",
    "df = pd.concat([sumdf, windf], ignore_index=True)"
   ]
  },
  {
   "cell_type": "code",
   "execution_count": 24,
   "metadata": {
    "collapsed": true
   },
   "outputs": [],
   "source": [
    "# Changing these fields to ints from floats \n",
    "df['M']= df.M.astype(int)\n",
    "df['F']= df.F.astype(int)\n",
    "df['Total']= df.Total.astype(int)"
   ]
  },
  {
   "cell_type": "code",
   "execution_count": 25,
   "metadata": {
    "collapsed": true
   },
   "outputs": [],
   "source": [
    "df.to_csv(r\"..\\..\\data\\prep\\Games\\Games-600.csv\", index=False)"
   ]
  }
 ],
 "metadata": {
  "kernelspec": {
   "display_name": "Python 3",
   "language": "python",
   "name": "python3"
  },
  "language_info": {
   "codemirror_mode": {
    "name": "ipython",
    "version": 3
   },
   "file_extension": ".py",
   "mimetype": "text/x-python",
   "name": "python",
   "nbconvert_exporter": "python",
   "pygments_lexer": "ipython3",
   "version": "3.6.3"
  }
 },
 "nbformat": 4,
 "nbformat_minor": 2
}
