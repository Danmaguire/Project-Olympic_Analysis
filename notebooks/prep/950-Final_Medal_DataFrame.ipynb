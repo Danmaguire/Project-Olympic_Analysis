{
 "cells": [
  {
   "cell_type": "markdown",
   "metadata": {},
   "source": [
    "# This Notebook for creating the Final Medal Dataset\n",
    "This notebook will create the final dataset from the medal winners side of the data. It will contain all the infomration about the athletes, their NOCs informations e.g (number of athletes sent and medal rankings) and the olympic games information of that year e.g (number of athletes, location and summer/ winter). "
   ]
  },
  {
   "cell_type": "code",
   "execution_count": 1,
   "metadata": {
    "collapsed": true
   },
   "outputs": [],
   "source": [
    "import os.path\n",
    "import pandas as pd\n",
    "import numpy as np\n",
    "import matplotlib.pyplot as plt\n",
    "import math\n",
    "%matplotlib inline\n",
    "from bs4 import BeautifulSoup\n",
    "import webbrowser\n",
    "import urllib.request\n",
    "from lxml import html\n",
    "import zipfile\n",
    "import re\n",
    "import string\n",
    "import sys, os\n",
    "from IPython.display import Image"
   ]
  },
  {
   "cell_type": "markdown",
   "metadata": {},
   "source": [
    "# Adding in the Athlete numbers from each country \n",
    "The final fields we want to add into this medal datframe is the number of athletes male/ female that are sent to each olympics. "
   ]
  },
  {
   "cell_type": "code",
   "execution_count": 2,
   "metadata": {
    "collapsed": true
   },
   "outputs": [],
   "source": [
    "# Ensure the file exists\n",
    "if not os.path.exists(  r\"..\\..\\data\\prep\\Games\\Games-900.csv\" ):\n",
    "    print(\"Missing dataset file\")"
   ]
  },
  {
   "cell_type": "code",
   "execution_count": 3,
   "metadata": {
    "collapsed": true
   },
   "outputs": [],
   "source": [
    "# read the medal csv into a dataframe\n",
    "currMedaldf = pd.read_csv(  r\"..\\..\\data\\prep\\Games\\Games-900.csv\", encoding = \"ISO-8859-1\")"
   ]
  },
  {
   "cell_type": "code",
   "execution_count": 4,
   "metadata": {
    "collapsed": true
   },
   "outputs": [],
   "source": [
    "# read the athlete number csv into a dataframe\n",
    "athNumdf = pd.read_csv( r\"..\\..\\data\\prep\\Games\\Games-600.csv\", encoding = \"ISO-8859-1\")"
   ]
  },
  {
   "cell_type": "code",
   "execution_count": 5,
   "metadata": {},
   "outputs": [
    {
     "data": {
      "text/plain": [
       "Index(['Year', 'Host_City', 'Host_Country', 'Total_Males', 'Total_Females',\n",
       "       'Total_Athletes', 'Summer', 'Winter', 'Discipline', 'Sport', 'Ath_Name',\n",
       "       'Gender', 'NOC', 'Home_Adv', 'Gold', 'Silver', 'Bronze', 'Total_Medals',\n",
       "       'NOC_Gold', 'NOC_Silver', 'NOC_Bronze', 'NOC_Total_Medals',\n",
       "       'NOC_Rating', 'NOC_Rank', 'Ath_Rating', 'Ath_Rank'],\n",
       "      dtype='object')"
      ]
     },
     "execution_count": 5,
     "metadata": {},
     "output_type": "execute_result"
    }
   ],
   "source": [
    "currMedaldf.columns"
   ]
  },
  {
   "cell_type": "code",
   "execution_count": 6,
   "metadata": {},
   "outputs": [
    {
     "data": {
      "text/plain": [
       "Index(['NOC', 'M', 'F', 'Total', 'Year', 'Host_Country', 'Host_City', 'Summer',\n",
       "       'Winter'],\n",
       "      dtype='object')"
      ]
     },
     "execution_count": 6,
     "metadata": {},
     "output_type": "execute_result"
    }
   ],
   "source": [
    "athNumdf.columns"
   ]
  },
  {
   "cell_type": "code",
   "execution_count": 7,
   "metadata": {
    "collapsed": true
   },
   "outputs": [],
   "source": [
    "# Changing the field names for the NOCs athletes sent so they are distinguishabele in the final data frame \n",
    "athNumdf.rename(columns={'M': 'NOC_Males_Sent'}, inplace=True)\n",
    "athNumdf.rename(columns={'F': 'NOC_Females_Sent'}, inplace=True)\n",
    "athNumdf.rename(columns={'Total': 'NOC_Total_Sent'}, inplace=True)"
   ]
  },
  {
   "cell_type": "markdown",
   "metadata": {},
   "source": [
    "# Joining the Rank and Rating to Medal dataFrame \n",
    "We want to add the athletes sent to each olympics by each country split male, female and total. \n",
    "I'll set the index of the two tables to Year, Host_City, Host_Country and most importantly the NOC so all the athletes numbers will be matched with the right rows in the medal dataframe. "
   ]
  },
  {
   "cell_type": "code",
   "execution_count": 8,
   "metadata": {
    "collapsed": true
   },
   "outputs": [],
   "source": [
    "# Setting the indexes of both tables so they are joinable \n",
    "athNumdf = athNumdf.set_index(['Year', 'Host_Country', 'Host_City', 'NOC'])\n",
    "currMedaldf = currMedaldf.set_index(['Year', 'Host_Country', 'Host_City', 'NOC'])"
   ]
  },
  {
   "cell_type": "code",
   "execution_count": 9,
   "metadata": {
    "collapsed": true
   },
   "outputs": [],
   "source": [
    "# It'll be possible to join the medal df to the athlete df because they share the same indexes\n",
    "# I just have to include which of the fields from the medal df I want to include in the join (which is all of them)\n",
    "Medaldf = currMedaldf[['Total_Males', 'Total_Females', 'Total_Athletes',\n",
    "       'Discipline', 'Sport', 'Ath_Name', 'Gender', 'Home_Adv', 'Gold',\n",
    "       'Silver', 'Bronze', 'Total_Medals', 'NOC_Gold', 'NOC_Silver',\n",
    "       'NOC_Bronze', 'NOC_Total_Medals', 'NOC_Rating', 'NOC_Rank',\n",
    "       'Ath_Rating', 'Ath_Rank']].join(athNumdf).reset_index()"
   ]
  },
  {
   "cell_type": "code",
   "execution_count": 10,
   "metadata": {
    "collapsed": true
   },
   "outputs": [],
   "source": [
    "# Changing the order of the columns \n",
    "Medaldf = Medaldf[['Year', 'Host_Country', 'Host_City', 'Summer', 'Winter', 'Total_Males', 'Total_Females', 'Total_Athletes', 'Discipline', 'Sport', 'Ath_Name', 'Gender', 'Home_Adv', 'Gold', 'Silver', 'Bronze', 'Total_Medals', 'Ath_Rating', 'Ath_Rank', 'NOC', 'NOC_Males_Sent', 'NOC_Females_Sent', 'NOC_Total_Sent', 'NOC_Gold', 'NOC_Silver', 'NOC_Bronze', 'NOC_Total_Medals', 'NOC_Rating', 'NOC_Rank']]"
   ]
  },
  {
   "cell_type": "code",
   "execution_count": 11,
   "metadata": {},
   "outputs": [
    {
     "data": {
      "text/plain": [
       "Index(['Year', 'Host_Country', 'Host_City', 'Summer', 'Winter', 'Total_Males',\n",
       "       'Total_Females', 'Total_Athletes', 'Discipline', 'Sport', 'Ath_Name',\n",
       "       'Gender', 'Home_Adv', 'Gold', 'Silver', 'Bronze', 'Total_Medals',\n",
       "       'Ath_Rating', 'Ath_Rank', 'NOC', 'NOC_Males_Sent', 'NOC_Females_Sent',\n",
       "       'NOC_Total_Sent', 'NOC_Gold', 'NOC_Silver', 'NOC_Bronze',\n",
       "       'NOC_Total_Medals', 'NOC_Rating', 'NOC_Rank'],\n",
       "      dtype='object')"
      ]
     },
     "execution_count": 11,
     "metadata": {},
     "output_type": "execute_result"
    }
   ],
   "source": [
    "Medaldf.columns"
   ]
  },
  {
   "cell_type": "code",
   "execution_count": 12,
   "metadata": {
    "collapsed": true
   },
   "outputs": [],
   "source": [
    "Medaldf.to_csv( r\"..\\..\\data\\prep\\Games\\Games-950.csv\", index=False)"
   ]
  }
 ],
 "metadata": {
  "kernelspec": {
   "display_name": "Python 3",
   "language": "python",
   "name": "python3"
  },
  "language_info": {
   "codemirror_mode": {
    "name": "ipython",
    "version": 3
   },
   "file_extension": ".py",
   "mimetype": "text/x-python",
   "name": "python",
   "nbconvert_exporter": "python",
   "pygments_lexer": "ipython3",
   "version": "3.6.3"
  }
 },
 "nbformat": 4,
 "nbformat_minor": 2
}
