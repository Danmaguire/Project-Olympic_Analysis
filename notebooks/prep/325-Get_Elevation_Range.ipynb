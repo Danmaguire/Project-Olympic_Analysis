{
 "cells": [
  {
   "cell_type": "markdown",
   "metadata": {},
   "source": [
    "# Get Elevation Range <br>\n",
    "\n",
    "## Purpose\n",
    "Takes in the .csv created in the 300-Geographical_Nulls.ipynb notebook and establishes the range of elevations that exist within every country\n",
    "\n",
    "## Datasets\n",
    "* .csv created in the 300-Geographical_Nulls.ipynb"
   ]
  },
  {
   "cell_type": "markdown",
   "metadata": {},
   "source": [
    "Imports necessary libraries"
   ]
  },
  {
   "cell_type": "code",
   "execution_count": 39,
   "metadata": {
    "collapsed": true
   },
   "outputs": [],
   "source": [
    "import pandas as pd\n",
    "import numpy as np\n",
    "import matplotlib.pyplot as plt\n",
    "import os.path\n",
    "from glob import glob\n",
    "import urllib.request\n",
    "from bs4 import BeautifulSoup"
   ]
  },
  {
   "cell_type": "markdown",
   "metadata": {},
   "source": [
    "Loads file into dataframe"
   ]
  },
  {
   "cell_type": "code",
   "execution_count": 40,
   "metadata": {},
   "outputs": [
    {
     "name": "stdout",
     "output_type": "stream",
     "text": [
      "File Read\n"
     ]
    }
   ],
   "source": [
    "# Ensure the file exists\n",
    "if not os.path.exists( r\"..\\..\\data\\prep\\Countries\\countries_300.csv\"):\n",
    "    print(\"Missing dataset file\")\n",
    "else:\n",
    "    df = pd.read_csv(  r\"..\\..\\data\\prep\\Countries\\countries_300.csv\" , encoding = \"ISO-8859-1\")\n",
    "    print(\"File Read\")"
   ]
  },
  {
   "cell_type": "markdown",
   "metadata": {},
   "source": [
    "Prints the first 5 lines of the dataframe"
   ]
  },
  {
   "cell_type": "code",
   "execution_count": 41,
   "metadata": {},
   "outputs": [
    {
     "data": {
      "text/html": [
       "<div>\n",
       "<style>\n",
       "    .dataframe thead tr:only-child th {\n",
       "        text-align: right;\n",
       "    }\n",
       "\n",
       "    .dataframe thead th {\n",
       "        text-align: left;\n",
       "    }\n",
       "\n",
       "    .dataframe tbody tr th {\n",
       "        vertical-align: top;\n",
       "    }\n",
       "</style>\n",
       "<table border=\"1\" class=\"dataframe\">\n",
       "  <thead>\n",
       "    <tr style=\"text-align: right;\">\n",
       "      <th></th>\n",
       "      <th>Country</th>\n",
       "      <th>Year</th>\n",
       "      <th>Population</th>\n",
       "      <th>Males</th>\n",
       "      <th>Females</th>\n",
       "      <th>Life_Expectancy</th>\n",
       "      <th>GDP</th>\n",
       "      <th>Region</th>\n",
       "      <th>Elevation</th>\n",
       "      <th>Area_SqKM</th>\n",
       "      <th>Centroid_Longitude</th>\n",
       "      <th>Centroid_Latitude</th>\n",
       "      <th>Population_Density</th>\n",
       "      <th>CO2_Emissions</th>\n",
       "      <th>Methane_Emissions</th>\n",
       "      <th>Nitrous_Oxide_Emisions</th>\n",
       "      <th>Total_Emissions</th>\n",
       "      <th>Emmisions_per_Capita</th>\n",
       "      <th>Code</th>\n",
       "    </tr>\n",
       "  </thead>\n",
       "  <tbody>\n",
       "    <tr>\n",
       "      <th>0</th>\n",
       "      <td>Afghanistan</td>\n",
       "      <td>1960</td>\n",
       "      <td>8996351.0</td>\n",
       "      <td>4649361.0</td>\n",
       "      <td>4346990.0</td>\n",
       "      <td>32.337561</td>\n",
       "      <td>5.377778e+08</td>\n",
       "      <td>West and Central Asia</td>\n",
       "      <td>1884.71</td>\n",
       "      <td>646212.0</td>\n",
       "      <td>66.1685</td>\n",
       "      <td>33.78231</td>\n",
       "      <td>13.921671</td>\n",
       "      <td>414.371</td>\n",
       "      <td>NaN</td>\n",
       "      <td>NaN</td>\n",
       "      <td>414.371</td>\n",
       "      <td>NaN</td>\n",
       "      <td>AFG</td>\n",
       "    </tr>\n",
       "    <tr>\n",
       "      <th>1</th>\n",
       "      <td>Afghanistan</td>\n",
       "      <td>1964</td>\n",
       "      <td>9731361.0</td>\n",
       "      <td>4996990.0</td>\n",
       "      <td>4734371.0</td>\n",
       "      <td>34.101902</td>\n",
       "      <td>8.000000e+08</td>\n",
       "      <td>West and Central Asia</td>\n",
       "      <td>1884.71</td>\n",
       "      <td>646212.0</td>\n",
       "      <td>66.1685</td>\n",
       "      <td>33.78231</td>\n",
       "      <td>15.059084</td>\n",
       "      <td>839.743</td>\n",
       "      <td>NaN</td>\n",
       "      <td>NaN</td>\n",
       "      <td>839.743</td>\n",
       "      <td>NaN</td>\n",
       "      <td>AFG</td>\n",
       "    </tr>\n",
       "    <tr>\n",
       "      <th>2</th>\n",
       "      <td>Afghanistan</td>\n",
       "      <td>1968</td>\n",
       "      <td>10604346.0</td>\n",
       "      <td>5419182.0</td>\n",
       "      <td>5185164.0</td>\n",
       "      <td>35.832415</td>\n",
       "      <td>1.373333e+09</td>\n",
       "      <td>West and Central Asia</td>\n",
       "      <td>1884.71</td>\n",
       "      <td>646212.0</td>\n",
       "      <td>66.1685</td>\n",
       "      <td>33.78231</td>\n",
       "      <td>16.410011</td>\n",
       "      <td>1224.778</td>\n",
       "      <td>NaN</td>\n",
       "      <td>NaN</td>\n",
       "      <td>1224.778</td>\n",
       "      <td>NaN</td>\n",
       "      <td>AFG</td>\n",
       "    </tr>\n",
       "    <tr>\n",
       "      <th>3</th>\n",
       "      <td>Afghanistan</td>\n",
       "      <td>1972</td>\n",
       "      <td>11721940.0</td>\n",
       "      <td>5967987.0</td>\n",
       "      <td>5753953.0</td>\n",
       "      <td>37.620171</td>\n",
       "      <td>1.595555e+09</td>\n",
       "      <td>West and Central Asia</td>\n",
       "      <td>1884.71</td>\n",
       "      <td>646212.0</td>\n",
       "      <td>66.1685</td>\n",
       "      <td>33.78231</td>\n",
       "      <td>18.139465</td>\n",
       "      <td>1532.806</td>\n",
       "      <td>9170.59</td>\n",
       "      <td>2530.158</td>\n",
       "      <td>13233.554</td>\n",
       "      <td>NaN</td>\n",
       "      <td>AFG</td>\n",
       "    </tr>\n",
       "    <tr>\n",
       "      <th>4</th>\n",
       "      <td>Afghanistan</td>\n",
       "      <td>1976</td>\n",
       "      <td>12840299.0</td>\n",
       "      <td>6524577.0</td>\n",
       "      <td>6315722.0</td>\n",
       "      <td>39.585390</td>\n",
       "      <td>2.555556e+09</td>\n",
       "      <td>West and Central Asia</td>\n",
       "      <td>1884.71</td>\n",
       "      <td>646212.0</td>\n",
       "      <td>66.1685</td>\n",
       "      <td>33.78231</td>\n",
       "      <td>19.870103</td>\n",
       "      <td>1987.514</td>\n",
       "      <td>10535.60</td>\n",
       "      <td>3265.633</td>\n",
       "      <td>15788.747</td>\n",
       "      <td>NaN</td>\n",
       "      <td>AFG</td>\n",
       "    </tr>\n",
       "  </tbody>\n",
       "</table>\n",
       "</div>"
      ],
      "text/plain": [
       "       Country  Year  Population      Males    Females  Life_Expectancy  \\\n",
       "0  Afghanistan  1960   8996351.0  4649361.0  4346990.0        32.337561   \n",
       "1  Afghanistan  1964   9731361.0  4996990.0  4734371.0        34.101902   \n",
       "2  Afghanistan  1968  10604346.0  5419182.0  5185164.0        35.832415   \n",
       "3  Afghanistan  1972  11721940.0  5967987.0  5753953.0        37.620171   \n",
       "4  Afghanistan  1976  12840299.0  6524577.0  6315722.0        39.585390   \n",
       "\n",
       "            GDP                 Region  Elevation  Area_SqKM  \\\n",
       "0  5.377778e+08  West and Central Asia    1884.71   646212.0   \n",
       "1  8.000000e+08  West and Central Asia    1884.71   646212.0   \n",
       "2  1.373333e+09  West and Central Asia    1884.71   646212.0   \n",
       "3  1.595555e+09  West and Central Asia    1884.71   646212.0   \n",
       "4  2.555556e+09  West and Central Asia    1884.71   646212.0   \n",
       "\n",
       "   Centroid_Longitude  Centroid_Latitude  Population_Density  CO2_Emissions  \\\n",
       "0             66.1685           33.78231           13.921671        414.371   \n",
       "1             66.1685           33.78231           15.059084        839.743   \n",
       "2             66.1685           33.78231           16.410011       1224.778   \n",
       "3             66.1685           33.78231           18.139465       1532.806   \n",
       "4             66.1685           33.78231           19.870103       1987.514   \n",
       "\n",
       "   Methane_Emissions  Nitrous_Oxide_Emisions  Total_Emissions  \\\n",
       "0                NaN                     NaN          414.371   \n",
       "1                NaN                     NaN          839.743   \n",
       "2                NaN                     NaN         1224.778   \n",
       "3            9170.59                2530.158        13233.554   \n",
       "4           10535.60                3265.633        15788.747   \n",
       "\n",
       "   Emmisions_per_Capita Code  \n",
       "0                   NaN  AFG  \n",
       "1                   NaN  AFG  \n",
       "2                   NaN  AFG  \n",
       "3                   NaN  AFG  \n",
       "4                   NaN  AFG  "
      ]
     },
     "execution_count": 41,
     "metadata": {},
     "output_type": "execute_result"
    }
   ],
   "source": [
    "df.head()"
   ]
  },
  {
   "cell_type": "markdown",
   "metadata": {},
   "source": [
    "## Scrapes Elevation Data "
   ]
  },
  {
   "cell_type": "markdown",
   "metadata": {},
   "source": [
    "The CIA keep information on the elevation of every country so we will scrape this data from their page"
   ]
  },
  {
   "cell_type": "code",
   "execution_count": 42,
   "metadata": {
    "collapsed": true
   },
   "outputs": [],
   "source": [
    "url='https://www.cia.gov/library/publications/the-world-factbook/fields/print_2020.html'"
   ]
  },
  {
   "cell_type": "markdown",
   "metadata": {},
   "source": [
    "Opens the page and extracts all table rows"
   ]
  },
  {
   "cell_type": "code",
   "execution_count": 43,
   "metadata": {
    "collapsed": true
   },
   "outputs": [],
   "source": [
    "with urllib.request.urlopen(url) as response:\n",
    "            page = response.read()\n",
    "soup = BeautifulSoup(page, 'html.parser')\n",
    "links = [link for link in soup.findAll(\"tr\")]"
   ]
  },
  {
   "cell_type": "markdown",
   "metadata": {},
   "source": [
    "Removes first line of table due to the fact it only contains titles"
   ]
  },
  {
   "cell_type": "code",
   "execution_count": 44,
   "metadata": {
    "collapsed": true
   },
   "outputs": [],
   "source": [
    "links = links[1:]\n",
    "eldf = pd.DataFrame(columns=['Country','Mean_Elevation','Lowest_Point','Highest_Point'])"
   ]
  },
  {
   "cell_type": "markdown",
   "metadata": {},
   "source": [
    "Goes through each countries information extracting the data, prints error if the format of the infroamtion differs from the norm"
   ]
  },
  {
   "cell_type": "code",
   "execution_count": 45,
   "metadata": {},
   "outputs": [
    {
     "name": "stdout",
     "output_type": "stream",
     "text": [
      "Antarctica Error in Format\n",
      "Colombia Error in Format\n",
      "Ecuador Error in Format\n",
      "France Error in Format\n",
      "Jan Mayen Error in Format\n",
      "Netherlands Error in Format\n",
      "United States Pacific Island Wildlife Refuges Error in Format\n",
      "United States Error in Format\n",
      "World Error in Format\n"
     ]
    }
   ],
   "source": [
    "for i in range(len(links)):\n",
    "    country = links[i].find(\"td\").getText()\n",
    "    text = links[i].findAll(\"td\")[1].getText().split(\"\\n\")\n",
    "    vals = []\n",
    "    for line in text:\n",
    "        if not line == \"\":\n",
    "            nums = [float(s) for s in line.replace(\",\",'').split() if s.isdigit() or (s[0] == '-' and len(s) > 1)]\n",
    "            if len(nums) == 0:\n",
    "                vals.append(np.nan)\n",
    "            else:\n",
    "                vals.append(nums[0])\n",
    "    if len(vals) != 3:\n",
    "        print(country+\" Error in Format\")\n",
    "    else:\n",
    "        row = [country, vals[0], vals[1], vals[2]]\n",
    "        eldf.loc[len(eldf)] = row"
   ]
  },
  {
   "cell_type": "markdown",
   "metadata": {},
   "source": [
    "Deals with values that caused errors, most of these countries didnt follow the convential format on the page#"
   ]
  },
  {
   "cell_type": "code",
   "execution_count": 46,
   "metadata": {
    "collapsed": true
   },
   "outputs": [],
   "source": [
    "eldf.loc[len(eldf)] = ['Colombia', 593, 0, 5730]\n",
    "eldf.loc[len(eldf)] = ['Ecuador', 1117, 0, 6267]\n",
    "eldf.loc[len(eldf)] = ['France', 375, -2, 4810]\n",
    "eldf.loc[len(eldf)] = ['Netherlands', 30, -7, 322]\n",
    "eldf.loc[len(eldf)] = ['United States', 760, -86, 6190]"
   ]
  },
  {
   "cell_type": "markdown",
   "metadata": {},
   "source": [
    "Print the first 5 lines of the dataframe"
   ]
  },
  {
   "cell_type": "code",
   "execution_count": 47,
   "metadata": {},
   "outputs": [
    {
     "data": {
      "text/html": [
       "<div>\n",
       "<style>\n",
       "    .dataframe thead tr:only-child th {\n",
       "        text-align: right;\n",
       "    }\n",
       "\n",
       "    .dataframe thead th {\n",
       "        text-align: left;\n",
       "    }\n",
       "\n",
       "    .dataframe tbody tr th {\n",
       "        vertical-align: top;\n",
       "    }\n",
       "</style>\n",
       "<table border=\"1\" class=\"dataframe\">\n",
       "  <thead>\n",
       "    <tr style=\"text-align: right;\">\n",
       "      <th></th>\n",
       "      <th>Country</th>\n",
       "      <th>Mean_Elevation</th>\n",
       "      <th>Lowest_Point</th>\n",
       "      <th>Highest_Point</th>\n",
       "    </tr>\n",
       "  </thead>\n",
       "  <tbody>\n",
       "    <tr>\n",
       "      <th>0</th>\n",
       "      <td>Afghanistan</td>\n",
       "      <td>1884.0</td>\n",
       "      <td>258.0</td>\n",
       "      <td>7492.0</td>\n",
       "    </tr>\n",
       "    <tr>\n",
       "      <th>1</th>\n",
       "      <td>Albania</td>\n",
       "      <td>708.0</td>\n",
       "      <td>0.0</td>\n",
       "      <td>2764.0</td>\n",
       "    </tr>\n",
       "    <tr>\n",
       "      <th>2</th>\n",
       "      <td>Algeria</td>\n",
       "      <td>800.0</td>\n",
       "      <td>-40.0</td>\n",
       "      <td>2908.0</td>\n",
       "    </tr>\n",
       "    <tr>\n",
       "      <th>3</th>\n",
       "      <td>American Samoa</td>\n",
       "      <td>NaN</td>\n",
       "      <td>0.0</td>\n",
       "      <td>964.0</td>\n",
       "    </tr>\n",
       "    <tr>\n",
       "      <th>4</th>\n",
       "      <td>Andorra</td>\n",
       "      <td>1996.0</td>\n",
       "      <td>840.0</td>\n",
       "      <td>2946.0</td>\n",
       "    </tr>\n",
       "  </tbody>\n",
       "</table>\n",
       "</div>"
      ],
      "text/plain": [
       "          Country  Mean_Elevation  Lowest_Point  Highest_Point\n",
       "0     Afghanistan          1884.0         258.0         7492.0\n",
       "1         Albania           708.0           0.0         2764.0\n",
       "2         Algeria           800.0         -40.0         2908.0\n",
       "3  American Samoa             NaN           0.0          964.0\n",
       "4         Andorra          1996.0         840.0         2946.0"
      ]
     },
     "execution_count": 47,
     "metadata": {},
     "output_type": "execute_result"
    }
   ],
   "source": [
    "eldf.head()"
   ]
  },
  {
   "cell_type": "markdown",
   "metadata": {},
   "source": [
    "Prints the countries not included in the elevation dataframe"
   ]
  },
  {
   "cell_type": "code",
   "execution_count": 48,
   "metadata": {},
   "outputs": [
    {
     "data": {
      "text/plain": [
       "array(['Egypt, Arab Rep.', 'Hong Kong SAR, China', 'Iran, Islamic Rep.',\n",
       "       'Korea, Dem. People?s Rep.', 'Korea, Rep.', 'Syrian Arab Republic',\n",
       "       'Venezuela, RB', 'Virgin Islands (U.S.)', 'Czech Republic',\n",
       "       'Kyrgyz Republic', 'Macedonia, FYR', 'Russian Federation',\n",
       "       'Slovak Republic'], dtype=object)"
      ]
     },
     "execution_count": 48,
     "metadata": {},
     "output_type": "execute_result"
    }
   ],
   "source": [
    "temp = list(eldf.Country)\n",
    "df[~df.Country.isin(temp)].Country.unique()"
   ]
  },
  {
   "cell_type": "markdown",
   "metadata": {},
   "source": [
    "Changes the country names so that the data in the elevation table matches that of the country dataset"
   ]
  },
  {
   "cell_type": "code",
   "execution_count": 49,
   "metadata": {
    "collapsed": true
   },
   "outputs": [],
   "source": [
    "eldf.loc[eldf[eldf.Country == 'Egypt'].index[0],'Country'] = 'Egypt, Arab Rep.'\n",
    "eldf.loc[eldf[eldf.Country == 'Hong Kong'].index[0],'Country'] = 'Hong Kong SAR, China'\n",
    "eldf.loc[eldf[eldf.Country == 'Korea, North'].index[0],'Country'] = 'Korea, Dem. People?s Rep.'\n",
    "eldf.loc[eldf[eldf.Country == 'Iran'].index[0],'Country'] = 'Iran, Islamic Rep.'\n",
    "eldf.loc[eldf[eldf.Country == 'Korea, South'].index[0],'Country'] = 'Korea, Rep.'\n",
    "eldf.loc[eldf[eldf.Country == 'Kyrgyzstan'].index[0],'Country'] = 'Kyrgyz Republic'\n",
    "eldf.loc[eldf[eldf.Country == 'Macedonia'].index[0],'Country'] = 'Macedonia, FYR'\n",
    "eldf.loc[eldf[eldf.Country == 'Russia'].index[0],'Country'] = 'Russian Federation'\n",
    "eldf.loc[eldf[eldf.Country == 'Slovakia'].index[0],'Country'] = 'Slovak Republic'\n",
    "eldf.loc[eldf[eldf.Country == 'Syria'].index[0],'Country'] = 'Syrian Arab Republic'\n",
    "eldf.loc[eldf[eldf.Country == 'Venezuela'].index[0],'Country'] = 'Venezuela, RB'\n",
    "eldf.loc[eldf[eldf.Country == 'Virgin Islands'].index[0],'Country'] = 'Virgin Islands (U.S.)'"
   ]
  },
  {
   "cell_type": "markdown",
   "metadata": {},
   "source": [
    "Only one country did not have data on its elevation present on the page"
   ]
  },
  {
   "cell_type": "code",
   "execution_count": 50,
   "metadata": {},
   "outputs": [
    {
     "data": {
      "text/plain": [
       "array(['Czech Republic'], dtype=object)"
      ]
     },
     "execution_count": 50,
     "metadata": {},
     "output_type": "execute_result"
    }
   ],
   "source": [
    "temp = list(eldf.Country)\n",
    "df[~df.Country.isin(temp)].Country.unique()"
   ]
  },
  {
   "cell_type": "markdown",
   "metadata": {},
   "source": [
    "Manual Entry of <b>Czech Republic</b><br>\n",
    "<b>Source</b> - https://www.worldatlas.com/webimage/countrys/europe/czechrepublic/czland.htm"
   ]
  },
  {
   "cell_type": "code",
   "execution_count": 51,
   "metadata": {
    "collapsed": true
   },
   "outputs": [],
   "source": [
    "eldf.loc[len(eldf)] = ['Czech Republic', np.nan, 115,1603]"
   ]
  },
  {
   "cell_type": "code",
   "execution_count": 52,
   "metadata": {},
   "outputs": [
    {
     "data": {
      "text/plain": [
       "array([], dtype=object)"
      ]
     },
     "execution_count": 52,
     "metadata": {},
     "output_type": "execute_result"
    }
   ],
   "source": [
    "temp = list(eldf.Country)\n",
    "df[~df.Country.isin(temp)].Country.unique()"
   ]
  },
  {
   "cell_type": "markdown",
   "metadata": {},
   "source": [
    "Removes the mean_elevation column as we already have this information"
   ]
  },
  {
   "cell_type": "code",
   "execution_count": 53,
   "metadata": {},
   "outputs": [
    {
     "data": {
      "text/plain": [
       "Country            0\n",
       "Mean_Elevation    85\n",
       "Lowest_Point       0\n",
       "Highest_Point      0\n",
       "dtype: int64"
      ]
     },
     "execution_count": 53,
     "metadata": {},
     "output_type": "execute_result"
    }
   ],
   "source": [
    "eldf.isnull().sum()"
   ]
  },
  {
   "cell_type": "markdown",
   "metadata": {},
   "source": [
    "Selects the relevant data from the elevation dataframme"
   ]
  },
  {
   "cell_type": "code",
   "execution_count": 54,
   "metadata": {},
   "outputs": [
    {
     "data": {
      "text/html": [
       "<div>\n",
       "<style>\n",
       "    .dataframe thead tr:only-child th {\n",
       "        text-align: right;\n",
       "    }\n",
       "\n",
       "    .dataframe thead th {\n",
       "        text-align: left;\n",
       "    }\n",
       "\n",
       "    .dataframe tbody tr th {\n",
       "        vertical-align: top;\n",
       "    }\n",
       "</style>\n",
       "<table border=\"1\" class=\"dataframe\">\n",
       "  <thead>\n",
       "    <tr style=\"text-align: right;\">\n",
       "      <th></th>\n",
       "      <th>Country</th>\n",
       "      <th>Lowest_Point</th>\n",
       "      <th>Highest_Point</th>\n",
       "    </tr>\n",
       "  </thead>\n",
       "  <tbody>\n",
       "    <tr>\n",
       "      <th>0</th>\n",
       "      <td>Afghanistan</td>\n",
       "      <td>258.0</td>\n",
       "      <td>7492.0</td>\n",
       "    </tr>\n",
       "    <tr>\n",
       "      <th>1</th>\n",
       "      <td>Albania</td>\n",
       "      <td>0.0</td>\n",
       "      <td>2764.0</td>\n",
       "    </tr>\n",
       "    <tr>\n",
       "      <th>2</th>\n",
       "      <td>Algeria</td>\n",
       "      <td>-40.0</td>\n",
       "      <td>2908.0</td>\n",
       "    </tr>\n",
       "    <tr>\n",
       "      <th>3</th>\n",
       "      <td>American Samoa</td>\n",
       "      <td>0.0</td>\n",
       "      <td>964.0</td>\n",
       "    </tr>\n",
       "    <tr>\n",
       "      <th>4</th>\n",
       "      <td>Andorra</td>\n",
       "      <td>840.0</td>\n",
       "      <td>2946.0</td>\n",
       "    </tr>\n",
       "  </tbody>\n",
       "</table>\n",
       "</div>"
      ],
      "text/plain": [
       "          Country  Lowest_Point  Highest_Point\n",
       "0     Afghanistan         258.0         7492.0\n",
       "1         Albania           0.0         2764.0\n",
       "2         Algeria         -40.0         2908.0\n",
       "3  American Samoa           0.0          964.0\n",
       "4         Andorra         840.0         2946.0"
      ]
     },
     "execution_count": 54,
     "metadata": {},
     "output_type": "execute_result"
    }
   ],
   "source": [
    "eldf = eldf[['Country','Lowest_Point','Highest_Point']]\n",
    "eldf.head()"
   ]
  },
  {
   "cell_type": "markdown",
   "metadata": {},
   "source": [
    "Merges the two tables together and outputs them to a .csv file"
   ]
  },
  {
   "cell_type": "code",
   "execution_count": 55,
   "metadata": {},
   "outputs": [
    {
     "data": {
      "text/html": [
       "<div>\n",
       "<style>\n",
       "    .dataframe thead tr:only-child th {\n",
       "        text-align: right;\n",
       "    }\n",
       "\n",
       "    .dataframe thead th {\n",
       "        text-align: left;\n",
       "    }\n",
       "\n",
       "    .dataframe tbody tr th {\n",
       "        vertical-align: top;\n",
       "    }\n",
       "</style>\n",
       "<table border=\"1\" class=\"dataframe\">\n",
       "  <thead>\n",
       "    <tr style=\"text-align: right;\">\n",
       "      <th></th>\n",
       "      <th>Country</th>\n",
       "      <th>Year</th>\n",
       "      <th>Population</th>\n",
       "      <th>Males</th>\n",
       "      <th>Females</th>\n",
       "      <th>Life_Expectancy</th>\n",
       "      <th>GDP</th>\n",
       "      <th>Region</th>\n",
       "      <th>Elevation</th>\n",
       "      <th>Area_SqKM</th>\n",
       "      <th>...</th>\n",
       "      <th>Centroid_Latitude</th>\n",
       "      <th>Population_Density</th>\n",
       "      <th>CO2_Emissions</th>\n",
       "      <th>Methane_Emissions</th>\n",
       "      <th>Nitrous_Oxide_Emisions</th>\n",
       "      <th>Total_Emissions</th>\n",
       "      <th>Emmisions_per_Capita</th>\n",
       "      <th>Code</th>\n",
       "      <th>Lowest_Point</th>\n",
       "      <th>Highest_Point</th>\n",
       "    </tr>\n",
       "  </thead>\n",
       "  <tbody>\n",
       "    <tr>\n",
       "      <th>0</th>\n",
       "      <td>Afghanistan</td>\n",
       "      <td>1960</td>\n",
       "      <td>8996351.0</td>\n",
       "      <td>4649361.0</td>\n",
       "      <td>4346990.0</td>\n",
       "      <td>32.337561</td>\n",
       "      <td>5.377778e+08</td>\n",
       "      <td>West and Central Asia</td>\n",
       "      <td>1884.71</td>\n",
       "      <td>646212.0</td>\n",
       "      <td>...</td>\n",
       "      <td>33.78231</td>\n",
       "      <td>13.921671</td>\n",
       "      <td>414.371</td>\n",
       "      <td>NaN</td>\n",
       "      <td>NaN</td>\n",
       "      <td>414.371</td>\n",
       "      <td>NaN</td>\n",
       "      <td>AFG</td>\n",
       "      <td>258.0</td>\n",
       "      <td>7492.0</td>\n",
       "    </tr>\n",
       "    <tr>\n",
       "      <th>1</th>\n",
       "      <td>Afghanistan</td>\n",
       "      <td>1964</td>\n",
       "      <td>9731361.0</td>\n",
       "      <td>4996990.0</td>\n",
       "      <td>4734371.0</td>\n",
       "      <td>34.101902</td>\n",
       "      <td>8.000000e+08</td>\n",
       "      <td>West and Central Asia</td>\n",
       "      <td>1884.71</td>\n",
       "      <td>646212.0</td>\n",
       "      <td>...</td>\n",
       "      <td>33.78231</td>\n",
       "      <td>15.059084</td>\n",
       "      <td>839.743</td>\n",
       "      <td>NaN</td>\n",
       "      <td>NaN</td>\n",
       "      <td>839.743</td>\n",
       "      <td>NaN</td>\n",
       "      <td>AFG</td>\n",
       "      <td>258.0</td>\n",
       "      <td>7492.0</td>\n",
       "    </tr>\n",
       "    <tr>\n",
       "      <th>2</th>\n",
       "      <td>Afghanistan</td>\n",
       "      <td>1968</td>\n",
       "      <td>10604346.0</td>\n",
       "      <td>5419182.0</td>\n",
       "      <td>5185164.0</td>\n",
       "      <td>35.832415</td>\n",
       "      <td>1.373333e+09</td>\n",
       "      <td>West and Central Asia</td>\n",
       "      <td>1884.71</td>\n",
       "      <td>646212.0</td>\n",
       "      <td>...</td>\n",
       "      <td>33.78231</td>\n",
       "      <td>16.410011</td>\n",
       "      <td>1224.778</td>\n",
       "      <td>NaN</td>\n",
       "      <td>NaN</td>\n",
       "      <td>1224.778</td>\n",
       "      <td>NaN</td>\n",
       "      <td>AFG</td>\n",
       "      <td>258.0</td>\n",
       "      <td>7492.0</td>\n",
       "    </tr>\n",
       "    <tr>\n",
       "      <th>3</th>\n",
       "      <td>Afghanistan</td>\n",
       "      <td>1972</td>\n",
       "      <td>11721940.0</td>\n",
       "      <td>5967987.0</td>\n",
       "      <td>5753953.0</td>\n",
       "      <td>37.620171</td>\n",
       "      <td>1.595555e+09</td>\n",
       "      <td>West and Central Asia</td>\n",
       "      <td>1884.71</td>\n",
       "      <td>646212.0</td>\n",
       "      <td>...</td>\n",
       "      <td>33.78231</td>\n",
       "      <td>18.139465</td>\n",
       "      <td>1532.806</td>\n",
       "      <td>9170.59</td>\n",
       "      <td>2530.158</td>\n",
       "      <td>13233.554</td>\n",
       "      <td>NaN</td>\n",
       "      <td>AFG</td>\n",
       "      <td>258.0</td>\n",
       "      <td>7492.0</td>\n",
       "    </tr>\n",
       "    <tr>\n",
       "      <th>4</th>\n",
       "      <td>Afghanistan</td>\n",
       "      <td>1976</td>\n",
       "      <td>12840299.0</td>\n",
       "      <td>6524577.0</td>\n",
       "      <td>6315722.0</td>\n",
       "      <td>39.585390</td>\n",
       "      <td>2.555556e+09</td>\n",
       "      <td>West and Central Asia</td>\n",
       "      <td>1884.71</td>\n",
       "      <td>646212.0</td>\n",
       "      <td>...</td>\n",
       "      <td>33.78231</td>\n",
       "      <td>19.870103</td>\n",
       "      <td>1987.514</td>\n",
       "      <td>10535.60</td>\n",
       "      <td>3265.633</td>\n",
       "      <td>15788.747</td>\n",
       "      <td>NaN</td>\n",
       "      <td>AFG</td>\n",
       "      <td>258.0</td>\n",
       "      <td>7492.0</td>\n",
       "    </tr>\n",
       "  </tbody>\n",
       "</table>\n",
       "<p>5 rows × 21 columns</p>\n",
       "</div>"
      ],
      "text/plain": [
       "       Country  Year  Population      Males    Females  Life_Expectancy  \\\n",
       "0  Afghanistan  1960   8996351.0  4649361.0  4346990.0        32.337561   \n",
       "1  Afghanistan  1964   9731361.0  4996990.0  4734371.0        34.101902   \n",
       "2  Afghanistan  1968  10604346.0  5419182.0  5185164.0        35.832415   \n",
       "3  Afghanistan  1972  11721940.0  5967987.0  5753953.0        37.620171   \n",
       "4  Afghanistan  1976  12840299.0  6524577.0  6315722.0        39.585390   \n",
       "\n",
       "            GDP                 Region  Elevation  Area_SqKM      ...        \\\n",
       "0  5.377778e+08  West and Central Asia    1884.71   646212.0      ...         \n",
       "1  8.000000e+08  West and Central Asia    1884.71   646212.0      ...         \n",
       "2  1.373333e+09  West and Central Asia    1884.71   646212.0      ...         \n",
       "3  1.595555e+09  West and Central Asia    1884.71   646212.0      ...         \n",
       "4  2.555556e+09  West and Central Asia    1884.71   646212.0      ...         \n",
       "\n",
       "   Centroid_Latitude  Population_Density  CO2_Emissions  Methane_Emissions  \\\n",
       "0           33.78231           13.921671        414.371                NaN   \n",
       "1           33.78231           15.059084        839.743                NaN   \n",
       "2           33.78231           16.410011       1224.778                NaN   \n",
       "3           33.78231           18.139465       1532.806            9170.59   \n",
       "4           33.78231           19.870103       1987.514           10535.60   \n",
       "\n",
       "   Nitrous_Oxide_Emisions  Total_Emissions  Emmisions_per_Capita  Code  \\\n",
       "0                     NaN          414.371                   NaN   AFG   \n",
       "1                     NaN          839.743                   NaN   AFG   \n",
       "2                     NaN         1224.778                   NaN   AFG   \n",
       "3                2530.158        13233.554                   NaN   AFG   \n",
       "4                3265.633        15788.747                   NaN   AFG   \n",
       "\n",
       "  Lowest_Point  Highest_Point  \n",
       "0        258.0         7492.0  \n",
       "1        258.0         7492.0  \n",
       "2        258.0         7492.0  \n",
       "3        258.0         7492.0  \n",
       "4        258.0         7492.0  \n",
       "\n",
       "[5 rows x 21 columns]"
      ]
     },
     "execution_count": 55,
     "metadata": {},
     "output_type": "execute_result"
    }
   ],
   "source": [
    "new_df = pd.merge(df, eldf,  how='left', left_on=['Country'], right_on = ['Country'])\n",
    "new_df.head()"
   ]
  },
  {
   "cell_type": "markdown",
   "metadata": {},
   "source": [
    "Creates an elevation range columns to hold the range of elevations"
   ]
  },
  {
   "cell_type": "code",
   "execution_count": 56,
   "metadata": {},
   "outputs": [
    {
     "data": {
      "text/html": [
       "<div>\n",
       "<style>\n",
       "    .dataframe thead tr:only-child th {\n",
       "        text-align: right;\n",
       "    }\n",
       "\n",
       "    .dataframe thead th {\n",
       "        text-align: left;\n",
       "    }\n",
       "\n",
       "    .dataframe tbody tr th {\n",
       "        vertical-align: top;\n",
       "    }\n",
       "</style>\n",
       "<table border=\"1\" class=\"dataframe\">\n",
       "  <thead>\n",
       "    <tr style=\"text-align: right;\">\n",
       "      <th></th>\n",
       "      <th>Country</th>\n",
       "      <th>Year</th>\n",
       "      <th>Population</th>\n",
       "      <th>Males</th>\n",
       "      <th>Females</th>\n",
       "      <th>Life_Expectancy</th>\n",
       "      <th>GDP</th>\n",
       "      <th>Region</th>\n",
       "      <th>Elevation</th>\n",
       "      <th>Area_SqKM</th>\n",
       "      <th>...</th>\n",
       "      <th>Population_Density</th>\n",
       "      <th>CO2_Emissions</th>\n",
       "      <th>Methane_Emissions</th>\n",
       "      <th>Nitrous_Oxide_Emisions</th>\n",
       "      <th>Total_Emissions</th>\n",
       "      <th>Emmisions_per_Capita</th>\n",
       "      <th>Code</th>\n",
       "      <th>Lowest_Point</th>\n",
       "      <th>Highest_Point</th>\n",
       "      <th>Elevation_Range</th>\n",
       "    </tr>\n",
       "  </thead>\n",
       "  <tbody>\n",
       "    <tr>\n",
       "      <th>0</th>\n",
       "      <td>Afghanistan</td>\n",
       "      <td>1960</td>\n",
       "      <td>8996351.0</td>\n",
       "      <td>4649361.0</td>\n",
       "      <td>4346990.0</td>\n",
       "      <td>32.337561</td>\n",
       "      <td>5.377778e+08</td>\n",
       "      <td>West and Central Asia</td>\n",
       "      <td>1884.71</td>\n",
       "      <td>646212.0</td>\n",
       "      <td>...</td>\n",
       "      <td>13.921671</td>\n",
       "      <td>414.371</td>\n",
       "      <td>NaN</td>\n",
       "      <td>NaN</td>\n",
       "      <td>414.371</td>\n",
       "      <td>NaN</td>\n",
       "      <td>AFG</td>\n",
       "      <td>258.0</td>\n",
       "      <td>7492.0</td>\n",
       "      <td>7234.0</td>\n",
       "    </tr>\n",
       "    <tr>\n",
       "      <th>1</th>\n",
       "      <td>Afghanistan</td>\n",
       "      <td>1964</td>\n",
       "      <td>9731361.0</td>\n",
       "      <td>4996990.0</td>\n",
       "      <td>4734371.0</td>\n",
       "      <td>34.101902</td>\n",
       "      <td>8.000000e+08</td>\n",
       "      <td>West and Central Asia</td>\n",
       "      <td>1884.71</td>\n",
       "      <td>646212.0</td>\n",
       "      <td>...</td>\n",
       "      <td>15.059084</td>\n",
       "      <td>839.743</td>\n",
       "      <td>NaN</td>\n",
       "      <td>NaN</td>\n",
       "      <td>839.743</td>\n",
       "      <td>NaN</td>\n",
       "      <td>AFG</td>\n",
       "      <td>258.0</td>\n",
       "      <td>7492.0</td>\n",
       "      <td>7234.0</td>\n",
       "    </tr>\n",
       "    <tr>\n",
       "      <th>2</th>\n",
       "      <td>Afghanistan</td>\n",
       "      <td>1968</td>\n",
       "      <td>10604346.0</td>\n",
       "      <td>5419182.0</td>\n",
       "      <td>5185164.0</td>\n",
       "      <td>35.832415</td>\n",
       "      <td>1.373333e+09</td>\n",
       "      <td>West and Central Asia</td>\n",
       "      <td>1884.71</td>\n",
       "      <td>646212.0</td>\n",
       "      <td>...</td>\n",
       "      <td>16.410011</td>\n",
       "      <td>1224.778</td>\n",
       "      <td>NaN</td>\n",
       "      <td>NaN</td>\n",
       "      <td>1224.778</td>\n",
       "      <td>NaN</td>\n",
       "      <td>AFG</td>\n",
       "      <td>258.0</td>\n",
       "      <td>7492.0</td>\n",
       "      <td>7234.0</td>\n",
       "    </tr>\n",
       "    <tr>\n",
       "      <th>3</th>\n",
       "      <td>Afghanistan</td>\n",
       "      <td>1972</td>\n",
       "      <td>11721940.0</td>\n",
       "      <td>5967987.0</td>\n",
       "      <td>5753953.0</td>\n",
       "      <td>37.620171</td>\n",
       "      <td>1.595555e+09</td>\n",
       "      <td>West and Central Asia</td>\n",
       "      <td>1884.71</td>\n",
       "      <td>646212.0</td>\n",
       "      <td>...</td>\n",
       "      <td>18.139465</td>\n",
       "      <td>1532.806</td>\n",
       "      <td>9170.59</td>\n",
       "      <td>2530.158</td>\n",
       "      <td>13233.554</td>\n",
       "      <td>NaN</td>\n",
       "      <td>AFG</td>\n",
       "      <td>258.0</td>\n",
       "      <td>7492.0</td>\n",
       "      <td>7234.0</td>\n",
       "    </tr>\n",
       "    <tr>\n",
       "      <th>4</th>\n",
       "      <td>Afghanistan</td>\n",
       "      <td>1976</td>\n",
       "      <td>12840299.0</td>\n",
       "      <td>6524577.0</td>\n",
       "      <td>6315722.0</td>\n",
       "      <td>39.585390</td>\n",
       "      <td>2.555556e+09</td>\n",
       "      <td>West and Central Asia</td>\n",
       "      <td>1884.71</td>\n",
       "      <td>646212.0</td>\n",
       "      <td>...</td>\n",
       "      <td>19.870103</td>\n",
       "      <td>1987.514</td>\n",
       "      <td>10535.60</td>\n",
       "      <td>3265.633</td>\n",
       "      <td>15788.747</td>\n",
       "      <td>NaN</td>\n",
       "      <td>AFG</td>\n",
       "      <td>258.0</td>\n",
       "      <td>7492.0</td>\n",
       "      <td>7234.0</td>\n",
       "    </tr>\n",
       "  </tbody>\n",
       "</table>\n",
       "<p>5 rows × 22 columns</p>\n",
       "</div>"
      ],
      "text/plain": [
       "       Country  Year  Population      Males    Females  Life_Expectancy  \\\n",
       "0  Afghanistan  1960   8996351.0  4649361.0  4346990.0        32.337561   \n",
       "1  Afghanistan  1964   9731361.0  4996990.0  4734371.0        34.101902   \n",
       "2  Afghanistan  1968  10604346.0  5419182.0  5185164.0        35.832415   \n",
       "3  Afghanistan  1972  11721940.0  5967987.0  5753953.0        37.620171   \n",
       "4  Afghanistan  1976  12840299.0  6524577.0  6315722.0        39.585390   \n",
       "\n",
       "            GDP                 Region  Elevation  Area_SqKM       ...         \\\n",
       "0  5.377778e+08  West and Central Asia    1884.71   646212.0       ...          \n",
       "1  8.000000e+08  West and Central Asia    1884.71   646212.0       ...          \n",
       "2  1.373333e+09  West and Central Asia    1884.71   646212.0       ...          \n",
       "3  1.595555e+09  West and Central Asia    1884.71   646212.0       ...          \n",
       "4  2.555556e+09  West and Central Asia    1884.71   646212.0       ...          \n",
       "\n",
       "   Population_Density  CO2_Emissions  Methane_Emissions  \\\n",
       "0           13.921671        414.371                NaN   \n",
       "1           15.059084        839.743                NaN   \n",
       "2           16.410011       1224.778                NaN   \n",
       "3           18.139465       1532.806            9170.59   \n",
       "4           19.870103       1987.514           10535.60   \n",
       "\n",
       "   Nitrous_Oxide_Emisions  Total_Emissions  Emmisions_per_Capita  Code  \\\n",
       "0                     NaN          414.371                   NaN   AFG   \n",
       "1                     NaN          839.743                   NaN   AFG   \n",
       "2                     NaN         1224.778                   NaN   AFG   \n",
       "3                2530.158        13233.554                   NaN   AFG   \n",
       "4                3265.633        15788.747                   NaN   AFG   \n",
       "\n",
       "   Lowest_Point Highest_Point  Elevation_Range  \n",
       "0         258.0        7492.0           7234.0  \n",
       "1         258.0        7492.0           7234.0  \n",
       "2         258.0        7492.0           7234.0  \n",
       "3         258.0        7492.0           7234.0  \n",
       "4         258.0        7492.0           7234.0  \n",
       "\n",
       "[5 rows x 22 columns]"
      ]
     },
     "execution_count": 56,
     "metadata": {},
     "output_type": "execute_result"
    }
   ],
   "source": [
    "new_df['Elevation_Range'] = new_df['Highest_Point']-new_df['Lowest_Point']\n",
    "new_df.head()"
   ]
  },
  {
   "cell_type": "markdown",
   "metadata": {},
   "source": [
    "#### Outputs"
   ]
  },
  {
   "cell_type": "code",
   "execution_count": 57,
   "metadata": {
    "collapsed": true
   },
   "outputs": [],
   "source": [
    "new_df.to_csv('../../data/prep/Countries/countries_325.csv', index=False)"
   ]
  }
 ],
 "metadata": {
  "kernelspec": {
   "display_name": "Python 3",
   "language": "python",
   "name": "python3"
  },
  "language_info": {
   "codemirror_mode": {
    "name": "ipython",
    "version": 3
   },
   "file_extension": ".py",
   "mimetype": "text/x-python",
   "name": "python",
   "nbconvert_exporter": "python",
   "pygments_lexer": "ipython3",
   "version": "3.6.3"
  }
 },
 "nbformat": 4,
 "nbformat_minor": 2
}
