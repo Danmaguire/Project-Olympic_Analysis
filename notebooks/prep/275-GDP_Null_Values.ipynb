{
 "cells": [
  {
   "cell_type": "markdown",
   "metadata": {},
   "source": [
    "# Notebook for getting rid of the GDP null values "
   ]
  },
  {
   "cell_type": "code",
   "execution_count": 226,
   "metadata": {
    "collapsed": true
   },
   "outputs": [],
   "source": [
    "import os.path\n",
    "import pandas as pd\n",
    "import numpy as np\n",
    "import matplotlib.pyplot as plt\n",
    "import math\n",
    "%matplotlib inline\n",
    "from bs4 import BeautifulSoup\n",
    "import webbrowser\n",
    "import urllib.request\n",
    "from lxml import html\n",
    "import zipfile\n",
    "import re\n",
    "import string\n",
    "import sys, os\n",
    "from IPython.display import Image"
   ]
  },
  {
   "cell_type": "code",
   "execution_count": 227,
   "metadata": {
    "collapsed": true
   },
   "outputs": [],
   "source": [
    "# Ensure the file exists\n",
    "if not os.path.exists( r\"../../data/prep/Countries/countries_250.csv\" ):\n",
    "    print(\"Missing dataset file\")"
   ]
  },
  {
   "cell_type": "code",
   "execution_count": 228,
   "metadata": {
    "collapsed": true
   },
   "outputs": [],
   "source": [
    "# read the countries df into a dataframe\n",
    "df = pd.read_csv(  r\"../../data/prep/Countries/countries_250.csv\" , encoding = \"ISO-8859-1\")"
   ]
  },
  {
   "cell_type": "code",
   "execution_count": 229,
   "metadata": {},
   "outputs": [
    {
     "data": {
      "text/plain": [
       "Country                      0\n",
       "Year                         0\n",
       "Population                   0\n",
       "Males                        0\n",
       "Females                      0\n",
       "Life_Expectancy            174\n",
       "GDP                        438\n",
       "Region                       0\n",
       "Elevation                  315\n",
       "Area_SqKM                  315\n",
       "Centroid_Longitude         315\n",
       "Centroid_Latitude          315\n",
       "Population_Density         315\n",
       "CO2_Emissions              453\n",
       "Methane_Emissions          729\n",
       "Nitrous_Oxide_Emisions     729\n",
       "Total_Emissions              0\n",
       "Emmisions_per_Capita      2793\n",
       "Code                         0\n",
       "dtype: int64"
      ]
     },
     "execution_count": 229,
     "metadata": {},
     "output_type": "execute_result"
    }
   ],
   "source": [
    "# checking the number of null values we are dealing with\n",
    "df.isnull().sum()"
   ]
  },
  {
   "cell_type": "markdown",
   "metadata": {},
   "source": [
    "# Figuring out which countries have Null GDP values "
   ]
  },
  {
   "cell_type": "code",
   "execution_count": 230,
   "metadata": {
    "collapsed": true
   },
   "outputs": [],
   "source": [
    "# these are all the rows with null GDP values\n",
    "nullGDPdf = df.loc[df['GDP'].isnull()].reset_index()\n",
    "# Dropping the old index\n",
    "nullGDPdf = nullGDPdf.drop(nullGDPdf.columns[[0]], axis=1)"
   ]
  },
  {
   "cell_type": "code",
   "execution_count": 231,
   "metadata": {
    "collapsed": true
   },
   "outputs": [],
   "source": [
    "# a list of all the countries with null GDP values \n",
    "gdpNcs = ['Afghanistan', 'Argentina', 'Armenia', 'Azerbaijan', 'Bahrain',\n",
    "       'Barbados', 'Belarus', 'Bermuda', 'Bosnia and Herzegovina',\n",
    "       'Bulgaria', 'Croatia', 'Cuba', 'Cyprus', 'Czech Republic',\n",
    "       'Djibouti', 'Egypt, Arab Rep.', 'Eritrea', 'Estonia', 'Ethiopia',\n",
    "       'Georgia', 'Germany', 'Grenada', 'Hungary', 'Indonesia',\n",
    "       'Iran, Islamic Rep.', 'Iraq', 'Jordan', 'Kazakhstan',\n",
    "       'Korea, Dem. People?s Rep.', 'Kosovo', 'Kuwait', 'Kyrgyz Republic',\n",
    "       'Latvia', 'Liechtenstein', 'Lithuania', 'Macedonia, FYR',\n",
    "       'Mauritius', 'Moldova', 'Mongolia', 'Montenegro', 'Mozambique',\n",
    "       'Namibia', 'New Zealand', 'Niger', 'Paraguay', 'Poland',\n",
    "       'Puerto Rico', 'Qatar', 'Romania', 'Russian Federation', 'Samoa',\n",
    "       'Saudi Arabia', 'Serbia', 'Slovak Republic', 'Slovenia',\n",
    "       'Switzerland', 'Syrian Arab Republic', 'Tajikistan', 'Tanzania',\n",
    "       'Tonga', 'Tunisia', 'Turkmenistan', 'Ukraine',\n",
    "       'United Arab Emirates', 'Uzbekistan', 'Venezuela, RB', 'Vietnam',\n",
    "       'Virgin Islands (U.S.)']"
   ]
  },
  {
   "cell_type": "code",
   "execution_count": 232,
   "metadata": {
    "collapsed": true
   },
   "outputs": [],
   "source": [
    "# Creating a dictionary with each country and their null values "
   ]
  },
  {
   "cell_type": "code",
   "execution_count": 233,
   "metadata": {
    "collapsed": true
   },
   "outputs": [],
   "source": [
    "# null dictionary \n",
    "nullDic = {}"
   ]
  },
  {
   "cell_type": "code",
   "execution_count": 234,
   "metadata": {
    "collapsed": true
   },
   "outputs": [],
   "source": [
    "for x, row in nullGDPdf.iterrows():\n",
    "    \n",
    "    country = nullGDPdf['Country'].iloc[x]\n",
    "    \n",
    "    # gets how many rows/ years that have null values for GDP \n",
    "    temp = nullGDPdf.loc[nullGDPdf['Country'] == country]\n",
    "    length = len(temp.loc[temp['GDP'].isnull()])\n",
    "    \n",
    "    nullDic.update({country: length})"
   ]
  },
  {
   "cell_type": "code",
   "execution_count": 235,
   "metadata": {},
   "outputs": [
    {
     "data": {
      "text/plain": [
       "{'Afghanistan': 7,\n",
       " 'Argentina': 1,\n",
       " 'Armenia': 8,\n",
       " 'Azerbaijan': 8,\n",
       " 'Bahrain': 5,\n",
       " 'Barbados': 8,\n",
       " 'Belarus': 8,\n",
       " 'Bermuda': 2,\n",
       " 'Bosnia and Herzegovina': 9,\n",
       " 'Bulgaria': 5,\n",
       " 'Croatia': 10,\n",
       " 'Cuba': 4,\n",
       " 'Cyprus': 4,\n",
       " 'Czech Republic': 8,\n",
       " 'Djibouti': 8,\n",
       " 'Egypt, Arab Rep.': 2,\n",
       " 'Eritrea': 11,\n",
       " 'Estonia': 10,\n",
       " 'Ethiopia': 6,\n",
       " 'Georgia': 8,\n",
       " 'Germany': 3,\n",
       " 'Grenada': 5,\n",
       " 'Hungary': 8,\n",
       " 'Indonesia': 2,\n",
       " 'Iran, Islamic Rep.': 1,\n",
       " 'Iraq': 6,\n",
       " 'Jordan': 2,\n",
       " 'Kazakhstan': 8,\n",
       " 'Korea, Dem. People?s Rep.': 21,\n",
       " 'Kosovo': 12,\n",
       " 'Kuwait': 2,\n",
       " 'Kyrgyz Republic': 8,\n",
       " 'Latvia': 10,\n",
       " 'Liechtenstein': 4,\n",
       " 'Lithuania': 10,\n",
       " 'Macedonia, FYR': 8,\n",
       " 'Mauritius': 4,\n",
       " 'Moldova': 10,\n",
       " 'Mongolia': 6,\n",
       " 'Montenegro': 12,\n",
       " 'Mozambique': 5,\n",
       " 'Namibia': 5,\n",
       " 'Niger': 21,\n",
       " 'Paraguay': 2,\n",
       " 'Poland': 8,\n",
       " 'Puerto Rico': 2,\n",
       " 'Qatar': 3,\n",
       " 'Romania': 7,\n",
       " 'Russian Federation': 8,\n",
       " 'Samoa': 6,\n",
       " 'Saudi Arabia': 2,\n",
       " 'Serbia': 10,\n",
       " 'Slovak Republic': 8,\n",
       " 'Slovenia': 10,\n",
       " 'Switzerland': 2,\n",
       " 'Syrian Arab Republic': 5,\n",
       " 'Tajikistan': 8,\n",
       " 'Tanzania': 7,\n",
       " 'Tonga': 4,\n",
       " 'Tunisia': 2,\n",
       " 'Turkmenistan': 7,\n",
       " 'Ukraine': 7,\n",
       " 'United Arab Emirates': 4,\n",
       " 'Uzbekistan': 8,\n",
       " 'Venezuela, RB': 1,\n",
       " 'Vietnam': 7,\n",
       " 'Virgin Islands (U.S.)': 5}"
      ]
     },
     "execution_count": 235,
     "metadata": {},
     "output_type": "execute_result"
    }
   ],
   "source": [
    "# this is the null dictionary \n",
    "# The keys are the countries and the values are the number of years with null GDP\n",
    "nullDic"
   ]
  },
  {
   "cell_type": "markdown",
   "metadata": {},
   "source": [
    "# Excluding nations that particapted for different NOCs \n",
    "These are the nations we briefly above. They competed for teams like the unified olympic team and solviet unonetc. So we fill these null values in the notebook 400. "
   ]
  },
  {
   "cell_type": "code",
   "execution_count": 236,
   "metadata": {
    "collapsed": true
   },
   "outputs": [],
   "source": [
    "# list of all these countries \n",
    "members = ['Montenegro',\n",
    " 'Uzbekistan',\n",
    " 'Slovak Republic',\n",
    " 'Slovenia',\n",
    " 'Turkmenistan',\n",
    " 'Kazakhstan',\n",
    " 'Serbia',\n",
    " 'Azerbaijan',\n",
    " 'Moldova',\n",
    " 'Macedonia, FYR',\n",
    " 'Czech Republic',\n",
    " 'Kyrgyz Republic',\n",
    " 'Belarus',\n",
    " 'Ukraine',\n",
    " 'Tajikistan',\n",
    " 'Bosnia and Herzegovina',\n",
    " 'Georgia',\n",
    " 'Russian Federation',\n",
    " 'Armenia', 'Lithuania']"
   ]
  },
  {
   "cell_type": "markdown",
   "metadata": {},
   "source": [
    "** We need to save the countires that we remove so we can add them back later. The GDP values for these countries are filled in notebook 400.**"
   ]
  },
  {
   "cell_type": "code",
   "execution_count": 237,
   "metadata": {},
   "outputs": [
    {
     "data": {
      "text/html": [
       "<div>\n",
       "<style>\n",
       "    .dataframe thead tr:only-child th {\n",
       "        text-align: right;\n",
       "    }\n",
       "\n",
       "    .dataframe thead th {\n",
       "        text-align: left;\n",
       "    }\n",
       "\n",
       "    .dataframe tbody tr th {\n",
       "        vertical-align: top;\n",
       "    }\n",
       "</style>\n",
       "<table border=\"1\" class=\"dataframe\">\n",
       "  <thead>\n",
       "    <tr style=\"text-align: right;\">\n",
       "      <th></th>\n",
       "      <th>index</th>\n",
       "      <th>Country</th>\n",
       "      <th>Year</th>\n",
       "      <th>Population</th>\n",
       "      <th>Males</th>\n",
       "      <th>Females</th>\n",
       "      <th>Life_Expectancy</th>\n",
       "      <th>GDP</th>\n",
       "      <th>Region</th>\n",
       "      <th>Elevation</th>\n",
       "      <th>Area_SqKM</th>\n",
       "      <th>Centroid_Longitude</th>\n",
       "      <th>Centroid_Latitude</th>\n",
       "      <th>Population_Density</th>\n",
       "      <th>CO2_Emissions</th>\n",
       "      <th>Methane_Emissions</th>\n",
       "      <th>Nitrous_Oxide_Emisions</th>\n",
       "      <th>Total_Emissions</th>\n",
       "      <th>Emmisions_per_Capita</th>\n",
       "      <th>Code</th>\n",
       "    </tr>\n",
       "  </thead>\n",
       "  <tbody>\n",
       "    <tr>\n",
       "      <th>0</th>\n",
       "      <td>63</td>\n",
       "      <td>Armenia</td>\n",
       "      <td>1960</td>\n",
       "      <td>1874120.0</td>\n",
       "      <td>903002.0</td>\n",
       "      <td>971118.0</td>\n",
       "      <td>65.863463</td>\n",
       "      <td>NaN</td>\n",
       "      <td>West and Central Asia</td>\n",
       "      <td>1792.034</td>\n",
       "      <td>30643.8</td>\n",
       "      <td>45.21657</td>\n",
       "      <td>40.30967</td>\n",
       "      <td>61.158211</td>\n",
       "      <td>NaN</td>\n",
       "      <td>NaN</td>\n",
       "      <td>NaN</td>\n",
       "      <td>0.0000</td>\n",
       "      <td>NaN</td>\n",
       "      <td>ARM</td>\n",
       "    </tr>\n",
       "    <tr>\n",
       "      <th>1</th>\n",
       "      <td>64</td>\n",
       "      <td>Armenia</td>\n",
       "      <td>1964</td>\n",
       "      <td>2144998.0</td>\n",
       "      <td>1040243.0</td>\n",
       "      <td>1104755.0</td>\n",
       "      <td>67.565415</td>\n",
       "      <td>NaN</td>\n",
       "      <td>West and Central Asia</td>\n",
       "      <td>1792.034</td>\n",
       "      <td>30643.8</td>\n",
       "      <td>45.21657</td>\n",
       "      <td>40.30967</td>\n",
       "      <td>69.997781</td>\n",
       "      <td>NaN</td>\n",
       "      <td>NaN</td>\n",
       "      <td>NaN</td>\n",
       "      <td>0.0000</td>\n",
       "      <td>NaN</td>\n",
       "      <td>ARM</td>\n",
       "    </tr>\n",
       "    <tr>\n",
       "      <th>2</th>\n",
       "      <td>65</td>\n",
       "      <td>Armenia</td>\n",
       "      <td>1968</td>\n",
       "      <td>2401140.0</td>\n",
       "      <td>1170242.0</td>\n",
       "      <td>1230898.0</td>\n",
       "      <td>69.229268</td>\n",
       "      <td>NaN</td>\n",
       "      <td>West and Central Asia</td>\n",
       "      <td>1792.034</td>\n",
       "      <td>30643.8</td>\n",
       "      <td>45.21657</td>\n",
       "      <td>40.30967</td>\n",
       "      <td>78.356470</td>\n",
       "      <td>NaN</td>\n",
       "      <td>NaN</td>\n",
       "      <td>NaN</td>\n",
       "      <td>0.0000</td>\n",
       "      <td>NaN</td>\n",
       "      <td>ARM</td>\n",
       "    </tr>\n",
       "    <tr>\n",
       "      <th>3</th>\n",
       "      <td>66</td>\n",
       "      <td>Armenia</td>\n",
       "      <td>1972</td>\n",
       "      <td>2650484.0</td>\n",
       "      <td>1293462.0</td>\n",
       "      <td>1357022.0</td>\n",
       "      <td>70.367341</td>\n",
       "      <td>NaN</td>\n",
       "      <td>West and Central Asia</td>\n",
       "      <td>1792.034</td>\n",
       "      <td>30643.8</td>\n",
       "      <td>45.21657</td>\n",
       "      <td>40.30967</td>\n",
       "      <td>86.493320</td>\n",
       "      <td>NaN</td>\n",
       "      <td>1440.48</td>\n",
       "      <td>581.0237</td>\n",
       "      <td>2021.5037</td>\n",
       "      <td>NaN</td>\n",
       "      <td>ARM</td>\n",
       "    </tr>\n",
       "    <tr>\n",
       "      <th>4</th>\n",
       "      <td>67</td>\n",
       "      <td>Armenia</td>\n",
       "      <td>1976</td>\n",
       "      <td>2889579.0</td>\n",
       "      <td>1408109.0</td>\n",
       "      <td>1481470.0</td>\n",
       "      <td>70.529415</td>\n",
       "      <td>NaN</td>\n",
       "      <td>West and Central Asia</td>\n",
       "      <td>1792.034</td>\n",
       "      <td>30643.8</td>\n",
       "      <td>45.21657</td>\n",
       "      <td>40.30967</td>\n",
       "      <td>94.295714</td>\n",
       "      <td>NaN</td>\n",
       "      <td>1590.73</td>\n",
       "      <td>664.0386</td>\n",
       "      <td>2254.7686</td>\n",
       "      <td>NaN</td>\n",
       "      <td>ARM</td>\n",
       "    </tr>\n",
       "  </tbody>\n",
       "</table>\n",
       "</div>"
      ],
      "text/plain": [
       "   index  Country  Year  Population      Males    Females  Life_Expectancy  \\\n",
       "0     63  Armenia  1960   1874120.0   903002.0   971118.0        65.863463   \n",
       "1     64  Armenia  1964   2144998.0  1040243.0  1104755.0        67.565415   \n",
       "2     65  Armenia  1968   2401140.0  1170242.0  1230898.0        69.229268   \n",
       "3     66  Armenia  1972   2650484.0  1293462.0  1357022.0        70.367341   \n",
       "4     67  Armenia  1976   2889579.0  1408109.0  1481470.0        70.529415   \n",
       "\n",
       "   GDP                 Region  Elevation  Area_SqKM  Centroid_Longitude  \\\n",
       "0  NaN  West and Central Asia   1792.034    30643.8            45.21657   \n",
       "1  NaN  West and Central Asia   1792.034    30643.8            45.21657   \n",
       "2  NaN  West and Central Asia   1792.034    30643.8            45.21657   \n",
       "3  NaN  West and Central Asia   1792.034    30643.8            45.21657   \n",
       "4  NaN  West and Central Asia   1792.034    30643.8            45.21657   \n",
       "\n",
       "   Centroid_Latitude  Population_Density  CO2_Emissions  Methane_Emissions  \\\n",
       "0           40.30967           61.158211            NaN                NaN   \n",
       "1           40.30967           69.997781            NaN                NaN   \n",
       "2           40.30967           78.356470            NaN                NaN   \n",
       "3           40.30967           86.493320            NaN            1440.48   \n",
       "4           40.30967           94.295714            NaN            1590.73   \n",
       "\n",
       "   Nitrous_Oxide_Emisions  Total_Emissions  Emmisions_per_Capita Code  \n",
       "0                     NaN           0.0000                   NaN  ARM  \n",
       "1                     NaN           0.0000                   NaN  ARM  \n",
       "2                     NaN           0.0000                   NaN  ARM  \n",
       "3                581.0237        2021.5037                   NaN  ARM  \n",
       "4                664.0386        2254.7686                   NaN  ARM  "
      ]
     },
     "execution_count": 237,
     "metadata": {},
     "output_type": "execute_result"
    }
   ],
   "source": [
    "# the removed countries\n",
    "removed = df[df['Country'].isin(members)].reset_index()\n",
    "removed.head()"
   ]
  },
  {
   "cell_type": "code",
   "execution_count": 238,
   "metadata": {
    "collapsed": true
   },
   "outputs": [],
   "source": [
    "# removing these countires from the df to see how mmany nulls are left afterwards \n",
    "df = df[~df['Country'].isin(members)].reset_index()"
   ]
  },
  {
   "cell_type": "markdown",
   "metadata": {},
   "source": [
    "# Dealing with the rest of the nulls "
   ]
  },
  {
   "cell_type": "markdown",
   "metadata": {},
   "source": [
    "There are only 84 nulls and 11 countires with GDP nulls when we take out the countires above. \n",
    "We will address them now the way we have decided to do it is b taking the three GDP year values after a null value "
   ]
  },
  {
   "cell_type": "code",
   "execution_count": 239,
   "metadata": {},
   "outputs": [
    {
     "data": {
      "text/plain": [
       "index                        0\n",
       "Country                      0\n",
       "Year                         0\n",
       "Population                   0\n",
       "Males                        0\n",
       "Females                      0\n",
       "Life_Expectancy            142\n",
       "GDP                        267\n",
       "Region                       0\n",
       "Elevation                  315\n",
       "Area_SqKM                  315\n",
       "Centroid_Longitude         315\n",
       "Centroid_Latitude          315\n",
       "Population_Density         315\n",
       "CO2_Emissions              259\n",
       "Methane_Emissions          601\n",
       "Nitrous_Oxide_Emisions     601\n",
       "Total_Emissions              0\n",
       "Emmisions_per_Capita      2373\n",
       "Code                         0\n",
       "dtype: int64"
      ]
     },
     "execution_count": 239,
     "metadata": {},
     "output_type": "execute_result"
    }
   ],
   "source": [
    "df.isnull().sum()"
   ]
  },
  {
   "cell_type": "code",
   "execution_count": 240,
   "metadata": {
    "collapsed": true
   },
   "outputs": [],
   "source": [
    "# these are all the rows with null GDP values\n",
    "nullGDPdf = df.loc[df['GDP'].isnull()].reset_index()\n",
    "# Dropping the old index\n",
    "nullGDPdf = nullGDPdf.drop(nullGDPdf.columns[[0]], axis=1)"
   ]
  },
  {
   "cell_type": "code",
   "execution_count": 241,
   "metadata": {
    "collapsed": true
   },
   "outputs": [],
   "source": [
    "# null dictionary \n",
    "nullDic = {}"
   ]
  },
  {
   "cell_type": "code",
   "execution_count": 242,
   "metadata": {
    "collapsed": true
   },
   "outputs": [],
   "source": [
    "for x, row in nullGDPdf.iterrows():\n",
    "    \n",
    "    country = nullGDPdf['Country'].iloc[x]\n",
    "    \n",
    "    # gets how many rows/ years that have null values for GDP \n",
    "    temp = nullGDPdf.loc[nullGDPdf['Country'] == country]\n",
    "    length = len(temp.loc[temp['GDP'].isnull()])\n",
    "    \n",
    "    nullDic.update({country: length})"
   ]
  },
  {
   "cell_type": "code",
   "execution_count": 243,
   "metadata": {},
   "outputs": [
    {
     "data": {
      "text/plain": [
       "{'Afghanistan': 7,\n",
       " 'Argentina': 1,\n",
       " 'Bahrain': 5,\n",
       " 'Barbados': 8,\n",
       " 'Bermuda': 2,\n",
       " 'Bulgaria': 5,\n",
       " 'Croatia': 10,\n",
       " 'Cuba': 4,\n",
       " 'Cyprus': 4,\n",
       " 'Djibouti': 8,\n",
       " 'Egypt, Arab Rep.': 2,\n",
       " 'Eritrea': 11,\n",
       " 'Estonia': 10,\n",
       " 'Ethiopia': 6,\n",
       " 'Germany': 3,\n",
       " 'Grenada': 5,\n",
       " 'Hungary': 8,\n",
       " 'Indonesia': 2,\n",
       " 'Iran, Islamic Rep.': 1,\n",
       " 'Iraq': 6,\n",
       " 'Jordan': 2,\n",
       " 'Korea, Dem. People?s Rep.': 21,\n",
       " 'Kosovo': 12,\n",
       " 'Kuwait': 2,\n",
       " 'Latvia': 10,\n",
       " 'Liechtenstein': 4,\n",
       " 'Mauritius': 4,\n",
       " 'Mongolia': 6,\n",
       " 'Mozambique': 5,\n",
       " 'Namibia': 5,\n",
       " 'Niger': 21,\n",
       " 'Paraguay': 2,\n",
       " 'Poland': 8,\n",
       " 'Puerto Rico': 2,\n",
       " 'Qatar': 3,\n",
       " 'Romania': 7,\n",
       " 'Samoa': 6,\n",
       " 'Saudi Arabia': 2,\n",
       " 'Switzerland': 2,\n",
       " 'Syrian Arab Republic': 5,\n",
       " 'Tanzania': 7,\n",
       " 'Tonga': 4,\n",
       " 'Tunisia': 2,\n",
       " 'United Arab Emirates': 4,\n",
       " 'Venezuela, RB': 1,\n",
       " 'Vietnam': 7,\n",
       " 'Virgin Islands (U.S.)': 5}"
      ]
     },
     "execution_count": 243,
     "metadata": {},
     "output_type": "execute_result"
    }
   ],
   "source": [
    "nullDic"
   ]
  },
  {
   "cell_type": "markdown",
   "metadata": {},
   "source": [
    "# Removing Nulls in list above\n",
    "* In order to remove the remaning nulls we sourced as many of the years as possible from this UN website http://data.un.org/,  as we did in previous notebooks. However even this website did not contain all the GDPs for every years usally before 1970. So The way we removed the rest of the null GDPs of the countries above is by using GDPs from later years in that country. If a country has a null GDP value we take the GDP values for the 3 years after and get the average growth. We then multiply 1 - average growth by the first year following the null GDP to get the GDP for this null year. We repeat the process to get GDP for all the nulls. We iterate through the df backwards so they're will always be a GDP value for each country before the null where we can apply the process just mentioned.\n",
    "* Once we have elimated the possability of null values for the Years 2016, 2014 and 2012 for every country then every country will have at least three years that we can use to fill remaining GDP nulls by the process explained above."
   ]
  },
  {
   "cell_type": "code",
   "execution_count": 244,
   "metadata": {},
   "outputs": [
    {
     "data": {
      "text/plain": [
       "array(['Bermuda', 'Cuba', 'Djibouti', 'Eritrea',\n",
       "       'Korea, Dem. People?s Rep.', 'Liechtenstein', 'Niger',\n",
       "       'Puerto Rico', 'Syrian Arab Republic', 'Venezuela, RB',\n",
       "       'Virgin Islands (U.S.)'], dtype=object)"
      ]
     },
     "execution_count": 244,
     "metadata": {},
     "output_type": "execute_result"
    }
   ],
   "source": [
    "# Countries with null values for 2012, 2014 or 2016\n",
    "temp = df[df['GDP'].isnull()]\n",
    "temp[temp['Year'] >= 2012]['Country'].unique()"
   ]
  },
  {
   "cell_type": "code",
   "execution_count": 245,
   "metadata": {},
   "outputs": [
    {
     "data": {
      "text/html": [
       "<div>\n",
       "<style>\n",
       "    .dataframe thead tr:only-child th {\n",
       "        text-align: right;\n",
       "    }\n",
       "\n",
       "    .dataframe thead th {\n",
       "        text-align: left;\n",
       "    }\n",
       "\n",
       "    .dataframe tbody tr th {\n",
       "        vertical-align: top;\n",
       "    }\n",
       "</style>\n",
       "<table border=\"1\" class=\"dataframe\">\n",
       "  <thead>\n",
       "    <tr style=\"text-align: right;\">\n",
       "      <th></th>\n",
       "      <th>Country</th>\n",
       "      <th>Year</th>\n",
       "      <th>Population</th>\n",
       "      <th>Males</th>\n",
       "      <th>Females</th>\n",
       "      <th>Life_Expectancy</th>\n",
       "      <th>GDP</th>\n",
       "      <th>Region</th>\n",
       "      <th>Elevation</th>\n",
       "      <th>Area_SqKM</th>\n",
       "      <th>Centroid_Longitude</th>\n",
       "      <th>Centroid_Latitude</th>\n",
       "      <th>Population_Density</th>\n",
       "      <th>CO2_Emissions</th>\n",
       "      <th>Methane_Emissions</th>\n",
       "      <th>Nitrous_Oxide_Emisions</th>\n",
       "      <th>Total_Emissions</th>\n",
       "      <th>Emmisions_per_Capita</th>\n",
       "      <th>Code</th>\n",
       "    </tr>\n",
       "  </thead>\n",
       "  <tbody>\n",
       "    <tr>\n",
       "      <th>2350</th>\n",
       "      <td>Virgin Islands (U.S.)</td>\n",
       "      <td>2014</td>\n",
       "      <td>104170.0</td>\n",
       "      <td>49716.0</td>\n",
       "      <td>54454.0</td>\n",
       "      <td>79.773171</td>\n",
       "      <td>3.624000e+09</td>\n",
       "      <td>South America</td>\n",
       "      <td>NaN</td>\n",
       "      <td>NaN</td>\n",
       "      <td>NaN</td>\n",
       "      <td>NaN</td>\n",
       "      <td>NaN</td>\n",
       "      <td>NaN</td>\n",
       "      <td>NaN</td>\n",
       "      <td>NaN</td>\n",
       "      <td>0.0</td>\n",
       "      <td>NaN</td>\n",
       "      <td>ISV</td>\n",
       "    </tr>\n",
       "    <tr>\n",
       "      <th>2351</th>\n",
       "      <td>Virgin Islands (U.S.)</td>\n",
       "      <td>2016</td>\n",
       "      <td>102951.0</td>\n",
       "      <td>49091.0</td>\n",
       "      <td>53860.0</td>\n",
       "      <td>NaN</td>\n",
       "      <td>NaN</td>\n",
       "      <td>South America</td>\n",
       "      <td>NaN</td>\n",
       "      <td>NaN</td>\n",
       "      <td>NaN</td>\n",
       "      <td>NaN</td>\n",
       "      <td>NaN</td>\n",
       "      <td>NaN</td>\n",
       "      <td>NaN</td>\n",
       "      <td>NaN</td>\n",
       "      <td>0.0</td>\n",
       "      <td>NaN</td>\n",
       "      <td>ISV</td>\n",
       "    </tr>\n",
       "  </tbody>\n",
       "</table>\n",
       "</div>"
      ],
      "text/plain": [
       "                    Country  Year  Population    Males  Females  \\\n",
       "2350  Virgin Islands (U.S.)  2014    104170.0  49716.0  54454.0   \n",
       "2351  Virgin Islands (U.S.)  2016    102951.0  49091.0  53860.0   \n",
       "\n",
       "      Life_Expectancy           GDP         Region  Elevation  Area_SqKM  \\\n",
       "2350        79.773171  3.624000e+09  South America        NaN        NaN   \n",
       "2351              NaN           NaN  South America        NaN        NaN   \n",
       "\n",
       "      Centroid_Longitude  Centroid_Latitude  Population_Density  \\\n",
       "2350                 NaN                NaN                 NaN   \n",
       "2351                 NaN                NaN                 NaN   \n",
       "\n",
       "      CO2_Emissions  Methane_Emissions  Nitrous_Oxide_Emisions  \\\n",
       "2350            NaN                NaN                     NaN   \n",
       "2351            NaN                NaN                     NaN   \n",
       "\n",
       "      Total_Emissions  Emmisions_per_Capita Code  \n",
       "2350              0.0                   NaN  ISV  \n",
       "2351              0.0                   NaN  ISV  "
      ]
     },
     "execution_count": 245,
     "metadata": {},
     "output_type": "execute_result"
    }
   ],
   "source": [
    "# Remove old df index\n",
    "df = df.drop(df.columns[[0]], axis=1)\n",
    "# The virgin Islands is just missing 2016 \n",
    "# So we'll just find the 2016 value online and plug it in\n",
    "df[df['Country'] == 'Virgin Islands (U.S.)'].tail(2)"
   ]
  },
  {
   "cell_type": "markdown",
   "metadata": {},
   "source": [
    "This source https://www.bea.gov/newsreleases/general/terr/2017/vigdp_120117.pdf stated that GDP in Virgin Islands U.S. rose 1.5% from 2015 to 2016 after increasing 2.9% from 2014 to 2015 an overall increase of 4.4%. So we'll just apply this 4.4% increase to 2014 to get the 2016 value. "
   ]
  },
  {
   "cell_type": "code",
   "execution_count": 246,
   "metadata": {
    "collapsed": true
   },
   "outputs": [],
   "source": [
    "# Setting this GDP for 2016 Virgin Islands by row number..\n",
    "df.loc[2351, 'GDP'] = (df.loc[2350, 'GDP'] * 0.044) + (df.loc[2350, 'GDP'])"
   ]
  },
  {
   "cell_type": "markdown",
   "metadata": {},
   "source": [
    "# Filling the Rest of these countries Nulls from 1970 -> 2016 "
   ]
  },
  {
   "cell_type": "markdown",
   "metadata": {},
   "source": [
    "# Korea"
   ]
  },
  {
   "cell_type": "code",
   "execution_count": 247,
   "metadata": {
    "collapsed": true
   },
   "outputs": [],
   "source": [
    "# Reading in the GDP info for Korea\n",
    "if not os.path.exists( r\"../../data/raw/UNData/UN_Korea_GDP.csv\" ):\n",
    "    print(\"Missing dataset file\")"
   ]
  },
  {
   "cell_type": "code",
   "execution_count": 248,
   "metadata": {
    "collapsed": true
   },
   "outputs": [],
   "source": [
    "# read the countries df into a dataframe\n",
    "kGDP = pd.read_csv( r\"../../data/raw/UNData/UN_Korea_GDP.csv\"  , encoding = \"ISO-8859-1\")"
   ]
  },
  {
   "cell_type": "code",
   "execution_count": 249,
   "metadata": {
    "collapsed": true
   },
   "outputs": [],
   "source": [
    "# dictionary for holding GDP info key - year , value - GDP\n",
    "gdpDict = {}\n",
    "\n",
    "for x, row in kGDP.iterrows():\n",
    "    \n",
    "    GDP = kGDP['Value'].iloc[x]\n",
    "    Year = kGDP['Year'].iloc[x]\n",
    "    \n",
    "    gdpDict.update({Year: GDP})\n",
    "    \n",
    "    "
   ]
  },
  {
   "cell_type": "code",
   "execution_count": 250,
   "metadata": {
    "collapsed": true
   },
   "outputs": [],
   "source": [
    "# filling some of the nulls with the GDP dictionary \n",
    "for x, row in df.iterrows():\n",
    "    \n",
    "    Year = df['Year'].iloc[x]\n",
    "    country = df['Country'].iloc[x]\n",
    "    GDP = df['GDP'].iloc[x]\n",
    "    \n",
    "    if(country == 'Korea, Dem. People?s Rep.' and pd.isnull(GDP) and Year >= 1970):\n",
    "        df.loc[x, 'GDP'] = gdpDict[Year]\n",
    "        \n",
    "        "
   ]
  },
  {
   "cell_type": "markdown",
   "metadata": {},
   "source": [
    "# Niger"
   ]
  },
  {
   "cell_type": "code",
   "execution_count": 251,
   "metadata": {
    "collapsed": true
   },
   "outputs": [],
   "source": [
    "# Reading in the GDP info for Korea\n",
    "if not os.path.exists( r\"../../data/raw/UNData/UN_Niger_GDP.csv\" ):\n",
    "    print(\"Missing dataset file\")"
   ]
  },
  {
   "cell_type": "code",
   "execution_count": 252,
   "metadata": {
    "collapsed": true
   },
   "outputs": [],
   "source": [
    "# read the countries df into a dataframe\n",
    "nGDP = pd.read_csv( r\"../../data/raw/UNData/UN_Niger_GDP.csv\"  , encoding = \"ISO-8859-1\")"
   ]
  },
  {
   "cell_type": "code",
   "execution_count": 253,
   "metadata": {
    "collapsed": true
   },
   "outputs": [],
   "source": [
    "# dictionary for holding GDP info key - year , value - GDP\n",
    "gdpDict = {}\n",
    "\n",
    "for x, row in nGDP.iterrows():\n",
    "    \n",
    "    GDP = nGDP['Value'].iloc[x]\n",
    "    Year = nGDP['Year'].iloc[x]\n",
    "    \n",
    "    gdpDict.update({Year: GDP})\n",
    "    \n",
    "    "
   ]
  },
  {
   "cell_type": "code",
   "execution_count": 254,
   "metadata": {
    "collapsed": true
   },
   "outputs": [],
   "source": [
    "# dictionary for holding GDP info key - year , value - GDP\n",
    "for x, row in df.iterrows():\n",
    "    \n",
    "    Year = df['Year'].iloc[x]\n",
    "    country = df['Country'].iloc[x]\n",
    "    GDP = df['GDP'].iloc[x]\n",
    "    \n",
    "    if(country == 'Niger' and pd.isnull(GDP) and Year >= 1970):\n",
    "        df.loc[x, 'GDP'] = gdpDict[Year]\n",
    "        \n",
    "        "
   ]
  },
  {
   "cell_type": "markdown",
   "metadata": {},
   "source": [
    "# Bermuda "
   ]
  },
  {
   "cell_type": "code",
   "execution_count": 255,
   "metadata": {
    "collapsed": true
   },
   "outputs": [],
   "source": [
    "# Reading in the GDP info for Bermuda\n",
    "if not os.path.exists( r\"../../data/raw/UNData/UN_Bermuda_GDP.csv\" ):\n",
    "    print(\"Missing dataset file\")"
   ]
  },
  {
   "cell_type": "code",
   "execution_count": 256,
   "metadata": {
    "collapsed": true
   },
   "outputs": [],
   "source": [
    "# read the countries df into a dataframe\n",
    "bGDP = pd.read_csv( r\"../../data/raw/UNData/UN_Bermuda_GDP.csv\"  , encoding = \"ISO-8859-1\")"
   ]
  },
  {
   "cell_type": "code",
   "execution_count": 257,
   "metadata": {
    "collapsed": true
   },
   "outputs": [],
   "source": [
    "# dictionary for holding GDP info key - year , value - GDP\n",
    "gdpDict = {}\n",
    "\n",
    "for x, row in bGDP.iterrows():\n",
    "    \n",
    "    GDP = bGDP['Value'].iloc[x]\n",
    "    Year = bGDP['Year'].iloc[x]\n",
    "    \n",
    "    gdpDict.update({Year: GDP})\n",
    "    \n",
    "    "
   ]
  },
  {
   "cell_type": "code",
   "execution_count": 258,
   "metadata": {
    "collapsed": true
   },
   "outputs": [],
   "source": [
    "# dictionary for holding GDP info key - year , value - GDP\n",
    "for x, row in df.iterrows():\n",
    "    \n",
    "    Year = df['Year'].iloc[x]\n",
    "    country = df['Country'].iloc[x]\n",
    "    GDP = df['GDP'].iloc[x]\n",
    "    \n",
    "    if(country == 'Bermuda' and pd.isnull(GDP) and Year >= 1970):\n",
    "        df.loc[x, 'GDP'] = gdpDict[Year]\n",
    "        \n",
    "        "
   ]
  },
  {
   "cell_type": "markdown",
   "metadata": {},
   "source": [
    "# Cuba "
   ]
  },
  {
   "cell_type": "code",
   "execution_count": 259,
   "metadata": {
    "collapsed": true
   },
   "outputs": [],
   "source": [
    "# Reading in the GDP info for Cuba\n",
    "if not os.path.exists( r\"../../data/raw/UNData/UN_Cuba_GDP.csv\" ):\n",
    "    print(\"Missing dataset file\")"
   ]
  },
  {
   "cell_type": "code",
   "execution_count": 260,
   "metadata": {
    "collapsed": true
   },
   "outputs": [],
   "source": [
    "# read the countries df into a dataframe\n",
    "cGDP = pd.read_csv( r\"../../data/raw/UNData/UN_Cuba_GDP.csv\"  , encoding = \"ISO-8859-1\")"
   ]
  },
  {
   "cell_type": "code",
   "execution_count": 261,
   "metadata": {
    "collapsed": true
   },
   "outputs": [],
   "source": [
    "# dictionary for holding GDP info key - year , value - GDP\n",
    "gdpDict = {}\n",
    "\n",
    "for x, row in cGDP.iterrows():\n",
    "    \n",
    "    GDP = cGDP['Value'].iloc[x]\n",
    "    Year = cGDP['Year'].iloc[x]\n",
    "    \n",
    "    gdpDict.update({Year: GDP})\n",
    "    \n",
    "    "
   ]
  },
  {
   "cell_type": "code",
   "execution_count": 262,
   "metadata": {
    "collapsed": true
   },
   "outputs": [],
   "source": [
    "# dictionary for holding GDP info key - year , value - GDP\n",
    "for x, row in df.iterrows():\n",
    "    \n",
    "    Year = df['Year'].iloc[x]\n",
    "    country = df['Country'].iloc[x]\n",
    "    GDP = df['GDP'].iloc[x]\n",
    "    \n",
    "    if(country == 'Cuba' and pd.isnull(GDP) and Year >= 1970):\n",
    "        df.loc[x, 'GDP'] = gdpDict[Year]\n",
    "        \n",
    "        "
   ]
  },
  {
   "cell_type": "markdown",
   "metadata": {},
   "source": [
    "# Djibouti"
   ]
  },
  {
   "cell_type": "code",
   "execution_count": 263,
   "metadata": {
    "collapsed": true
   },
   "outputs": [],
   "source": [
    "# Reading in the GDP info for Djibouti\n",
    "if not os.path.exists( r\"../../data/raw/UNData/UN_Djibouti_GDP.csv\" ):\n",
    "    print(\"Missing dataset file\")"
   ]
  },
  {
   "cell_type": "code",
   "execution_count": 264,
   "metadata": {
    "collapsed": true
   },
   "outputs": [],
   "source": [
    "# read the countries df into a dataframe\n",
    "dGDP = pd.read_csv( r\"../../data/raw/UNData/UN_Djibouti_GDP.csv\"  , encoding = \"ISO-8859-1\")"
   ]
  },
  {
   "cell_type": "code",
   "execution_count": 265,
   "metadata": {
    "collapsed": true
   },
   "outputs": [],
   "source": [
    "# dictionary for holding GDP info key - year , value - GDP\n",
    "gdpDict = {}\n",
    "\n",
    "for x, row in dGDP.iterrows():\n",
    "    \n",
    "    GDP = dGDP['Value'].iloc[x]\n",
    "    Year = dGDP['Year'].iloc[x]\n",
    "    \n",
    "    gdpDict.update({Year: GDP})\n",
    "    \n",
    "    "
   ]
  },
  {
   "cell_type": "code",
   "execution_count": 266,
   "metadata": {
    "collapsed": true
   },
   "outputs": [],
   "source": [
    "# dictionary for holding GDP info key - year , value - GDP\n",
    "for x, row in df.iterrows():\n",
    "    \n",
    "    Year = df['Year'].iloc[x]\n",
    "    country = df['Country'].iloc[x]\n",
    "    GDP = df['GDP'].iloc[x]\n",
    "    \n",
    "    if(country == 'Djibouti' and pd.isnull(GDP) and Year >= 1970):\n",
    "        df.loc[x, 'GDP'] = gdpDict[Year]\n",
    "        \n",
    "        "
   ]
  },
  {
   "cell_type": "markdown",
   "metadata": {},
   "source": [
    "# Eritrea"
   ]
  },
  {
   "cell_type": "code",
   "execution_count": 267,
   "metadata": {
    "collapsed": true
   },
   "outputs": [],
   "source": [
    "# Reading in the GDP info for Eritrea\n",
    "if not os.path.exists( r\"../../data/raw/UNData/UN_Eritrea_GDP.csv\" ):\n",
    "    print(\"Missing dataset file\")"
   ]
  },
  {
   "cell_type": "code",
   "execution_count": 268,
   "metadata": {
    "collapsed": true
   },
   "outputs": [],
   "source": [
    "# read the countries df into a dataframe\n",
    "eGDP = pd.read_csv( r\"../../data/raw/UNData/UN_Eritrea_GDP.csv\"  , encoding = \"ISO-8859-1\")"
   ]
  },
  {
   "cell_type": "code",
   "execution_count": 269,
   "metadata": {
    "collapsed": true
   },
   "outputs": [],
   "source": [
    "# dictionary for holding GDP info key - year , value - GDP\n",
    "gdpDict = {}\n",
    "\n",
    "for x, row in eGDP.iterrows():\n",
    "    \n",
    "    GDP = eGDP['Value'].iloc[x]\n",
    "    Year = eGDP['Year'].iloc[x]\n",
    "    \n",
    "    gdpDict.update({Year: GDP})\n",
    "    \n",
    "    "
   ]
  },
  {
   "cell_type": "code",
   "execution_count": 270,
   "metadata": {
    "collapsed": true
   },
   "outputs": [],
   "source": [
    "# dictionary for holding GDP info key - year , value - GDP\n",
    "for x, row in df.iterrows():\n",
    "    \n",
    "    Year = df['Year'].iloc[x]\n",
    "    country = df['Country'].iloc[x]\n",
    "    GDP = df['GDP'].iloc[x]\n",
    "    \n",
    "    # GDP values are only given down to 1990\n",
    "    if(country == 'Eritrea' and pd.isnull(GDP) and Year >= 1990):\n",
    "        df.loc[x, 'GDP'] = gdpDict[Year]\n",
    "        \n",
    "        "
   ]
  },
  {
   "cell_type": "markdown",
   "metadata": {},
   "source": [
    "# Liechtenstein "
   ]
  },
  {
   "cell_type": "code",
   "execution_count": 271,
   "metadata": {
    "collapsed": true
   },
   "outputs": [],
   "source": [
    "# Reading in the GDP info for Liechtenstein \n",
    "if not os.path.exists( r\"../../data/raw/UNData/UN_Liechtenstein_GDP.csv\" ):\n",
    "    print(\"Missing dataset file\")"
   ]
  },
  {
   "cell_type": "code",
   "execution_count": 272,
   "metadata": {
    "collapsed": true
   },
   "outputs": [],
   "source": [
    "# read the countries df into a dataframe\n",
    "lGDP = pd.read_csv( r\"../../data/raw/UNData/UN_Liechtenstein_GDP.csv\"  , encoding = \"ISO-8859-1\")"
   ]
  },
  {
   "cell_type": "code",
   "execution_count": 273,
   "metadata": {
    "collapsed": true
   },
   "outputs": [],
   "source": [
    "# dictionary for holding GDP info key - year , value - GDP\n",
    "gdpDict = {}\n",
    "\n",
    "for x, row in lGDP.iterrows():\n",
    "    \n",
    "    GDP = lGDP['Value'].iloc[x]\n",
    "    Year = lGDP['Year'].iloc[x]\n",
    "    \n",
    "    gdpDict.update({Year: GDP})\n",
    "    \n",
    "    "
   ]
  },
  {
   "cell_type": "code",
   "execution_count": 274,
   "metadata": {
    "collapsed": true
   },
   "outputs": [],
   "source": [
    "# dictionary for holding GDP info key - year , value - GDP\n",
    "for x, row in df.iterrows():\n",
    "    \n",
    "    Year = df['Year'].iloc[x]\n",
    "    country = df['Country'].iloc[x]\n",
    "    GDP = df['GDP'].iloc[x]\n",
    "    \n",
    "    if(country == 'Liechtenstein' and pd.isnull(GDP) and Year >= 1990):\n",
    "        df.loc[x, 'GDP'] = gdpDict[Year]\n",
    "        \n",
    "        "
   ]
  },
  {
   "cell_type": "markdown",
   "metadata": {},
   "source": [
    "# Puerto Rico"
   ]
  },
  {
   "cell_type": "code",
   "execution_count": 275,
   "metadata": {
    "collapsed": true
   },
   "outputs": [],
   "source": [
    "# Reading in the GDP info for Puerto Rico\n",
    "if not os.path.exists( r\"../../data/raw/UNData/UN_PuertoRico_GDP.csv\" ):\n",
    "    print(\"Missing dataset file\")"
   ]
  },
  {
   "cell_type": "code",
   "execution_count": 276,
   "metadata": {
    "collapsed": true
   },
   "outputs": [],
   "source": [
    "# read the countries df into a dataframe\n",
    "prGDP = pd.read_csv( r\"../../data/raw/UNData/UN_PuertoRico_GDP.csv\"  , encoding = \"ISO-8859-1\")"
   ]
  },
  {
   "cell_type": "code",
   "execution_count": 277,
   "metadata": {
    "collapsed": true
   },
   "outputs": [],
   "source": [
    "# dictionary for holding GDP info key - year , value - GDP\n",
    "gdpDict = {}\n",
    "\n",
    "for x, row in prGDP.iterrows():\n",
    "    \n",
    "    GDP = prGDP['Value'].iloc[x]\n",
    "    Year = prGDP['Year'].iloc[x]\n",
    "    \n",
    "    gdpDict.update({Year: GDP})\n",
    "    \n",
    "    "
   ]
  },
  {
   "cell_type": "code",
   "execution_count": 278,
   "metadata": {
    "collapsed": true
   },
   "outputs": [],
   "source": [
    "# dictionary for holding GDP info key - year , value - GDP\n",
    "for x, row in df.iterrows():\n",
    "    \n",
    "    Year = df['Year'].iloc[x]\n",
    "    country = df['Country'].iloc[x]\n",
    "    GDP = df['GDP'].iloc[x]\n",
    "    \n",
    "    if(country == 'Puerto Rico' and pd.isnull(GDP) and Year >= 1990):\n",
    "        df.loc[x, 'GDP'] = gdpDict[Year]\n",
    "        \n",
    "        "
   ]
  },
  {
   "cell_type": "markdown",
   "metadata": {},
   "source": [
    "# Syrian Arab Republic "
   ]
  },
  {
   "cell_type": "code",
   "execution_count": 279,
   "metadata": {
    "collapsed": true
   },
   "outputs": [],
   "source": [
    "# Reading in the GDP info for Syrian Arab Republic \n",
    "if not os.path.exists( r\"../../data/raw/UNData/UN_SyrianArabRep_GDP.csv\" ):\n",
    "    print(\"Missing dataset file\")"
   ]
  },
  {
   "cell_type": "code",
   "execution_count": 280,
   "metadata": {
    "collapsed": true
   },
   "outputs": [],
   "source": [
    "# read the countries df into a dataframe\n",
    "sarGDP = pd.read_csv( r\"../../data/raw/UNData/UN_SyrianArabRep_GDP.csv\"  , encoding = \"ISO-8859-1\")"
   ]
  },
  {
   "cell_type": "code",
   "execution_count": 281,
   "metadata": {
    "collapsed": true
   },
   "outputs": [],
   "source": [
    "# dictionary for holding GDP info key - year , value - GDP\n",
    "gdpDict = {}\n",
    "\n",
    "for x, row in sarGDP.iterrows():\n",
    "    \n",
    "    GDP = sarGDP['Value'].iloc[x]\n",
    "    Year = sarGDP['Year'].iloc[x]\n",
    "    \n",
    "    gdpDict.update({Year: GDP})\n",
    "    \n",
    "    "
   ]
  },
  {
   "cell_type": "code",
   "execution_count": 282,
   "metadata": {
    "collapsed": true
   },
   "outputs": [],
   "source": [
    "# dictionary for holding GDP info key - year , value - GDP\n",
    "for x, row in df.iterrows():\n",
    "    \n",
    "    Year = df['Year'].iloc[x]\n",
    "    country = df['Country'].iloc[x]\n",
    "    GDP = df['GDP'].iloc[x]\n",
    "    \n",
    "    if(country == 'Syrian Arab Republic' and pd.isnull(GDP) and Year >= 1990):\n",
    "        df.loc[x, 'GDP'] = gdpDict[Year]\n",
    "        \n",
    "        "
   ]
  },
  {
   "cell_type": "markdown",
   "metadata": {},
   "source": [
    "# Venezuela RB"
   ]
  },
  {
   "cell_type": "code",
   "execution_count": 283,
   "metadata": {
    "collapsed": true
   },
   "outputs": [],
   "source": [
    "# Reading in the GDP info for Venezuela\n",
    "if not os.path.exists( r\"../../data/raw/UNData/UN_Venezuela_GDP.csv\" ):\n",
    "    print(\"Missing dataset file\")"
   ]
  },
  {
   "cell_type": "code",
   "execution_count": 284,
   "metadata": {
    "collapsed": true
   },
   "outputs": [],
   "source": [
    "# read the countries df into a dataframe\n",
    "vGDP = pd.read_csv( r\"../../data/raw/UNData/UN_Venezuela_GDP.csv\"  , encoding = \"ISO-8859-1\")"
   ]
  },
  {
   "cell_type": "code",
   "execution_count": 285,
   "metadata": {
    "collapsed": true
   },
   "outputs": [],
   "source": [
    "# dictionary for holding GDP info key - year , value - GDP\n",
    "gdpDict = {}\n",
    "\n",
    "for x, row in vGDP.iterrows():\n",
    "    \n",
    "    GDP = vGDP['Value'].iloc[x]\n",
    "    Year = vGDP['Year'].iloc[x]\n",
    "    \n",
    "    gdpDict.update({Year: GDP})\n",
    "    \n",
    "    "
   ]
  },
  {
   "cell_type": "code",
   "execution_count": 286,
   "metadata": {
    "collapsed": true
   },
   "outputs": [],
   "source": [
    "# dictionary for holding GDP info key - year , value - GDP\n",
    "for x, row in df.iterrows():\n",
    "    \n",
    "    Year = df['Year'].iloc[x]\n",
    "    country = df['Country'].iloc[x]\n",
    "    GDP = df['GDP'].iloc[x]\n",
    "    \n",
    "    if(country == 'Venezuela, RB' and pd.isnull(GDP) and Year >= 1990):\n",
    "        df.loc[x, 'GDP'] = gdpDict[Year]\n",
    "        \n",
    "        "
   ]
  },
  {
   "cell_type": "code",
   "execution_count": 287,
   "metadata": {},
   "outputs": [
    {
     "data": {
      "text/plain": [
       "Index(['Country', 'Year', 'Population', 'Males', 'Females', 'Life_Expectancy',\n",
       "       'GDP', 'Region', 'Elevation', 'Area_SqKM', 'Centroid_Longitude',\n",
       "       'Centroid_Latitude', 'Population_Density', 'CO2_Emissions',\n",
       "       'Methane_Emissions', 'Nitrous_Oxide_Emisions', 'Total_Emissions',\n",
       "       'Emmisions_per_Capita', 'Code'],\n",
       "      dtype='object')"
      ]
     },
     "execution_count": 287,
     "metadata": {},
     "output_type": "execute_result"
    }
   ],
   "source": [
    "df.columns"
   ]
  },
  {
   "cell_type": "markdown",
   "metadata": {},
   "source": [
    "# Checking for any null GDP values for 2012 up"
   ]
  },
  {
   "cell_type": "code",
   "execution_count": 288,
   "metadata": {},
   "outputs": [
    {
     "data": {
      "text/plain": [
       "array([], dtype=object)"
      ]
     },
     "execution_count": 288,
     "metadata": {},
     "output_type": "execute_result"
    }
   ],
   "source": [
    "# Countries with null values for 2012, 2014 or 2016\n",
    "temp = df[df['GDP'].isnull()]\n",
    "temp[temp['Year'] >= 2012]['Country'].unique()"
   ]
  },
  {
   "cell_type": "markdown",
   "metadata": {},
   "source": [
    "# For loop for filling the rest of the Nulls"
   ]
  },
  {
   "cell_type": "code",
   "execution_count": 289,
   "metadata": {
    "collapsed": true
   },
   "outputs": [],
   "source": [
    "# iteration through the df is backwards so we can use the GDP years from after the earlier null years \n",
    "for x in reversed(df.index):\n",
    "    \n",
    "    \n",
    "    GDP = df['GDP'].iloc[x]\n",
    "    Year = df['Year'].iloc[x]\n",
    "    country = df['Country'].iloc[x]\n",
    "    \n",
    "    if(pd.isnull(GDP)):\n",
    "        # getting values for the 3 years after the null year of GDP\n",
    "        gdp_1 = df['GDP'].iloc[x + 1]\n",
    "        gdp_2 = df['GDP'].iloc[x + 2]\n",
    "        gdp_3 = df['GDP'].iloc[x + 3]\n",
    "        \n",
    "        # Calcullating the average growth \n",
    "        diff2 = (gdp_3-gdp_2)/gdp_2\n",
    "        diff1 = (gdp_2-gdp_1)/gdp_1\n",
    "        avgGrowth = (diff1+diff2)/2\n",
    "        \n",
    "        \n",
    "        # Setting the GDP vaule of the null year \n",
    "        \n",
    "        # if the avergae growth percentage is between 0-99%\n",
    "        if(avgGrowth >= 0 and avgGrowth <=  1):\n",
    "            gdp_curr = gdp_1*(1-avgGrowth)\n",
    "            df.loc[x, 'GDP'] = gdp_curr\n",
    "            \n",
    "        # if the avergae growth is a negative value we presume the null year was also better than the following year\n",
    "        # so the null year will be the average negative decrease higher than its following year \n",
    "        if(avgGrowth < 0):\n",
    "            gdp_curr = gdp_1 / (1 + avgGrowth)\n",
    "            df.loc[x, 'GDP'] = gdp_curr\n",
    "        \n",
    "        # if the average growth is above 100%\n",
    "        if(avgGrowth > 1):\n",
    "            gdp_curr = gdp_1*(avgGrowth)\n",
    "            df.loc[x, 'GDP'] = gdp_curr\n",
    "            \n",
    "            \n",
    "        # Updating the track variables\n",
    "        GDP = df['GDP'].iloc[x]\n",
    "        Year = df['Year'].iloc[x]\n",
    "        country = df['Country'].iloc[x]"
   ]
  },
  {
   "cell_type": "markdown",
   "metadata": {},
   "source": [
    "# Checking the nulls count again "
   ]
  },
  {
   "cell_type": "code",
   "execution_count": 290,
   "metadata": {
    "collapsed": true
   },
   "outputs": [],
   "source": [
    "# these are all the rows with null GDP values\n",
    "nullGDPdf = df.loc[df['GDP'].isnull()].reset_index()\n",
    "# Dropping the old index\n",
    "nullGDPdf = nullGDPdf.drop(nullGDPdf.columns[[0]], axis=1)"
   ]
  },
  {
   "cell_type": "code",
   "execution_count": 291,
   "metadata": {
    "collapsed": true
   },
   "outputs": [],
   "source": [
    "# null dictionary \n",
    "nullDic = {}"
   ]
  },
  {
   "cell_type": "code",
   "execution_count": 292,
   "metadata": {
    "collapsed": true
   },
   "outputs": [],
   "source": [
    "for x, row in nullGDPdf.iterrows():\n",
    "    \n",
    "    country = nullGDPdf['Country'].iloc[x]\n",
    "    \n",
    "    # gets how many rows/ years that have null values for GDP \n",
    "    temp = nullGDPdf.loc[nullGDPdf['Country'] == country]\n",
    "    length = len(temp.loc[temp['GDP'].isnull()])\n",
    "    \n",
    "    nullDic.update({country: length})"
   ]
  },
  {
   "cell_type": "code",
   "execution_count": 293,
   "metadata": {},
   "outputs": [
    {
     "data": {
      "text/plain": [
       "{}"
      ]
     },
     "execution_count": 293,
     "metadata": {},
     "output_type": "execute_result"
    }
   ],
   "source": [
    "nullDic"
   ]
  },
  {
   "cell_type": "code",
   "execution_count": 294,
   "metadata": {},
   "outputs": [
    {
     "data": {
      "text/plain": [
       "Country                      0\n",
       "Year                         0\n",
       "Population                   0\n",
       "Males                        0\n",
       "Females                      0\n",
       "Life_Expectancy            142\n",
       "GDP                          0\n",
       "Region                       0\n",
       "Elevation                  315\n",
       "Area_SqKM                  315\n",
       "Centroid_Longitude         315\n",
       "Centroid_Latitude          315\n",
       "Population_Density         315\n",
       "CO2_Emissions              259\n",
       "Methane_Emissions          601\n",
       "Nitrous_Oxide_Emisions     601\n",
       "Total_Emissions              0\n",
       "Emmisions_per_Capita      2373\n",
       "Code                         0\n",
       "dtype: int64"
      ]
     },
     "execution_count": 294,
     "metadata": {},
     "output_type": "execute_result"
    }
   ],
   "source": [
    "# no nulls left \n",
    "df.isnull().sum()"
   ]
  },
  {
   "cell_type": "markdown",
   "metadata": {},
   "source": [
    "# Adding back in the previously removed countries "
   ]
  },
  {
   "cell_type": "code",
   "execution_count": 295,
   "metadata": {
    "collapsed": true
   },
   "outputs": [],
   "source": [
    "# the gdp values for these countries are added in notebook 400 \n",
    "df = pd.concat([df,removed],ignore_index=True)"
   ]
  },
  {
   "cell_type": "code",
   "execution_count": 296,
   "metadata": {
    "scrolled": true
   },
   "outputs": [
    {
     "data": {
      "text/plain": [
       "Area_SqKM                  315\n",
       "CO2_Emissions              453\n",
       "Centroid_Latitude          315\n",
       "Centroid_Longitude         315\n",
       "Code                         0\n",
       "Country                      0\n",
       "Elevation                  315\n",
       "Emmisions_per_Capita      2793\n",
       "Females                      0\n",
       "GDP                        171\n",
       "Life_Expectancy            174\n",
       "Males                        0\n",
       "Methane_Emissions          729\n",
       "Nitrous_Oxide_Emisions     729\n",
       "Population                   0\n",
       "Population_Density         315\n",
       "Region                       0\n",
       "Total_Emissions              0\n",
       "Year                         0\n",
       "index                     2394\n",
       "dtype: int64"
      ]
     },
     "execution_count": 296,
     "metadata": {},
     "output_type": "execute_result"
    }
   ],
   "source": [
    "df.isnull().sum()"
   ]
  },
  {
   "cell_type": "code",
   "execution_count": 297,
   "metadata": {
    "collapsed": true
   },
   "outputs": [],
   "source": [
    "# Changing the order of the columns \n",
    "df = df[['Country', 'Year', 'Population', 'Males', 'Females', 'Life_Expectancy',\n",
    "       'GDP', 'Region', 'Elevation', 'Area_SqKM', 'Centroid_Longitude',\n",
    "       'Centroid_Latitude', 'Population_Density', 'CO2_Emissions',\n",
    "       'Methane_Emissions', 'Nitrous_Oxide_Emisions', 'Total_Emissions',\n",
    "       'Emmisions_per_Capita', 'Code']]"
   ]
  },
  {
   "cell_type": "code",
   "execution_count": 298,
   "metadata": {
    "collapsed": true
   },
   "outputs": [],
   "source": [
    "df.to_csv( r\"../../data/prep/Countries/countries_275.csv\", index=False)"
   ]
  },
  {
   "cell_type": "code",
   "execution_count": null,
   "metadata": {
    "collapsed": true
   },
   "outputs": [],
   "source": []
  }
 ],
 "metadata": {
  "kernelspec": {
   "display_name": "Python 3",
   "language": "python",
   "name": "python3"
  },
  "language_info": {
   "codemirror_mode": {
    "name": "ipython",
    "version": 3
   },
   "file_extension": ".py",
   "mimetype": "text/x-python",
   "name": "python",
   "nbconvert_exporter": "python",
   "pygments_lexer": "ipython3",
   "version": "3.6.3"
  }
 },
 "nbformat": 4,
 "nbformat_minor": 2
}
