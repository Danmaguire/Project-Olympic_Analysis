{
 "cells": [
  {
   "cell_type": "markdown",
   "metadata": {},
   "source": [
    "# Boycotts"
   ]
  },
  {
   "cell_type": "code",
   "execution_count": 599,
   "metadata": {
    "collapsed": true
   },
   "outputs": [],
   "source": [
    "import pandas as pd\n",
    "import numpy as np\n",
    "import matplotlib.pyplot as plt\n",
    "import matplotlib.patches as patches\n",
    "import os.path"
   ]
  },
  {
   "cell_type": "code",
   "execution_count": 600,
   "metadata": {
    "collapsed": true
   },
   "outputs": [],
   "source": [
    "filepath = '../../data/Final/Country.csv'"
   ]
  },
  {
   "cell_type": "code",
   "execution_count": 601,
   "metadata": {},
   "outputs": [
    {
     "name": "stdout",
     "output_type": "stream",
     "text": [
      "File Read\n"
     ]
    }
   ],
   "source": [
    "if not os.path.exists( filepath ):\n",
    "    print(\"Missing dataset file\")\n",
    "else:\n",
    "    df = pd.read_csv(filepath , encoding = \"ISO-8859-1\")\n",
    "    print(\"File Read\")"
   ]
  },
  {
   "cell_type": "code",
   "execution_count": 602,
   "metadata": {},
   "outputs": [
    {
     "data": {
      "text/html": [
       "<div>\n",
       "<style>\n",
       "    .dataframe thead tr:only-child th {\n",
       "        text-align: right;\n",
       "    }\n",
       "\n",
       "    .dataframe thead th {\n",
       "        text-align: left;\n",
       "    }\n",
       "\n",
       "    .dataframe tbody tr th {\n",
       "        vertical-align: top;\n",
       "    }\n",
       "</style>\n",
       "<table border=\"1\" class=\"dataframe\">\n",
       "  <thead>\n",
       "    <tr style=\"text-align: right;\">\n",
       "      <th></th>\n",
       "      <th>Unnamed: 0</th>\n",
       "      <th>Country</th>\n",
       "      <th>Year</th>\n",
       "      <th>Host_City</th>\n",
       "      <th>Summer</th>\n",
       "      <th>NOC</th>\n",
       "      <th>Region</th>\n",
       "      <th>Gold</th>\n",
       "      <th>Silver</th>\n",
       "      <th>Bronze</th>\n",
       "      <th>Total_Medals</th>\n",
       "      <th>Ath_Rating</th>\n",
       "      <th>Gold_Share</th>\n",
       "      <th>Medal_Share</th>\n",
       "      <th>Rating_Share</th>\n",
       "    </tr>\n",
       "  </thead>\n",
       "  <tbody>\n",
       "    <tr>\n",
       "      <th>0</th>\n",
       "      <td>0</td>\n",
       "      <td>Afghanistan</td>\n",
       "      <td>2008</td>\n",
       "      <td>Beijing</td>\n",
       "      <td>True</td>\n",
       "      <td>AFG</td>\n",
       "      <td>West and Central Asia</td>\n",
       "      <td>0</td>\n",
       "      <td>0</td>\n",
       "      <td>1</td>\n",
       "      <td>1</td>\n",
       "      <td>1</td>\n",
       "      <td>0.000000</td>\n",
       "      <td>0.001013</td>\n",
       "      <td>0.000516</td>\n",
       "    </tr>\n",
       "    <tr>\n",
       "      <th>1</th>\n",
       "      <td>1</td>\n",
       "      <td>Afghanistan</td>\n",
       "      <td>2012</td>\n",
       "      <td>London</td>\n",
       "      <td>True</td>\n",
       "      <td>AFG</td>\n",
       "      <td>West and Central Asia</td>\n",
       "      <td>0</td>\n",
       "      <td>0</td>\n",
       "      <td>1</td>\n",
       "      <td>1</td>\n",
       "      <td>1</td>\n",
       "      <td>0.000000</td>\n",
       "      <td>0.001003</td>\n",
       "      <td>0.000513</td>\n",
       "    </tr>\n",
       "    <tr>\n",
       "      <th>2</th>\n",
       "      <td>2</td>\n",
       "      <td>Algeria</td>\n",
       "      <td>1984</td>\n",
       "      <td>Los Angeles</td>\n",
       "      <td>True</td>\n",
       "      <td>ALG</td>\n",
       "      <td>North Africa</td>\n",
       "      <td>0</td>\n",
       "      <td>0</td>\n",
       "      <td>2</td>\n",
       "      <td>2</td>\n",
       "      <td>2</td>\n",
       "      <td>0.000000</td>\n",
       "      <td>0.002736</td>\n",
       "      <td>0.001384</td>\n",
       "    </tr>\n",
       "    <tr>\n",
       "      <th>3</th>\n",
       "      <td>3</td>\n",
       "      <td>Algeria</td>\n",
       "      <td>1992</td>\n",
       "      <td>Barcelone</td>\n",
       "      <td>True</td>\n",
       "      <td>ALG</td>\n",
       "      <td>North Africa</td>\n",
       "      <td>1</td>\n",
       "      <td>0</td>\n",
       "      <td>1</td>\n",
       "      <td>2</td>\n",
       "      <td>4</td>\n",
       "      <td>0.003546</td>\n",
       "      <td>0.002347</td>\n",
       "      <td>0.002372</td>\n",
       "    </tr>\n",
       "    <tr>\n",
       "      <th>4</th>\n",
       "      <td>4</td>\n",
       "      <td>Algeria</td>\n",
       "      <td>1996</td>\n",
       "      <td>Atlanta</td>\n",
       "      <td>True</td>\n",
       "      <td>ALG</td>\n",
       "      <td>North Africa</td>\n",
       "      <td>2</td>\n",
       "      <td>0</td>\n",
       "      <td>1</td>\n",
       "      <td>3</td>\n",
       "      <td>7</td>\n",
       "      <td>0.006944</td>\n",
       "      <td>0.003460</td>\n",
       "      <td>0.004060</td>\n",
       "    </tr>\n",
       "  </tbody>\n",
       "</table>\n",
       "</div>"
      ],
      "text/plain": [
       "   Unnamed: 0      Country  Year    Host_City  Summer  NOC  \\\n",
       "0           0  Afghanistan  2008      Beijing    True  AFG   \n",
       "1           1  Afghanistan  2012       London    True  AFG   \n",
       "2           2      Algeria  1984  Los Angeles    True  ALG   \n",
       "3           3      Algeria  1992    Barcelone    True  ALG   \n",
       "4           4      Algeria  1996      Atlanta    True  ALG   \n",
       "\n",
       "                  Region  Gold  Silver  Bronze  Total_Medals  Ath_Rating  \\\n",
       "0  West and Central Asia     0       0       1             1           1   \n",
       "1  West and Central Asia     0       0       1             1           1   \n",
       "2           North Africa     0       0       2             2           2   \n",
       "3           North Africa     1       0       1             2           4   \n",
       "4           North Africa     2       0       1             3           7   \n",
       "\n",
       "   Gold_Share  Medal_Share  Rating_Share  \n",
       "0    0.000000     0.001013      0.000516  \n",
       "1    0.000000     0.001003      0.000513  \n",
       "2    0.000000     0.002736      0.001384  \n",
       "3    0.003546     0.002347      0.002372  \n",
       "4    0.006944     0.003460      0.004060  "
      ]
     },
     "execution_count": 602,
     "metadata": {},
     "output_type": "execute_result"
    }
   ],
   "source": [
    "df.head()"
   ]
  },
  {
   "cell_type": "markdown",
   "metadata": {},
   "source": [
    "# Sets Figure Settings"
   ]
  },
  {
   "cell_type": "code",
   "execution_count": 603,
   "metadata": {},
   "outputs": [
    {
     "name": "stdout",
     "output_type": "stream",
     "text": [
      "Current size:[15.0, 9.0]\n"
     ]
    }
   ],
   "source": [
    "fig_size = plt.rcParams[\"figure.figsize\"]\n",
    "print (\"Current size:\"+str(fig_size))"
   ]
  },
  {
   "cell_type": "code",
   "execution_count": 604,
   "metadata": {
    "collapsed": true
   },
   "outputs": [],
   "source": [
    "fig_size[0] = 15\n",
    "fig_size[1] = 9\n",
    "plt.rcParams[\"figure.figsize\"] = fig_size"
   ]
  },
  {
   "cell_type": "code",
   "execution_count": 605,
   "metadata": {
    "collapsed": true
   },
   "outputs": [],
   "source": [
    "plt.rcParams.update({'font.size': 18})\n",
    "plt.rcParams.update({'axes.titlepad': 30})\n",
    "plt.rcParams.update({'font.size': 18})\n",
    "plt.rcParams.update({'axes.titlepad': 30})"
   ]
  },
  {
   "cell_type": "markdown",
   "metadata": {},
   "source": [
    "# Remove irrelavant \n",
    "We will be focusing in on two boycotts in particular, 1980 and 1984 which both occured during the summer olympics"
   ]
  },
  {
   "cell_type": "code",
   "execution_count": 606,
   "metadata": {
    "collapsed": true
   },
   "outputs": [],
   "source": [
    "df = df[['Country', 'Year', 'Host_City', 'Summer', 'NOC', 'Region',\n",
    "       'Gold', 'Silver', 'Bronze', 'Total_Medals', 'Ath_Rating', 'Gold_Share',\n",
    "       'Medal_Share', 'Rating_Share']]"
   ]
  },
  {
   "cell_type": "code",
   "execution_count": 607,
   "metadata": {},
   "outputs": [
    {
     "data": {
      "text/html": [
       "<div>\n",
       "<style>\n",
       "    .dataframe thead tr:only-child th {\n",
       "        text-align: right;\n",
       "    }\n",
       "\n",
       "    .dataframe thead th {\n",
       "        text-align: left;\n",
       "    }\n",
       "\n",
       "    .dataframe tbody tr th {\n",
       "        vertical-align: top;\n",
       "    }\n",
       "</style>\n",
       "<table border=\"1\" class=\"dataframe\">\n",
       "  <thead>\n",
       "    <tr style=\"text-align: right;\">\n",
       "      <th></th>\n",
       "      <th>Country</th>\n",
       "      <th>Year</th>\n",
       "      <th>Host_City</th>\n",
       "      <th>Summer</th>\n",
       "      <th>NOC</th>\n",
       "      <th>Region</th>\n",
       "      <th>Gold</th>\n",
       "      <th>Silver</th>\n",
       "      <th>Bronze</th>\n",
       "      <th>Total_Medals</th>\n",
       "      <th>Ath_Rating</th>\n",
       "      <th>Gold_Share</th>\n",
       "      <th>Medal_Share</th>\n",
       "      <th>Rating_Share</th>\n",
       "    </tr>\n",
       "  </thead>\n",
       "  <tbody>\n",
       "    <tr>\n",
       "      <th>0</th>\n",
       "      <td>Afghanistan</td>\n",
       "      <td>2008</td>\n",
       "      <td>Beijing</td>\n",
       "      <td>True</td>\n",
       "      <td>AFG</td>\n",
       "      <td>West and Central Asia</td>\n",
       "      <td>0</td>\n",
       "      <td>0</td>\n",
       "      <td>1</td>\n",
       "      <td>1</td>\n",
       "      <td>1</td>\n",
       "      <td>0.000000</td>\n",
       "      <td>0.001013</td>\n",
       "      <td>0.000516</td>\n",
       "    </tr>\n",
       "    <tr>\n",
       "      <th>1</th>\n",
       "      <td>Afghanistan</td>\n",
       "      <td>2012</td>\n",
       "      <td>London</td>\n",
       "      <td>True</td>\n",
       "      <td>AFG</td>\n",
       "      <td>West and Central Asia</td>\n",
       "      <td>0</td>\n",
       "      <td>0</td>\n",
       "      <td>1</td>\n",
       "      <td>1</td>\n",
       "      <td>1</td>\n",
       "      <td>0.000000</td>\n",
       "      <td>0.001003</td>\n",
       "      <td>0.000513</td>\n",
       "    </tr>\n",
       "    <tr>\n",
       "      <th>2</th>\n",
       "      <td>Algeria</td>\n",
       "      <td>1984</td>\n",
       "      <td>Los Angeles</td>\n",
       "      <td>True</td>\n",
       "      <td>ALG</td>\n",
       "      <td>North Africa</td>\n",
       "      <td>0</td>\n",
       "      <td>0</td>\n",
       "      <td>2</td>\n",
       "      <td>2</td>\n",
       "      <td>2</td>\n",
       "      <td>0.000000</td>\n",
       "      <td>0.002736</td>\n",
       "      <td>0.001384</td>\n",
       "    </tr>\n",
       "    <tr>\n",
       "      <th>3</th>\n",
       "      <td>Algeria</td>\n",
       "      <td>1992</td>\n",
       "      <td>Barcelone</td>\n",
       "      <td>True</td>\n",
       "      <td>ALG</td>\n",
       "      <td>North Africa</td>\n",
       "      <td>1</td>\n",
       "      <td>0</td>\n",
       "      <td>1</td>\n",
       "      <td>2</td>\n",
       "      <td>4</td>\n",
       "      <td>0.003546</td>\n",
       "      <td>0.002347</td>\n",
       "      <td>0.002372</td>\n",
       "    </tr>\n",
       "    <tr>\n",
       "      <th>4</th>\n",
       "      <td>Algeria</td>\n",
       "      <td>1996</td>\n",
       "      <td>Atlanta</td>\n",
       "      <td>True</td>\n",
       "      <td>ALG</td>\n",
       "      <td>North Africa</td>\n",
       "      <td>2</td>\n",
       "      <td>0</td>\n",
       "      <td>1</td>\n",
       "      <td>3</td>\n",
       "      <td>7</td>\n",
       "      <td>0.006944</td>\n",
       "      <td>0.003460</td>\n",
       "      <td>0.004060</td>\n",
       "    </tr>\n",
       "  </tbody>\n",
       "</table>\n",
       "</div>"
      ],
      "text/plain": [
       "       Country  Year    Host_City  Summer  NOC                 Region  Gold  \\\n",
       "0  Afghanistan  2008      Beijing    True  AFG  West and Central Asia     0   \n",
       "1  Afghanistan  2012       London    True  AFG  West and Central Asia     0   \n",
       "2      Algeria  1984  Los Angeles    True  ALG           North Africa     0   \n",
       "3      Algeria  1992    Barcelone    True  ALG           North Africa     1   \n",
       "4      Algeria  1996      Atlanta    True  ALG           North Africa     2   \n",
       "\n",
       "   Silver  Bronze  Total_Medals  Ath_Rating  Gold_Share  Medal_Share  \\\n",
       "0       0       1             1           1    0.000000     0.001013   \n",
       "1       0       1             1           1    0.000000     0.001003   \n",
       "2       0       2             2           2    0.000000     0.002736   \n",
       "3       0       1             2           4    0.003546     0.002347   \n",
       "4       0       1             3           7    0.006944     0.003460   \n",
       "\n",
       "   Rating_Share  \n",
       "0      0.000516  \n",
       "1      0.000513  \n",
       "2      0.001384  \n",
       "3      0.002372  \n",
       "4      0.004060  "
      ]
     },
     "execution_count": 607,
     "metadata": {},
     "output_type": "execute_result"
    }
   ],
   "source": [
    "df = df[df.Summer]\n",
    "df.head()"
   ]
  },
  {
   "cell_type": "code",
   "execution_count": 608,
   "metadata": {},
   "outputs": [
    {
     "data": {
      "text/html": [
       "<div>\n",
       "<style>\n",
       "    .dataframe thead tr:only-child th {\n",
       "        text-align: right;\n",
       "    }\n",
       "\n",
       "    .dataframe thead th {\n",
       "        text-align: left;\n",
       "    }\n",
       "\n",
       "    .dataframe tbody tr th {\n",
       "        vertical-align: top;\n",
       "    }\n",
       "</style>\n",
       "<table border=\"1\" class=\"dataframe\">\n",
       "  <thead>\n",
       "    <tr style=\"text-align: right;\">\n",
       "      <th></th>\n",
       "      <th>Country</th>\n",
       "      <th>Year</th>\n",
       "      <th>Host_City</th>\n",
       "      <th>Summer</th>\n",
       "      <th>NOC</th>\n",
       "      <th>Region</th>\n",
       "      <th>Gold</th>\n",
       "      <th>Silver</th>\n",
       "      <th>Bronze</th>\n",
       "      <th>Total_Medals</th>\n",
       "      <th>Ath_Rating</th>\n",
       "      <th>Gold_Share</th>\n",
       "      <th>Medal_Share</th>\n",
       "      <th>Rating_Share</th>\n",
       "    </tr>\n",
       "  </thead>\n",
       "  <tbody>\n",
       "    <tr>\n",
       "      <th>2</th>\n",
       "      <td>Algeria</td>\n",
       "      <td>1984</td>\n",
       "      <td>Los Angeles</td>\n",
       "      <td>True</td>\n",
       "      <td>ALG</td>\n",
       "      <td>North Africa</td>\n",
       "      <td>0</td>\n",
       "      <td>0</td>\n",
       "      <td>2</td>\n",
       "      <td>2</td>\n",
       "      <td>2</td>\n",
       "      <td>0.000000</td>\n",
       "      <td>0.002736</td>\n",
       "      <td>0.001384</td>\n",
       "    </tr>\n",
       "    <tr>\n",
       "      <th>13</th>\n",
       "      <td>Argentina</td>\n",
       "      <td>1988</td>\n",
       "      <td>Seoul</td>\n",
       "      <td>True</td>\n",
       "      <td>ARG</td>\n",
       "      <td>South America</td>\n",
       "      <td>0</td>\n",
       "      <td>1</td>\n",
       "      <td>1</td>\n",
       "      <td>2</td>\n",
       "      <td>3</td>\n",
       "      <td>0.000000</td>\n",
       "      <td>0.002538</td>\n",
       "      <td>0.001902</td>\n",
       "    </tr>\n",
       "    <tr>\n",
       "      <th>30</th>\n",
       "      <td>Australia</td>\n",
       "      <td>1976</td>\n",
       "      <td>Montréal</td>\n",
       "      <td>True</td>\n",
       "      <td>AUS</td>\n",
       "      <td>Oceania</td>\n",
       "      <td>0</td>\n",
       "      <td>1</td>\n",
       "      <td>4</td>\n",
       "      <td>5</td>\n",
       "      <td>6</td>\n",
       "      <td>0.000000</td>\n",
       "      <td>0.007669</td>\n",
       "      <td>0.004587</td>\n",
       "    </tr>\n",
       "    <tr>\n",
       "      <th>31</th>\n",
       "      <td>Australia</td>\n",
       "      <td>1980</td>\n",
       "      <td>Moscow</td>\n",
       "      <td>True</td>\n",
       "      <td>AUS</td>\n",
       "      <td>Oceania</td>\n",
       "      <td>4</td>\n",
       "      <td>2</td>\n",
       "      <td>5</td>\n",
       "      <td>11</td>\n",
       "      <td>21</td>\n",
       "      <td>0.017391</td>\n",
       "      <td>0.016820</td>\n",
       "      <td>0.015885</td>\n",
       "    </tr>\n",
       "    <tr>\n",
       "      <th>32</th>\n",
       "      <td>Australia</td>\n",
       "      <td>1984</td>\n",
       "      <td>Los Angeles</td>\n",
       "      <td>True</td>\n",
       "      <td>AUS</td>\n",
       "      <td>Oceania</td>\n",
       "      <td>4</td>\n",
       "      <td>9</td>\n",
       "      <td>17</td>\n",
       "      <td>30</td>\n",
       "      <td>47</td>\n",
       "      <td>0.016598</td>\n",
       "      <td>0.041040</td>\n",
       "      <td>0.032526</td>\n",
       "    </tr>\n",
       "  </tbody>\n",
       "</table>\n",
       "</div>"
      ],
      "text/plain": [
       "      Country  Year    Host_City  Summer  NOC         Region  Gold  Silver  \\\n",
       "2     Algeria  1984  Los Angeles    True  ALG   North Africa     0       0   \n",
       "13  Argentina  1988        Seoul    True  ARG  South America     0       1   \n",
       "30  Australia  1976     Montréal    True  AUS        Oceania     0       1   \n",
       "31  Australia  1980       Moscow    True  AUS        Oceania     4       2   \n",
       "32  Australia  1984  Los Angeles    True  AUS        Oceania     4       9   \n",
       "\n",
       "    Bronze  Total_Medals  Ath_Rating  Gold_Share  Medal_Share  Rating_Share  \n",
       "2        2             2           2    0.000000     0.002736      0.001384  \n",
       "13       1             2           3    0.000000     0.002538      0.001902  \n",
       "30       4             5           6    0.000000     0.007669      0.004587  \n",
       "31       5            11          21    0.017391     0.016820      0.015885  \n",
       "32      17            30          47    0.016598     0.041040      0.032526  "
      ]
     },
     "execution_count": 608,
     "metadata": {},
     "output_type": "execute_result"
    }
   ],
   "source": [
    "years = [1976,1980,1984,1988]\n",
    "df = df[df.Year.isin(years)]\n",
    "df.head()"
   ]
  },
  {
   "cell_type": "code",
   "execution_count": 609,
   "metadata": {},
   "outputs": [
    {
     "data": {
      "text/plain": [
       "array(['Australia', 'Austria', 'Belgium', 'Bermuda', 'Brazil', 'Bulgaria',\n",
       "       'Canada', 'Cuba', 'Czechoslovakia', 'Denmark', 'East Germany',\n",
       "       'Finland', 'France', 'Hungary', 'Iran, Islamic Rep.', 'Italy',\n",
       "       'Jamaica', 'Japan', \"Korea, Dem. People's Rep.\", 'Korea, Rep.',\n",
       "       'Mexico', 'Mongolia', 'Netherlands', 'New Zealand', 'Norway',\n",
       "       'Pakistan', 'Poland', 'Portugal', 'Puerto Rico', 'Romania',\n",
       "       'Soviet Union', 'Spain', 'Sweden', 'Switzerland', 'Thailand',\n",
       "       'Trinidad and Tobago', 'United Kingdom', 'United States',\n",
       "       'Venezuela', 'West Germany', 'Yugoslavia'], dtype=object)"
      ]
     },
     "execution_count": 609,
     "metadata": {},
     "output_type": "execute_result"
    }
   ],
   "source": [
    "df[df.Year == 1976].Country.unique()"
   ]
  },
  {
   "cell_type": "markdown",
   "metadata": {},
   "source": [
    "# 1980\n",
    ">The 1980 Summer Olympics boycott was one part of a number of actions initiated by the United States to protest the Soviet invasion of Afghanistan"
   ]
  },
  {
   "cell_type": "code",
   "execution_count": 610,
   "metadata": {},
   "outputs": [
    {
     "data": {
      "text/plain": [
       "41"
      ]
     },
     "execution_count": 610,
     "metadata": {},
     "output_type": "execute_result"
    }
   ],
   "source": [
    "countries = df[df.Year == 1976].Country.unique()\n",
    "len(countries)"
   ]
  },
  {
   "cell_type": "code",
   "execution_count": 611,
   "metadata": {},
   "outputs": [
    {
     "name": "stdout",
     "output_type": "stream",
     "text": [
      "Australia = 246.293494705%\n",
      "Austria = 691.527987897%\n",
      "Belgium = -70.3177004539%\n",
      "Brazil = 295.763993949%\n",
      "Bulgaria = 61.0667417233%\n",
      "Cuba = 46.7056184464%\n",
      "Czechoslovakia = 29.8600605144%\n",
      "Denmark = 97.8819969743%\n",
      "East Germany = 23.4493192133%\n",
      "Finland = -7.24281391831%\n",
      "France = 115.342173178%\n",
      "Hungary = 58.8263396767%\n",
      "Italy = 40.8006516932%\n",
      "Jamaica = -60.4236006051%\n",
      "Korea, Dem. People's Rep. = 58.3055975794%\n",
      "Mexico = 48.4114977307%\n",
      "Mongolia = 196.822995461%\n",
      "Netherlands = -43.4622865788%\n",
      "Poland = 7.1860816944%\n",
      "Romania = -7.24281391831%\n",
      "Soviet Union = 75.9790278435%\n",
      "Spain = 221.558245083%\n",
      "Sweden = 48.4114977307%\n",
      "Switzerland = -34.0393343419%\n",
      "United Kingdom = 60.7791225416%\n",
      "Venezuela = -1.05900151286%\n",
      "Yugoslavia = 5.53706505295%\n",
      "\n",
      "\n",
      "Average Growth of Rating Share - 81.7304428651%\n"
     ]
    }
   ],
   "source": [
    "curr = df[df.Year == 1980]\n",
    "curr = curr[curr.Country.isin(countries)]\n",
    "totalChange = 0\n",
    "for country in curr.Country.unique():\n",
    "    currRat  = curr.set_index('Country').loc[country].Rating_Share\n",
    "    prevRat  = df[df.Year == 1976].set_index('Country').loc[country].Rating_Share\n",
    "    change = ((currRat-prevRat)/prevRat)*100\n",
    "    totalChange += change\n",
    "    print(country+' = '+str(change)+\"%\")\n",
    "    \n",
    "ave = totalChange / len(curr.Country.unique())\n",
    "print('\\n\\nAverage Growth of Rating Share - '+str(ave)+'%')"
   ]
  },
  {
   "cell_type": "markdown",
   "metadata": {},
   "source": [
    "### Countries who hadnt won medals the previous Olympics"
   ]
  },
  {
   "cell_type": "code",
   "execution_count": 612,
   "metadata": {},
   "outputs": [
    {
     "data": {
      "text/html": [
       "<div>\n",
       "<style>\n",
       "    .dataframe thead tr:only-child th {\n",
       "        text-align: right;\n",
       "    }\n",
       "\n",
       "    .dataframe thead th {\n",
       "        text-align: left;\n",
       "    }\n",
       "\n",
       "    .dataframe tbody tr th {\n",
       "        vertical-align: top;\n",
       "    }\n",
       "</style>\n",
       "<table border=\"1\" class=\"dataframe\">\n",
       "  <thead>\n",
       "    <tr style=\"text-align: right;\">\n",
       "      <th></th>\n",
       "      <th>Country</th>\n",
       "      <th>Total_Medals</th>\n",
       "    </tr>\n",
       "  </thead>\n",
       "  <tbody>\n",
       "    <tr>\n",
       "      <th>344</th>\n",
       "      <td>Ethiopia</td>\n",
       "      <td>4</td>\n",
       "    </tr>\n",
       "    <tr>\n",
       "      <th>441</th>\n",
       "      <td>Greece</td>\n",
       "      <td>3</td>\n",
       "    </tr>\n",
       "    <tr>\n",
       "      <th>454</th>\n",
       "      <td>Guyana</td>\n",
       "      <td>1</td>\n",
       "    </tr>\n",
       "    <tr>\n",
       "      <th>480</th>\n",
       "      <td>India</td>\n",
       "      <td>1</td>\n",
       "    </tr>\n",
       "    <tr>\n",
       "      <th>510</th>\n",
       "      <td>Ireland</td>\n",
       "      <td>2</td>\n",
       "    </tr>\n",
       "    <tr>\n",
       "      <th>662</th>\n",
       "      <td>Lebanon</td>\n",
       "      <td>1</td>\n",
       "    </tr>\n",
       "    <tr>\n",
       "      <th>1036</th>\n",
       "      <td>Tanzania</td>\n",
       "      <td>2</td>\n",
       "    </tr>\n",
       "    <tr>\n",
       "      <th>1079</th>\n",
       "      <td>Uganda</td>\n",
       "      <td>1</td>\n",
       "    </tr>\n",
       "    <tr>\n",
       "      <th>1201</th>\n",
       "      <td>Zimbabwe</td>\n",
       "      <td>1</td>\n",
       "    </tr>\n",
       "  </tbody>\n",
       "</table>\n",
       "</div>"
      ],
      "text/plain": [
       "       Country  Total_Medals\n",
       "344   Ethiopia             4\n",
       "441     Greece             3\n",
       "454     Guyana             1\n",
       "480      India             1\n",
       "510    Ireland             2\n",
       "662    Lebanon             1\n",
       "1036  Tanzania             2\n",
       "1079    Uganda             1\n",
       "1201  Zimbabwe             1"
      ]
     },
     "execution_count": 612,
     "metadata": {},
     "output_type": "execute_result"
    }
   ],
   "source": [
    "curr = df[df.Year == 1980]\n",
    "curr = curr[~curr.Country.isin(countries)]\n",
    "curr[['Country','Total_Medals']]"
   ]
  },
  {
   "cell_type": "markdown",
   "metadata": {},
   "source": [
    "# 1984\n",
    ">he boycott of the 1984 Summer Olympics in Los Angeles followed four years after the U.S.-led boycott of the 1980 Summer Olympics in Moscow. The boycott involved 14 Eastern Bloc countries and allies, led by the Soviet Union, which initiated the boycott on May 8, 1984"
   ]
  },
  {
   "cell_type": "code",
   "execution_count": 613,
   "metadata": {},
   "outputs": [
    {
     "data": {
      "text/plain": [
       "41"
      ]
     },
     "execution_count": 613,
     "metadata": {},
     "output_type": "execute_result"
    }
   ],
   "source": [
    "countries = df[df.Year == 1976].Country.unique()\n",
    "len(countries)"
   ]
  },
  {
   "cell_type": "code",
   "execution_count": 614,
   "metadata": {},
   "outputs": [
    {
     "name": "stdout",
     "output_type": "stream",
     "text": [
      "Australia = 609.065743945%\n",
      "Austria = 443.114186851%\n",
      "Belgium = -36.6366782007%\n",
      "Brazil = 578.892733564%\n",
      "Canada = 336.621209037%\n",
      "Denmark = 62.9342560554%\n",
      "Finland = 24.4636678201%\n",
      "France = 176.881742316%\n",
      "Italy = 168.075592228%\n",
      "Jamaica = -27.5847750865%\n",
      "Japan = 0.0473502094336%\n",
      "Korea, Rep. = 272.133794694%\n",
      "Mexico = 194.186851211%\n",
      "Netherlands = 262.076124567%\n",
      "New Zealand = 302.306805075%\n",
      "Norway = -27.5847750865%\n",
      "Pakistan = 171.557093426%\n",
      "Portugal = 13.1487889273%\n",
      "Puerto Rico = 171.557093426%\n",
      "Romania = 84.8096885813%\n",
      "Spain = 103.667820069%\n",
      "Sweden = 210.350963915%\n",
      "Switzerland = 40.8073817762%\n",
      "Thailand = 81.0380622837%\n",
      "United Kingdom = 133.84083045%\n",
      "United States = 67.9938350886%\n",
      "Venezuela = 35.7785467128%\n",
      "West Germany = 20.0361065142%\n",
      "Yugoslavia = 99.1418685121%\n",
      "\n",
      "\n",
      "Average Growth of Rating Share - 157.680065824%\n"
     ]
    }
   ],
   "source": [
    "curr = df[df.Year == 1984]\n",
    "curr = curr[curr.Country.isin(countries)]\n",
    "totalChange = 0\n",
    "for country in curr.Country.unique():\n",
    "    currRat  = curr.set_index('Country').loc[country].Rating_Share\n",
    "    prevRat  = df[df.Year == 1976].set_index('Country').loc[country].Rating_Share\n",
    "    change = ((currRat-prevRat)/prevRat)*100\n",
    "    totalChange += change\n",
    "    print(country+' = '+str(change)+\"%\")\n",
    "    \n",
    "ave = totalChange / len(curr.Country.unique())\n",
    "print('\\n\\nAverage Growth of Rating Share - '+str(ave)+'%')"
   ]
  },
  {
   "cell_type": "code",
   "execution_count": 615,
   "metadata": {},
   "outputs": [
    {
     "data": {
      "text/html": [
       "<div>\n",
       "<style>\n",
       "    .dataframe thead tr:only-child th {\n",
       "        text-align: right;\n",
       "    }\n",
       "\n",
       "    .dataframe thead th {\n",
       "        text-align: left;\n",
       "    }\n",
       "\n",
       "    .dataframe tbody tr th {\n",
       "        vertical-align: top;\n",
       "    }\n",
       "</style>\n",
       "<table border=\"1\" class=\"dataframe\">\n",
       "  <thead>\n",
       "    <tr style=\"text-align: right;\">\n",
       "      <th></th>\n",
       "      <th>Country</th>\n",
       "      <th>Total_Medals</th>\n",
       "    </tr>\n",
       "  </thead>\n",
       "  <tbody>\n",
       "    <tr>\n",
       "      <th>2</th>\n",
       "      <td>Algeria</td>\n",
       "      <td>2</td>\n",
       "    </tr>\n",
       "    <tr>\n",
       "      <th>159</th>\n",
       "      <td>Cameroon</td>\n",
       "      <td>1</td>\n",
       "    </tr>\n",
       "    <tr>\n",
       "      <th>197</th>\n",
       "      <td>China</td>\n",
       "      <td>34</td>\n",
       "    </tr>\n",
       "    <tr>\n",
       "      <th>215</th>\n",
       "      <td>Chinese Taipei</td>\n",
       "      <td>1</td>\n",
       "    </tr>\n",
       "    <tr>\n",
       "      <th>224</th>\n",
       "      <td>Colombia</td>\n",
       "      <td>1</td>\n",
       "    </tr>\n",
       "    <tr>\n",
       "      <th>235</th>\n",
       "      <td>Cote d'Ivoire</td>\n",
       "      <td>1</td>\n",
       "    </tr>\n",
       "    <tr>\n",
       "      <th>306</th>\n",
       "      <td>Dominican Republic</td>\n",
       "      <td>1</td>\n",
       "    </tr>\n",
       "    <tr>\n",
       "      <th>325</th>\n",
       "      <td>Egypt Arab Rep</td>\n",
       "      <td>1</td>\n",
       "    </tr>\n",
       "    <tr>\n",
       "      <th>442</th>\n",
       "      <td>Greece</td>\n",
       "      <td>2</td>\n",
       "    </tr>\n",
       "    <tr>\n",
       "      <th>473</th>\n",
       "      <td>Iceland</td>\n",
       "      <td>1</td>\n",
       "    </tr>\n",
       "    <tr>\n",
       "      <th>511</th>\n",
       "      <td>Ireland</td>\n",
       "      <td>1</td>\n",
       "    </tr>\n",
       "    <tr>\n",
       "      <th>606</th>\n",
       "      <td>Kenya</td>\n",
       "      <td>3</td>\n",
       "    </tr>\n",
       "    <tr>\n",
       "      <th>714</th>\n",
       "      <td>Morocco</td>\n",
       "      <td>2</td>\n",
       "    </tr>\n",
       "    <tr>\n",
       "      <th>776</th>\n",
       "      <td>Nigeria</td>\n",
       "      <td>2</td>\n",
       "    </tr>\n",
       "    <tr>\n",
       "      <th>821</th>\n",
       "      <td>Peru</td>\n",
       "      <td>1</td>\n",
       "    </tr>\n",
       "    <tr>\n",
       "      <th>1030</th>\n",
       "      <td>Syrian Arab Republic</td>\n",
       "      <td>1</td>\n",
       "    </tr>\n",
       "    <tr>\n",
       "      <th>1068</th>\n",
       "      <td>Turkey</td>\n",
       "      <td>3</td>\n",
       "    </tr>\n",
       "    <tr>\n",
       "      <th>1199</th>\n",
       "      <td>Zambia</td>\n",
       "      <td>1</td>\n",
       "    </tr>\n",
       "  </tbody>\n",
       "</table>\n",
       "</div>"
      ],
      "text/plain": [
       "                   Country  Total_Medals\n",
       "2                  Algeria             2\n",
       "159               Cameroon             1\n",
       "197                  China            34\n",
       "215         Chinese Taipei             1\n",
       "224               Colombia             1\n",
       "235          Cote d'Ivoire             1\n",
       "306     Dominican Republic             1\n",
       "325         Egypt Arab Rep             1\n",
       "442                 Greece             2\n",
       "473                Iceland             1\n",
       "511                Ireland             1\n",
       "606                  Kenya             3\n",
       "714                Morocco             2\n",
       "776                Nigeria             2\n",
       "821                   Peru             1\n",
       "1030  Syrian Arab Republic             1\n",
       "1068                Turkey             3\n",
       "1199                Zambia             1"
      ]
     },
     "execution_count": 615,
     "metadata": {},
     "output_type": "execute_result"
    }
   ],
   "source": [
    "curr = df[df.Year == 1984]\n",
    "curr = curr[~curr.Country.isin(countries)]\n",
    "curr[['Country','Total_Medals']]"
   ]
  },
  {
   "cell_type": "code",
   "execution_count": null,
   "metadata": {
    "collapsed": true
   },
   "outputs": [],
   "source": []
  },
  {
   "cell_type": "markdown",
   "metadata": {},
   "source": [
    "# Countries Who Won Medals 1976 - 1984"
   ]
  },
  {
   "cell_type": "code",
   "execution_count": 616,
   "metadata": {},
   "outputs": [],
   "source": [
    "summer = df[df.Summer]\n",
    "c76 = summer[summer.Year == 1976].Country.unique()\n",
    "c80 = summer[summer.Year == 1980].Country.unique()\n",
    "c84 = summer[summer.Year == 1984].Country.unique()\n",
    "c88 = summer[summer.Year == 1988].Country.unique()\n",
    "\n",
    "countries = list(set(c76) & set(c80) & set(c84) & set(c88))"
   ]
  },
  {
   "cell_type": "code",
   "execution_count": 617,
   "metadata": {},
   "outputs": [
    {
     "data": {
      "text/html": [
       "<div>\n",
       "<style>\n",
       "    .dataframe thead tr:only-child th {\n",
       "        text-align: right;\n",
       "    }\n",
       "\n",
       "    .dataframe thead th {\n",
       "        text-align: left;\n",
       "    }\n",
       "\n",
       "    .dataframe tbody tr th {\n",
       "        vertical-align: top;\n",
       "    }\n",
       "</style>\n",
       "<table border=\"1\" class=\"dataframe\">\n",
       "  <thead>\n",
       "    <tr style=\"text-align: right;\">\n",
       "      <th>Country</th>\n",
       "      <th>Australia</th>\n",
       "      <th>Austria</th>\n",
       "      <th>Belgium</th>\n",
       "      <th>Brazil</th>\n",
       "      <th>Denmark</th>\n",
       "      <th>Finland</th>\n",
       "      <th>France</th>\n",
       "      <th>Italy</th>\n",
       "      <th>Jamaica</th>\n",
       "      <th>Mexico</th>\n",
       "      <th>Netherlands</th>\n",
       "      <th>Romania</th>\n",
       "      <th>Spain</th>\n",
       "      <th>Sweden</th>\n",
       "      <th>Switzerland</th>\n",
       "      <th>United Kingdom</th>\n",
       "      <th>Yugoslavia</th>\n",
       "    </tr>\n",
       "    <tr>\n",
       "      <th>Year</th>\n",
       "      <th></th>\n",
       "      <th></th>\n",
       "      <th></th>\n",
       "      <th></th>\n",
       "      <th></th>\n",
       "      <th></th>\n",
       "      <th></th>\n",
       "      <th></th>\n",
       "      <th></th>\n",
       "      <th></th>\n",
       "      <th></th>\n",
       "      <th></th>\n",
       "      <th></th>\n",
       "      <th></th>\n",
       "      <th></th>\n",
       "      <th></th>\n",
       "      <th></th>\n",
       "    </tr>\n",
       "  </thead>\n",
       "  <tbody>\n",
       "    <tr>\n",
       "      <th>1976</th>\n",
       "      <td>0.004587</td>\n",
       "      <td>0.000765</td>\n",
       "      <td>0.007645</td>\n",
       "      <td>0.001529</td>\n",
       "      <td>0.003823</td>\n",
       "      <td>0.012232</td>\n",
       "      <td>0.012997</td>\n",
       "      <td>0.019878</td>\n",
       "      <td>0.003823</td>\n",
       "      <td>0.003058</td>\n",
       "      <td>0.005352</td>\n",
       "      <td>0.036697</td>\n",
       "      <td>0.003058</td>\n",
       "      <td>0.010703</td>\n",
       "      <td>0.006881</td>\n",
       "      <td>0.018349</td>\n",
       "      <td>0.011468</td>\n",
       "    </tr>\n",
       "    <tr>\n",
       "      <th>1980</th>\n",
       "      <td>0.015885</td>\n",
       "      <td>0.006051</td>\n",
       "      <td>0.002269</td>\n",
       "      <td>0.006051</td>\n",
       "      <td>0.007564</td>\n",
       "      <td>0.011346</td>\n",
       "      <td>0.027988</td>\n",
       "      <td>0.027988</td>\n",
       "      <td>0.001513</td>\n",
       "      <td>0.004539</td>\n",
       "      <td>0.003026</td>\n",
       "      <td>0.034039</td>\n",
       "      <td>0.009834</td>\n",
       "      <td>0.015885</td>\n",
       "      <td>0.004539</td>\n",
       "      <td>0.029501</td>\n",
       "      <td>0.012103</td>\n",
       "    </tr>\n",
       "    <tr>\n",
       "      <th>1984</th>\n",
       "      <td>0.032526</td>\n",
       "      <td>0.004152</td>\n",
       "      <td>0.004844</td>\n",
       "      <td>0.010381</td>\n",
       "      <td>0.006228</td>\n",
       "      <td>0.015225</td>\n",
       "      <td>0.035986</td>\n",
       "      <td>0.053287</td>\n",
       "      <td>0.002768</td>\n",
       "      <td>0.008997</td>\n",
       "      <td>0.019377</td>\n",
       "      <td>0.067820</td>\n",
       "      <td>0.006228</td>\n",
       "      <td>0.033218</td>\n",
       "      <td>0.009689</td>\n",
       "      <td>0.042907</td>\n",
       "      <td>0.022837</td>\n",
       "    </tr>\n",
       "    <tr>\n",
       "      <th>1988</th>\n",
       "      <td>0.017121</td>\n",
       "      <td>0.001902</td>\n",
       "      <td>0.001268</td>\n",
       "      <td>0.006341</td>\n",
       "      <td>0.005707</td>\n",
       "      <td>0.004439</td>\n",
       "      <td>0.022194</td>\n",
       "      <td>0.020926</td>\n",
       "      <td>0.002536</td>\n",
       "      <td>0.001268</td>\n",
       "      <td>0.008878</td>\n",
       "      <td>0.035510</td>\n",
       "      <td>0.004439</td>\n",
       "      <td>0.009512</td>\n",
       "      <td>0.005073</td>\n",
       "      <td>0.032340</td>\n",
       "      <td>0.012682</td>\n",
       "    </tr>\n",
       "  </tbody>\n",
       "</table>\n",
       "</div>"
      ],
      "text/plain": [
       "Country  Australia   Austria   Belgium    Brazil   Denmark   Finland  \\\n",
       "Year                                                                   \n",
       "1976      0.004587  0.000765  0.007645  0.001529  0.003823  0.012232   \n",
       "1980      0.015885  0.006051  0.002269  0.006051  0.007564  0.011346   \n",
       "1984      0.032526  0.004152  0.004844  0.010381  0.006228  0.015225   \n",
       "1988      0.017121  0.001902  0.001268  0.006341  0.005707  0.004439   \n",
       "\n",
       "Country    France     Italy   Jamaica    Mexico  Netherlands   Romania  \\\n",
       "Year                                                                     \n",
       "1976     0.012997  0.019878  0.003823  0.003058     0.005352  0.036697   \n",
       "1980     0.027988  0.027988  0.001513  0.004539     0.003026  0.034039   \n",
       "1984     0.035986  0.053287  0.002768  0.008997     0.019377  0.067820   \n",
       "1988     0.022194  0.020926  0.002536  0.001268     0.008878  0.035510   \n",
       "\n",
       "Country     Spain    Sweden  Switzerland  United Kingdom  Yugoslavia  \n",
       "Year                                                                  \n",
       "1976     0.003058  0.010703     0.006881        0.018349    0.011468  \n",
       "1980     0.009834  0.015885     0.004539        0.029501    0.012103  \n",
       "1984     0.006228  0.033218     0.009689        0.042907    0.022837  \n",
       "1988     0.004439  0.009512     0.005073        0.032340    0.012682  "
      ]
     },
     "execution_count": 617,
     "metadata": {},
     "output_type": "execute_result"
    }
   ],
   "source": [
    "pivot_df = df[df.Country.isin(countries)].pivot(index='Year', columns='Country', values='Rating_Share')\n",
    "pivot_df"
   ]
  },
  {
   "cell_type": "code",
   "execution_count": 618,
   "metadata": {},
   "outputs": [
    {
     "data": {
      "image/png": "[encoded data removed]",
      "text/plain": [
       "<matplotlib.figure.Figure at 0x1cf6ccd10b8>"
      ]
     },
     "metadata": {},
     "output_type": "display_data"
    }
   ],
   "source": [
    "fig, ax = plt.subplots(facecolor='#ffffff')\n",
    "pivot_df.plot(kind='bar',stacked=True,ax=ax)\n",
    "plt.grid()\n",
    "plt.legend(loc=2,bbox_to_anchor=(1.05, 1),borderaxespad=0., prop={'size': 20})\n",
    "plt.rcParams.update({'font.size': 18})\n",
    "plt.yticks(size = 15)\n",
    "plt.rcParams.update({'axes.titlepad': 30})\n",
    "plt.ylabel('Rating Share',fontsize=20)\n",
    "plt.xlabel('',fontsize=20)\n",
    "ax.set_axisbelow(True)\n",
    "fig.suptitle('Summer Games 1976 - 1988', fontsize=30)\n",
    "fig.tight_layout()\n",
    "fig.subplots_adjust(top=0.88)\n",
    "plt.show()\n",
    "fig.savefig('../../data/final/Graphs/OverallBoycott.png')"
   ]
  },
  {
   "cell_type": "code",
   "execution_count": 620,
   "metadata": {},
   "outputs": [
    {
     "name": "stdout",
     "output_type": "stream",
     "text": [
      "Australia - 0.0112978667296\n",
      "Austria - 0.00528691122246\n",
      "Belgium - -0.00537597098271\n",
      "Brazil - 0.00452238522857\n",
      "Denmark - 0.003741666551\n",
      "Finland - -0.000885971121505\n",
      "France - 0.0149909552295\n",
      "Italy - 0.00811022128459\n",
      "Jamaica - -0.00230977066533\n",
      "Mexico - 0.00148047393672\n",
      "Netherlands - -0.00232596334902\n",
      "Romania - -0.00265791336452\n",
      "Spain - 0.00677548150102\n",
      "Sweden - 0.00518165877852\n",
      "Switzerland - -0.0023421560327\n",
      "United Kingdom - 0.0111521325764\n",
      "Yugoslavia - 0.000634984524421\n",
      "\n",
      "\n",
      "Overall - 0.0572769920471\n"
     ]
    }
   ],
   "source": [
    "prev = pivot_df.loc[1976]\n",
    "next = pivot_df.loc[1980]\n",
    "\n",
    "col = pivot_df.columns\n",
    "overall = 0 \n",
    "for c in col:\n",
    "    prevR = prev[c]\n",
    "    currR = next[c]\n",
    "    diff = (currR-prevR)\n",
    "    overall += diff\n",
    "    print(c+\" - \"+str(diff))\n",
    "\n",
    "print(\"\\n\\nOverall - \"+str(overall))"
   ]
  },
  {
   "cell_type": "code",
   "execution_count": null,
   "metadata": {},
   "outputs": [],
   "source": [
    "prev = pivot_df.loc[1976]\n",
    "next = pivot_df.loc[1984]\n",
    "\n",
    "col = pivot_df.columns\n",
    "overall = 0 \n",
    "for c in col:\n",
    "    prevR = prev[c]\n",
    "    currR = next[c]\n",
    "    diff = (currR-prevR)\n",
    "    overall += diff\n",
    "    print(c+\" - \"+str(diff))\n",
    "\n",
    "print(\"\\n\\nOverall - \"+str(overall/len(col)))"
   ]
  },
  {
   "cell_type": "markdown",
   "metadata": {},
   "source": [
    "# Countries who won in all but 1980"
   ]
  },
  {
   "cell_type": "code",
   "execution_count": 564,
   "metadata": {},
   "outputs": [],
   "source": [
    "countries = list(set(c76) & set(c84) & set(c88) - set(c80))"
   ]
  },
  {
   "cell_type": "code",
   "execution_count": 565,
   "metadata": {},
   "outputs": [
    {
     "data": {
      "text/html": [
       "<div>\n",
       "<style>\n",
       "    .dataframe thead tr:only-child th {\n",
       "        text-align: right;\n",
       "    }\n",
       "\n",
       "    .dataframe thead th {\n",
       "        text-align: left;\n",
       "    }\n",
       "\n",
       "    .dataframe tbody tr th {\n",
       "        vertical-align: top;\n",
       "    }\n",
       "</style>\n",
       "<table border=\"1\" class=\"dataframe\">\n",
       "  <thead>\n",
       "    <tr style=\"text-align: right;\">\n",
       "      <th>Country</th>\n",
       "      <th>Canada</th>\n",
       "      <th>Japan</th>\n",
       "      <th>Korea, Rep.</th>\n",
       "      <th>New Zealand</th>\n",
       "      <th>Norway</th>\n",
       "      <th>Pakistan</th>\n",
       "      <th>Portugal</th>\n",
       "      <th>Thailand</th>\n",
       "      <th>United States</th>\n",
       "      <th>West Germany</th>\n",
       "    </tr>\n",
       "    <tr>\n",
       "      <th>Year</th>\n",
       "      <th></th>\n",
       "      <th></th>\n",
       "      <th></th>\n",
       "      <th></th>\n",
       "      <th></th>\n",
       "      <th></th>\n",
       "      <th></th>\n",
       "      <th></th>\n",
       "      <th></th>\n",
       "      <th></th>\n",
       "    </tr>\n",
       "  </thead>\n",
       "  <tbody>\n",
       "    <tr>\n",
       "      <th>1976</th>\n",
       "      <td>0.012997</td>\n",
       "      <td>0.043578</td>\n",
       "      <td>0.006881</td>\n",
       "      <td>0.006881</td>\n",
       "      <td>0.003823</td>\n",
       "      <td>0.000765</td>\n",
       "      <td>0.003058</td>\n",
       "      <td>0.000765</td>\n",
       "      <td>0.175076</td>\n",
       "      <td>0.070336</td>\n",
       "    </tr>\n",
       "    <tr>\n",
       "      <th>1984</th>\n",
       "      <td>0.056747</td>\n",
       "      <td>0.043599</td>\n",
       "      <td>0.025606</td>\n",
       "      <td>0.027682</td>\n",
       "      <td>0.002768</td>\n",
       "      <td>0.002076</td>\n",
       "      <td>0.003460</td>\n",
       "      <td>0.001384</td>\n",
       "      <td>0.294118</td>\n",
       "      <td>0.084429</td>\n",
       "    </tr>\n",
       "    <tr>\n",
       "      <th>1988</th>\n",
       "      <td>0.009512</td>\n",
       "      <td>0.016487</td>\n",
       "      <td>0.043120</td>\n",
       "      <td>0.017121</td>\n",
       "      <td>0.007609</td>\n",
       "      <td>0.000634</td>\n",
       "      <td>0.001902</td>\n",
       "      <td>0.000634</td>\n",
       "      <td>0.146481</td>\n",
       "      <td>0.056436</td>\n",
       "    </tr>\n",
       "  </tbody>\n",
       "</table>\n",
       "</div>"
      ],
      "text/plain": [
       "Country    Canada     Japan  Korea, Rep.  New Zealand    Norway  Pakistan  \\\n",
       "Year                                                                        \n",
       "1976     0.012997  0.043578     0.006881     0.006881  0.003823  0.000765   \n",
       "1984     0.056747  0.043599     0.025606     0.027682  0.002768  0.002076   \n",
       "1988     0.009512  0.016487     0.043120     0.017121  0.007609  0.000634   \n",
       "\n",
       "Country  Portugal  Thailand  United States  West Germany  \n",
       "Year                                                      \n",
       "1976     0.003058  0.000765       0.175076      0.070336  \n",
       "1984     0.003460  0.001384       0.294118      0.084429  \n",
       "1988     0.001902  0.000634       0.146481      0.056436  "
      ]
     },
     "execution_count": 565,
     "metadata": {},
     "output_type": "execute_result"
    }
   ],
   "source": [
    "pivot_df = df[df.Country.isin(countries)].pivot(index='Year', columns='Country', values='Rating_Share')\n",
    "pivot_df"
   ]
  },
  {
   "cell_type": "code",
   "execution_count": 566,
   "metadata": {},
   "outputs": [],
   "source": [
    "pivot_df.loc[1980] = [0,0,0,0,0,0,0,0,0,0]\n",
    "pivot_df = pivot_df.sort_index()"
   ]
  },
  {
   "cell_type": "code",
   "execution_count": 567,
   "metadata": {},
   "outputs": [
    {
     "data": {
      "text/plain": [
       "Index(['Canada', 'Japan', 'Korea, Rep.', 'New Zealand', 'Norway', 'Pakistan',\n",
       "       'Portugal', 'Thailand', 'United States', 'West Germany'],\n",
       "      dtype='object', name='Country')"
      ]
     },
     "execution_count": 567,
     "metadata": {},
     "output_type": "execute_result"
    }
   ],
   "source": [
    "pivot_df.columns"
   ]
  },
  {
   "cell_type": "markdown",
   "metadata": {},
   "source": [
    "Select only columns who participated in the 1980 boycott"
   ]
  },
  {
   "cell_type": "code",
   "execution_count": 568,
   "metadata": {},
   "outputs": [],
   "source": [
    "pivot_df = pivot_df[['Canada', 'Japan', 'Korea, Rep.','Norway', 'Pakistan', 'Thailand', \n",
    "          'United States', 'West Germany']]"
   ]
  },
  {
   "cell_type": "code",
   "execution_count": 569,
   "metadata": {},
   "outputs": [
    {
     "data": {
      "image/png": "[encoded data removed]",
      "text/plain": [
       "<matplotlib.figure.Figure at 0x1cf6c4d79b0>"
      ]
     },
     "metadata": {},
     "output_type": "display_data"
    }
   ],
   "source": [
    "fig, ax = plt.subplots(facecolor='#fafaff')\n",
    "pivot_df.plot(kind='bar',stacked=True,ax=ax,color='#0052A5',legend=False)\n",
    "plt.grid()\n",
    "#plt.legend(loc=2,bbox_to_anchor=(1.05, 1),borderaxespad=0., prop={'size': 20})\n",
    "plt.rcParams.update({'font.size': 18})\n",
    "plt.yticks(size = 15)\n",
    "plt.rcParams.update({'axes.titlepad': 30})\n",
    "plt.ylabel('Rating Share',fontsize=20)\n",
    "plt.xlabel('',fontsize=20)\n",
    "ax.set_axisbelow(True)\n",
    "fig.suptitle('Countries Who Participated in the 1980 Boycott', fontsize=30)\n",
    "fig.tight_layout()\n",
    "fig.subplots_adjust(top=0.88)\n",
    "plt.show()\n",
    "fig.savefig('../../data/final/Graphs/AmericanBoycott.png')"
   ]
  },
  {
   "cell_type": "code",
   "execution_count": 570,
   "metadata": {},
   "outputs": [
    {
     "name": "stdout",
     "output_type": "stream",
     "text": [
      "Canada - 0.0437504629483\n",
      "Japan - 2.06342655789e-05\n",
      "Korea, Rep. - 0.0187248023872\n",
      "Norway - -0.00105446387945\n",
      "Pakistan - 0.00131159857359\n",
      "Thailand - 0.000619557051099\n",
      "United States - 0.119041194459\n",
      "West Germany - 0.0140926743066\n",
      "\n",
      "\n",
      "Overall - 0.024563307514\n"
     ]
    }
   ],
   "source": [
    "prev = pivot_df.loc[1976]\n",
    "next = pivot_df.loc[1984]\n",
    "\n",
    "col = pivot_df.columns\n",
    "overall = 0 \n",
    "for c in col:\n",
    "    prevR = prev[c]\n",
    "    currR = next[c]\n",
    "    diff = (currR-prevR)\n",
    "    overall += diff\n",
    "    print(c+\" - \"+str(diff))\n",
    "\n",
    "print(\"\\n\\nOverall - \"+str(overall/len(col)))"
   ]
  },
  {
   "cell_type": "markdown",
   "metadata": {},
   "source": [
    "# Countries who won in all but 1984"
   ]
  },
  {
   "cell_type": "code",
   "execution_count": 571,
   "metadata": {
    "collapsed": true
   },
   "outputs": [],
   "source": [
    "countries = list(set(c76) & set(c80) & set(c88) - set(c84))"
   ]
  },
  {
   "cell_type": "code",
   "execution_count": 572,
   "metadata": {},
   "outputs": [
    {
     "data": {
      "text/html": [
       "<div>\n",
       "<style>\n",
       "    .dataframe thead tr:only-child th {\n",
       "        text-align: right;\n",
       "    }\n",
       "\n",
       "    .dataframe thead th {\n",
       "        text-align: left;\n",
       "    }\n",
       "\n",
       "    .dataframe tbody tr th {\n",
       "        vertical-align: top;\n",
       "    }\n",
       "</style>\n",
       "<table border=\"1\" class=\"dataframe\">\n",
       "  <thead>\n",
       "    <tr style=\"text-align: right;\">\n",
       "      <th>Country</th>\n",
       "      <th>Bulgaria</th>\n",
       "      <th>Czechoslovakia</th>\n",
       "      <th>East Germany</th>\n",
       "      <th>Hungary</th>\n",
       "      <th>Mongolia</th>\n",
       "      <th>Poland</th>\n",
       "      <th>Soviet Union</th>\n",
       "    </tr>\n",
       "    <tr>\n",
       "      <th>Year</th>\n",
       "      <th></th>\n",
       "      <th></th>\n",
       "      <th></th>\n",
       "      <th></th>\n",
       "      <th></th>\n",
       "      <th></th>\n",
       "      <th></th>\n",
       "    </tr>\n",
       "  </thead>\n",
       "  <tbody>\n",
       "    <tr>\n",
       "      <th>1976</th>\n",
       "      <td>0.032875</td>\n",
       "      <td>0.012232</td>\n",
       "      <td>0.166667</td>\n",
       "      <td>0.029052</td>\n",
       "      <td>0.001529</td>\n",
       "      <td>0.036697</td>\n",
       "      <td>0.200306</td>\n",
       "    </tr>\n",
       "    <tr>\n",
       "      <th>1980</th>\n",
       "      <td>0.052950</td>\n",
       "      <td>0.015885</td>\n",
       "      <td>0.205749</td>\n",
       "      <td>0.046142</td>\n",
       "      <td>0.004539</td>\n",
       "      <td>0.039334</td>\n",
       "      <td>0.352496</td>\n",
       "    </tr>\n",
       "    <tr>\n",
       "      <th>1988</th>\n",
       "      <td>0.045022</td>\n",
       "      <td>0.010780</td>\n",
       "      <td>0.149651</td>\n",
       "      <td>0.037413</td>\n",
       "      <td>0.000634</td>\n",
       "      <td>0.015853</td>\n",
       "      <td>0.184528</td>\n",
       "    </tr>\n",
       "  </tbody>\n",
       "</table>\n",
       "</div>"
      ],
      "text/plain": [
       "Country  Bulgaria  Czechoslovakia  East Germany   Hungary  Mongolia    Poland  \\\n",
       "Year                                                                            \n",
       "1976     0.032875        0.012232      0.166667  0.029052  0.001529  0.036697   \n",
       "1980     0.052950        0.015885      0.205749  0.046142  0.004539  0.039334   \n",
       "1988     0.045022        0.010780      0.149651  0.037413  0.000634  0.015853   \n",
       "\n",
       "Country  Soviet Union  \n",
       "Year                   \n",
       "1976         0.200306  \n",
       "1980         0.352496  \n",
       "1988         0.184528  "
      ]
     },
     "execution_count": 572,
     "metadata": {},
     "output_type": "execute_result"
    }
   ],
   "source": [
    "pivot_df = df[df.Country.isin(countries)].pivot(index='Year', columns='Country', values='Rating_Share')\n",
    "pivot_df"
   ]
  },
  {
   "cell_type": "code",
   "execution_count": 573,
   "metadata": {
    "collapsed": true
   },
   "outputs": [],
   "source": [
    "pivot_df.loc[1984] = [0,0,0,0,0,0,0]\n",
    "pivot_df = pivot_df.sort_index()"
   ]
  },
  {
   "cell_type": "code",
   "execution_count": 574,
   "metadata": {},
   "outputs": [
    {
     "data": {
      "image/png": "[encoded data removed]",
      "text/plain": [
       "<matplotlib.figure.Figure at 0x1cf6c589cf8>"
      ]
     },
     "metadata": {},
     "output_type": "display_data"
    }
   ],
   "source": [
    "fig, ax = plt.subplots(facecolor='#fafaff')\n",
    "pivot_df.plot(kind='bar',stacked=True,ax=ax,color=['#ff0000'],legend=False)\n",
    "plt.grid()\n",
    "#plt.legend(loc=2,bbox_to_anchor=(1.05, 1),borderaxespad=0., prop={'size': 20})\n",
    "plt.rcParams.update({'font.size': 18})\n",
    "plt.yticks(size = 15)\n",
    "plt.rcParams.update({'axes.titlepad': 30})\n",
    "plt.ylabel('Rating Share',fontsize=20)\n",
    "plt.xlabel('',fontsize=20)\n",
    "ax.set_axisbelow(True)\n",
    "fig.suptitle('Countries Who Participated in the 1984 Boycott', fontsize=30)\n",
    "fig.tight_layout()\n",
    "fig.subplots_adjust(top=0.88)\n",
    "plt.show()\n",
    "fig.savefig('../../data/final/Graphs/SovietBoycott.png')"
   ]
  },
  {
   "cell_type": "code",
   "execution_count": 575,
   "metadata": {},
   "outputs": [
    {
     "data": {
      "text/html": [
       "<div>\n",
       "<style>\n",
       "    .dataframe thead tr:only-child th {\n",
       "        text-align: right;\n",
       "    }\n",
       "\n",
       "    .dataframe thead th {\n",
       "        text-align: left;\n",
       "    }\n",
       "\n",
       "    .dataframe tbody tr th {\n",
       "        vertical-align: top;\n",
       "    }\n",
       "</style>\n",
       "<table border=\"1\" class=\"dataframe\">\n",
       "  <thead>\n",
       "    <tr style=\"text-align: right;\">\n",
       "      <th>Country</th>\n",
       "      <th>Bulgaria</th>\n",
       "      <th>Czechoslovakia</th>\n",
       "      <th>East Germany</th>\n",
       "      <th>Hungary</th>\n",
       "      <th>Mongolia</th>\n",
       "      <th>Poland</th>\n",
       "      <th>Soviet Union</th>\n",
       "    </tr>\n",
       "    <tr>\n",
       "      <th>Year</th>\n",
       "      <th></th>\n",
       "      <th></th>\n",
       "      <th></th>\n",
       "      <th></th>\n",
       "      <th></th>\n",
       "      <th></th>\n",
       "      <th></th>\n",
       "    </tr>\n",
       "  </thead>\n",
       "  <tbody>\n",
       "    <tr>\n",
       "      <th>1976</th>\n",
       "      <td>0.032875</td>\n",
       "      <td>0.012232</td>\n",
       "      <td>0.166667</td>\n",
       "      <td>0.029052</td>\n",
       "      <td>0.001529</td>\n",
       "      <td>0.036697</td>\n",
       "      <td>0.200306</td>\n",
       "    </tr>\n",
       "    <tr>\n",
       "      <th>1980</th>\n",
       "      <td>0.052950</td>\n",
       "      <td>0.015885</td>\n",
       "      <td>0.205749</td>\n",
       "      <td>0.046142</td>\n",
       "      <td>0.004539</td>\n",
       "      <td>0.039334</td>\n",
       "      <td>0.352496</td>\n",
       "    </tr>\n",
       "    <tr>\n",
       "      <th>1984</th>\n",
       "      <td>0.000000</td>\n",
       "      <td>0.000000</td>\n",
       "      <td>0.000000</td>\n",
       "      <td>0.000000</td>\n",
       "      <td>0.000000</td>\n",
       "      <td>0.000000</td>\n",
       "      <td>0.000000</td>\n",
       "    </tr>\n",
       "    <tr>\n",
       "      <th>1988</th>\n",
       "      <td>0.045022</td>\n",
       "      <td>0.010780</td>\n",
       "      <td>0.149651</td>\n",
       "      <td>0.037413</td>\n",
       "      <td>0.000634</td>\n",
       "      <td>0.015853</td>\n",
       "      <td>0.184528</td>\n",
       "    </tr>\n",
       "  </tbody>\n",
       "</table>\n",
       "</div>"
      ],
      "text/plain": [
       "Country  Bulgaria  Czechoslovakia  East Germany   Hungary  Mongolia    Poland  \\\n",
       "Year                                                                            \n",
       "1976     0.032875        0.012232      0.166667  0.029052  0.001529  0.036697   \n",
       "1980     0.052950        0.015885      0.205749  0.046142  0.004539  0.039334   \n",
       "1984     0.000000        0.000000      0.000000  0.000000  0.000000  0.000000   \n",
       "1988     0.045022        0.010780      0.149651  0.037413  0.000634  0.015853   \n",
       "\n",
       "Country  Soviet Union  \n",
       "Year                   \n",
       "1976         0.200306  \n",
       "1980         0.352496  \n",
       "1984         0.000000  \n",
       "1988         0.184528  "
      ]
     },
     "execution_count": 575,
     "metadata": {},
     "output_type": "execute_result"
    }
   ],
   "source": [
    "pivot_df"
   ]
  },
  {
   "cell_type": "code",
   "execution_count": 576,
   "metadata": {},
   "outputs": [
    {
     "name": "stdout",
     "output_type": "stream",
     "text": [
      "Bulgaria - 0.020075457906\n",
      "Czechoslovakia - 0.00365260679075\n",
      "East Germany - 0.0390821986889\n",
      "Hungary - 0.017090221007\n",
      "Mongolia - 0.00300952592449\n",
      "Poland - 0.00263709419978\n",
      "Soviet Union - 0.152190407454\n",
      "\n",
      "\n",
      "Overall - 0.0339625017101\n"
     ]
    }
   ],
   "source": [
    "prev = pivot_df.loc[1976]\n",
    "next = pivot_df.loc[1980]\n",
    "\n",
    "col = pivot_df.columns\n",
    "overall = 0 \n",
    "for c in col:\n",
    "    prevR = prev[c]\n",
    "    currR = next[c]\n",
    "    diff = (currR-prevR)\n",
    "    overall += diff\n",
    "    print(c+\" - \"+str(diff))\n",
    "\n",
    "print(\"\\n\\nOverall - \"+str(overall/len(col)))"
   ]
  },
  {
   "cell_type": "code",
   "execution_count": null,
   "metadata": {
    "collapsed": true
   },
   "outputs": [],
   "source": []
  },
  {
   "cell_type": "code",
   "execution_count": null,
   "metadata": {
    "collapsed": true
   },
   "outputs": [],
   "source": []
  },
  {
   "cell_type": "code",
   "execution_count": null,
   "metadata": {
    "collapsed": true
   },
   "outputs": [],
   "source": []
  },
  {
   "cell_type": "code",
   "execution_count": null,
   "metadata": {
    "collapsed": true
   },
   "outputs": [],
   "source": []
  },
  {
   "cell_type": "code",
   "execution_count": null,
   "metadata": {
    "collapsed": true
   },
   "outputs": [],
   "source": []
  }
 ],
 "metadata": {
  "kernelspec": {
   "display_name": "Python 3",
   "language": "python",
   "name": "python3"
  },
  "language_info": {
   "codemirror_mode": {
    "name": "ipython",
    "version": 3
   },
   "file_extension": ".py",
   "mimetype": "text/x-python",
   "name": "python",
   "nbconvert_exporter": "python",
   "pygments_lexer": "ipython3",
   "version": "3.6.3"
  }
 },
 "nbformat": 4,
 "nbformat_minor": 2
}
