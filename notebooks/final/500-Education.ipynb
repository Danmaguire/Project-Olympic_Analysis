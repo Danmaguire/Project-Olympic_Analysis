{
 "cells": [
  {
   "cell_type": "markdown",
   "metadata": {},
   "source": [
    "# Education"
   ]
  },
  {
   "cell_type": "code",
   "execution_count": 1,
   "metadata": {
    "collapsed": true
   },
   "outputs": [],
   "source": [
    "import pandas as pd\n",
    "import numpy as np\n",
    "import matplotlib.pyplot as plt\n",
    "import matplotlib.patches as patches\n",
    "import math\n",
    "import os.path\n",
    "from sklearn.linear_model import LinearRegression \n",
    "from glob import glob"
   ]
  },
  {
   "cell_type": "code",
   "execution_count": 3,
   "metadata": {
    "collapsed": true
   },
   "outputs": [],
   "source": [
    "filepath = '../../data/final/education.csv'"
   ]
  },
  {
   "cell_type": "code",
   "execution_count": 4,
   "metadata": {},
   "outputs": [
    {
     "name": "stdout",
     "output_type": "stream",
     "text": [
      "File Read\n"
     ]
    }
   ],
   "source": [
    "if not os.path.exists( filepath ):\n",
    "    print(\"Missing dataset file\")\n",
    "else:\n",
    "    df = pd.read_csv(filepath , encoding = \"ISO-8859-1\")\n",
    "    print(\"File Read\")"
   ]
  },
  {
   "cell_type": "code",
   "execution_count": 5,
   "metadata": {},
   "outputs": [
    {
     "data": {
      "text/html": [
       "<div>\n",
       "<style>\n",
       "    .dataframe thead tr:only-child th {\n",
       "        text-align: right;\n",
       "    }\n",
       "\n",
       "    .dataframe thead th {\n",
       "        text-align: left;\n",
       "    }\n",
       "\n",
       "    .dataframe tbody tr th {\n",
       "        vertical-align: top;\n",
       "    }\n",
       "</style>\n",
       "<table border=\"1\" class=\"dataframe\">\n",
       "  <thead>\n",
       "    <tr style=\"text-align: right;\">\n",
       "      <th></th>\n",
       "      <th>Country</th>\n",
       "      <th>Host_City</th>\n",
       "      <th>Year</th>\n",
       "      <th>Education_Index</th>\n",
       "      <th>Gold</th>\n",
       "      <th>Silver</th>\n",
       "      <th>Bronze</th>\n",
       "      <th>Total_Medals</th>\n",
       "      <th>Ath_Rating</th>\n",
       "      <th>Gold_Share</th>\n",
       "      <th>Medal_Share</th>\n",
       "      <th>Rating_Share</th>\n",
       "      <th>norm_Gold_Share</th>\n",
       "      <th>norm_Medal_Share</th>\n",
       "      <th>norm_Rating_Share</th>\n",
       "    </tr>\n",
       "  </thead>\n",
       "  <tbody>\n",
       "    <tr>\n",
       "      <th>0</th>\n",
       "      <td>Afghanistan</td>\n",
       "      <td>Beijing</td>\n",
       "      <td>2008</td>\n",
       "      <td>0.332160</td>\n",
       "      <td>0</td>\n",
       "      <td>0</td>\n",
       "      <td>1</td>\n",
       "      <td>1</td>\n",
       "      <td>1</td>\n",
       "      <td>0.000000</td>\n",
       "      <td>0.000490</td>\n",
       "      <td>0.000248</td>\n",
       "      <td>0.000000</td>\n",
       "      <td>0.000000</td>\n",
       "      <td>0.000000</td>\n",
       "    </tr>\n",
       "    <tr>\n",
       "      <th>1</th>\n",
       "      <td>Afghanistan</td>\n",
       "      <td>London</td>\n",
       "      <td>2012</td>\n",
       "      <td>0.365333</td>\n",
       "      <td>0</td>\n",
       "      <td>0</td>\n",
       "      <td>1</td>\n",
       "      <td>1</td>\n",
       "      <td>1</td>\n",
       "      <td>0.000000</td>\n",
       "      <td>0.000514</td>\n",
       "      <td>0.000260</td>\n",
       "      <td>0.000000</td>\n",
       "      <td>0.000076</td>\n",
       "      <td>0.000036</td>\n",
       "    </tr>\n",
       "    <tr>\n",
       "      <th>2</th>\n",
       "      <td>Algeria</td>\n",
       "      <td>Atlanta</td>\n",
       "      <td>1996</td>\n",
       "      <td>0.438191</td>\n",
       "      <td>2</td>\n",
       "      <td>0</td>\n",
       "      <td>1</td>\n",
       "      <td>3</td>\n",
       "      <td>7</td>\n",
       "      <td>0.003252</td>\n",
       "      <td>0.001616</td>\n",
       "      <td>0.001894</td>\n",
       "      <td>0.006980</td>\n",
       "      <td>0.003573</td>\n",
       "      <td>0.004839</td>\n",
       "    </tr>\n",
       "    <tr>\n",
       "      <th>3</th>\n",
       "      <td>Algeria</td>\n",
       "      <td>Barcelone</td>\n",
       "      <td>1992</td>\n",
       "      <td>0.399180</td>\n",
       "      <td>1</td>\n",
       "      <td>0</td>\n",
       "      <td>1</td>\n",
       "      <td>2</td>\n",
       "      <td>4</td>\n",
       "      <td>0.001779</td>\n",
       "      <td>0.001168</td>\n",
       "      <td>0.001180</td>\n",
       "      <td>0.003819</td>\n",
       "      <td>0.002153</td>\n",
       "      <td>0.002740</td>\n",
       "    </tr>\n",
       "    <tr>\n",
       "      <th>4</th>\n",
       "      <td>Algeria</td>\n",
       "      <td>Beijing</td>\n",
       "      <td>2008</td>\n",
       "      <td>0.598080</td>\n",
       "      <td>0</td>\n",
       "      <td>1</td>\n",
       "      <td>1</td>\n",
       "      <td>2</td>\n",
       "      <td>3</td>\n",
       "      <td>0.000000</td>\n",
       "      <td>0.000981</td>\n",
       "      <td>0.000743</td>\n",
       "      <td>0.000000</td>\n",
       "      <td>0.001558</td>\n",
       "      <td>0.001457</td>\n",
       "    </tr>\n",
       "  </tbody>\n",
       "</table>\n",
       "</div>"
      ],
      "text/plain": [
       "       Country  Host_City  Year  Education_Index  Gold  Silver  Bronze  \\\n",
       "0  Afghanistan    Beijing  2008         0.332160     0       0       1   \n",
       "1  Afghanistan     London  2012         0.365333     0       0       1   \n",
       "2      Algeria    Atlanta  1996         0.438191     2       0       1   \n",
       "3      Algeria  Barcelone  1992         0.399180     1       0       1   \n",
       "4      Algeria    Beijing  2008         0.598080     0       1       1   \n",
       "\n",
       "   Total_Medals  Ath_Rating  Gold_Share  Medal_Share  Rating_Share  \\\n",
       "0             1           1    0.000000     0.000490      0.000248   \n",
       "1             1           1    0.000000     0.000514      0.000260   \n",
       "2             3           7    0.003252     0.001616      0.001894   \n",
       "3             2           4    0.001779     0.001168      0.001180   \n",
       "4             2           3    0.000000     0.000981      0.000743   \n",
       "\n",
       "   norm_Gold_Share  norm_Medal_Share  norm_Rating_Share  \n",
       "0         0.000000          0.000000           0.000000  \n",
       "1         0.000000          0.000076           0.000036  \n",
       "2         0.006980          0.003573           0.004839  \n",
       "3         0.003819          0.002153           0.002740  \n",
       "4         0.000000          0.001558           0.001457  "
      ]
     },
     "execution_count": 5,
     "metadata": {},
     "output_type": "execute_result"
    }
   ],
   "source": [
    "df.head()"
   ]
  },
  {
   "cell_type": "markdown",
   "metadata": {},
   "source": [
    "## Education index"
   ]
  },
  {
   "cell_type": "code",
   "execution_count": 7,
   "metadata": {},
   "outputs": [
    {
     "data": {
      "text/plain": [
       "0.92653551999999995"
      ]
     },
     "execution_count": 7,
     "metadata": {},
     "output_type": "execute_result"
    }
   ],
   "source": [
    "df.Education_Index.max()"
   ]
  },
  {
   "cell_type": "code",
   "execution_count": 9,
   "metadata": {},
   "outputs": [
    {
     "data": {
      "text/html": [
       "<div>\n",
       "<style>\n",
       "    .dataframe thead tr:only-child th {\n",
       "        text-align: right;\n",
       "    }\n",
       "\n",
       "    .dataframe thead th {\n",
       "        text-align: left;\n",
       "    }\n",
       "\n",
       "    .dataframe tbody tr th {\n",
       "        vertical-align: top;\n",
       "    }\n",
       "</style>\n",
       "<table border=\"1\" class=\"dataframe\">\n",
       "  <thead>\n",
       "    <tr style=\"text-align: right;\">\n",
       "      <th></th>\n",
       "      <th>Country</th>\n",
       "      <th>Host_City</th>\n",
       "      <th>Year</th>\n",
       "      <th>Education_Index</th>\n",
       "      <th>Gold</th>\n",
       "      <th>Silver</th>\n",
       "      <th>Bronze</th>\n",
       "      <th>Total_Medals</th>\n",
       "      <th>Ath_Rating</th>\n",
       "      <th>Gold_Share</th>\n",
       "      <th>Medal_Share</th>\n",
       "      <th>Rating_Share</th>\n",
       "      <th>norm_Gold_Share</th>\n",
       "      <th>norm_Medal_Share</th>\n",
       "      <th>norm_Rating_Share</th>\n",
       "    </tr>\n",
       "  </thead>\n",
       "  <tbody>\n",
       "    <tr>\n",
       "      <th>24</th>\n",
       "      <td>Australia</td>\n",
       "      <td>London</td>\n",
       "      <td>2012</td>\n",
       "      <td>0.926536</td>\n",
       "      <td>19</td>\n",
       "      <td>36</td>\n",
       "      <td>59</td>\n",
       "      <td>114</td>\n",
       "      <td>188</td>\n",
       "      <td>0.029968</td>\n",
       "      <td>0.058642</td>\n",
       "      <td>0.048895</td>\n",
       "      <td>0.064323</td>\n",
       "      <td>0.18468</td>\n",
       "      <td>0.143011</td>\n",
       "    </tr>\n",
       "  </tbody>\n",
       "</table>\n",
       "</div>"
      ],
      "text/plain": [
       "      Country Host_City  Year  Education_Index  Gold  Silver  Bronze  \\\n",
       "24  Australia    London  2012         0.926536    19      36      59   \n",
       "\n",
       "    Total_Medals  Ath_Rating  Gold_Share  Medal_Share  Rating_Share  \\\n",
       "24           114         188    0.029968     0.058642      0.048895   \n",
       "\n",
       "    norm_Gold_Share  norm_Medal_Share  norm_Rating_Share  \n",
       "24         0.064323           0.18468           0.143011  "
      ]
     },
     "execution_count": 9,
     "metadata": {},
     "output_type": "execute_result"
    }
   ],
   "source": [
    "df[df.Education_Index == df.Education_Index.max()]"
   ]
  },
  {
   "cell_type": "code",
   "execution_count": 10,
   "metadata": {},
   "outputs": [
    {
     "data": {
      "text/plain": [
       "0.15471595220000001"
      ]
     },
     "execution_count": 10,
     "metadata": {},
     "output_type": "execute_result"
    }
   ],
   "source": [
    "df.Education_Index.min()"
   ]
  },
  {
   "cell_type": "code",
   "execution_count": 12,
   "metadata": {},
   "outputs": [
    {
     "data": {
      "text/html": [
       "<div>\n",
       "<style>\n",
       "    .dataframe thead tr:only-child th {\n",
       "        text-align: right;\n",
       "    }\n",
       "\n",
       "    .dataframe thead th {\n",
       "        text-align: left;\n",
       "    }\n",
       "\n",
       "    .dataframe tbody tr th {\n",
       "        vertical-align: top;\n",
       "    }\n",
       "</style>\n",
       "<table border=\"1\" class=\"dataframe\">\n",
       "  <thead>\n",
       "    <tr style=\"text-align: right;\">\n",
       "      <th></th>\n",
       "      <th>Country</th>\n",
       "      <th>Host_City</th>\n",
       "      <th>Year</th>\n",
       "      <th>Education_Index</th>\n",
       "      <th>Gold</th>\n",
       "      <th>Silver</th>\n",
       "      <th>Bronze</th>\n",
       "      <th>Total_Medals</th>\n",
       "      <th>Ath_Rating</th>\n",
       "      <th>Gold_Share</th>\n",
       "      <th>Medal_Share</th>\n",
       "      <th>Rating_Share</th>\n",
       "      <th>norm_Gold_Share</th>\n",
       "      <th>norm_Medal_Share</th>\n",
       "      <th>norm_Rating_Share</th>\n",
       "    </tr>\n",
       "  </thead>\n",
       "  <tbody>\n",
       "    <tr>\n",
       "      <th>450</th>\n",
       "      <td>Mozambique</td>\n",
       "      <td>Atlanta</td>\n",
       "      <td>1996</td>\n",
       "      <td>0.154716</td>\n",
       "      <td>0</td>\n",
       "      <td>0</td>\n",
       "      <td>1</td>\n",
       "      <td>1</td>\n",
       "      <td>1</td>\n",
       "      <td>0.0</td>\n",
       "      <td>0.000539</td>\n",
       "      <td>0.000271</td>\n",
       "      <td>0.0</td>\n",
       "      <td>0.000153</td>\n",
       "      <td>0.000067</td>\n",
       "    </tr>\n",
       "  </tbody>\n",
       "</table>\n",
       "</div>"
      ],
      "text/plain": [
       "        Country Host_City  Year  Education_Index  Gold  Silver  Bronze  \\\n",
       "450  Mozambique   Atlanta  1996         0.154716     0       0       1   \n",
       "\n",
       "     Total_Medals  Ath_Rating  Gold_Share  Medal_Share  Rating_Share  \\\n",
       "450             1           1         0.0     0.000539      0.000271   \n",
       "\n",
       "     norm_Gold_Share  norm_Medal_Share  norm_Rating_Share  \n",
       "450              0.0          0.000153           0.000067  "
      ]
     },
     "execution_count": 12,
     "metadata": {},
     "output_type": "execute_result"
    }
   ],
   "source": [
    "df[df.Education_Index == df.Education_Index.min()]"
   ]
  },
  {
   "cell_type": "code",
   "execution_count": 13,
   "metadata": {},
   "outputs": [
    {
     "data": {
      "text/plain": [
       "0.6688927346775495"
      ]
     },
     "execution_count": 13,
     "metadata": {},
     "output_type": "execute_result"
    }
   ],
   "source": [
    "df.Education_Index.mean()"
   ]
  },
  {
   "cell_type": "code",
   "execution_count": 17,
   "metadata": {},
   "outputs": [
    {
     "data": {
      "image/png": "[encoded data removed]",
      "text/plain": [
       "<matplotlib.figure.Figure at 0x1c77ccf3908>"
      ]
     },
     "metadata": {},
     "output_type": "display_data"
    }
   ],
   "source": [
    "df.Education_Index.sort_values().plot(kind='bar')\n",
    "plt.tick_params(\n",
    "    axis='x',          # changes apply to the x-axis\n",
    "    which='both',      # both major and minor ticks are affected\n",
    "    bottom='off',      # ticks along the bottom edge are off\n",
    "    top='off',         # ticks along the top edge are off\n",
    "    labelbottom='off') # labels along the bottom edge are off\n",
    "plt.show()"
   ]
  },
  {
   "cell_type": "markdown",
   "metadata": {},
   "source": [
    "## Outliers"
   ]
  },
  {
   "cell_type": "code",
   "execution_count": 19,
   "metadata": {},
   "outputs": [
    {
     "data": {
      "image/png": "[encoded data removed]",
      "text/plain": [
       "<matplotlib.figure.Figure at 0x1c77e535ba8>"
      ]
     },
     "metadata": {},
     "output_type": "display_data"
    }
   ],
   "source": [
    "df[['Education_Index']].boxplot()\n",
    "plt.show()"
   ]
  },
  {
   "cell_type": "code",
   "execution_count": 20,
   "metadata": {
    "collapsed": true
   },
   "outputs": [],
   "source": [
    "def outliers_iqr(ys):\n",
    "    quartile_1, quartile_3 = np.percentile(ys, [25, 75])\n",
    "    iqr = quartile_3 - quartile_1\n",
    "    lower_bound = quartile_1 - (iqr * 1.5)\n",
    "    upper_bound = quartile_3 + (iqr * 1.5)\n",
    "    return np.where((ys > upper_bound) | (ys < lower_bound))"
   ]
  },
  {
   "cell_type": "code",
   "execution_count": 24,
   "metadata": {},
   "outputs": [
    {
     "data": {
      "text/plain": [
       "array(['Burundi', \"Cote d'Ivoire\", 'Ethiopia', 'India', 'Morocco',\n",
       "       'Mozambique', 'Pakistan', 'Senegal', 'Uganda'], dtype=object)"
      ]
     },
     "execution_count": 24,
     "metadata": {},
     "output_type": "execute_result"
    }
   ],
   "source": [
    "indexs = outliers_iqr(df.Education_Index)\n",
    "df.iloc[indexs].Country.unique()"
   ]
  },
  {
   "cell_type": "markdown",
   "metadata": {},
   "source": [
    "## Education Index as a Factor"
   ]
  },
  {
   "cell_type": "code",
   "execution_count": 26,
   "metadata": {},
   "outputs": [
    {
     "data": {
      "text/html": [
       "<div>\n",
       "<style>\n",
       "    .dataframe thead tr:only-child th {\n",
       "        text-align: right;\n",
       "    }\n",
       "\n",
       "    .dataframe thead th {\n",
       "        text-align: left;\n",
       "    }\n",
       "\n",
       "    .dataframe tbody tr th {\n",
       "        vertical-align: top;\n",
       "    }\n",
       "</style>\n",
       "<table border=\"1\" class=\"dataframe\">\n",
       "  <thead>\n",
       "    <tr style=\"text-align: right;\">\n",
       "      <th></th>\n",
       "      <th>Year</th>\n",
       "      <th>Education_Index</th>\n",
       "      <th>Gold</th>\n",
       "      <th>Silver</th>\n",
       "      <th>Bronze</th>\n",
       "      <th>Total_Medals</th>\n",
       "      <th>Ath_Rating</th>\n",
       "      <th>Gold_Share</th>\n",
       "      <th>Medal_Share</th>\n",
       "      <th>Rating_Share</th>\n",
       "      <th>norm_Gold_Share</th>\n",
       "      <th>norm_Medal_Share</th>\n",
       "      <th>norm_Rating_Share</th>\n",
       "    </tr>\n",
       "  </thead>\n",
       "  <tbody>\n",
       "    <tr>\n",
       "      <th>Year</th>\n",
       "      <td>1.000000</td>\n",
       "      <td>0.386809</td>\n",
       "      <td>-0.033669</td>\n",
       "      <td>-0.038931</td>\n",
       "      <td>-0.042259</td>\n",
       "      <td>-0.041422</td>\n",
       "      <td>-0.039238</td>\n",
       "      <td>-0.124696</td>\n",
       "      <td>-0.162646</td>\n",
       "      <td>-0.151046</td>\n",
       "      <td>-0.124696</td>\n",
       "      <td>-0.162646</td>\n",
       "      <td>-0.151046</td>\n",
       "    </tr>\n",
       "    <tr>\n",
       "      <th>Education_Index</th>\n",
       "      <td>0.386809</td>\n",
       "      <td>1.000000</td>\n",
       "      <td>0.173116</td>\n",
       "      <td>0.193453</td>\n",
       "      <td>0.209541</td>\n",
       "      <td>0.208211</td>\n",
       "      <td>0.198468</td>\n",
       "      <td>0.164326</td>\n",
       "      <td>0.209001</td>\n",
       "      <td>0.197459</td>\n",
       "      <td>0.164326</td>\n",
       "      <td>0.209001</td>\n",
       "      <td>0.197459</td>\n",
       "    </tr>\n",
       "    <tr>\n",
       "      <th>Gold</th>\n",
       "      <td>-0.033669</td>\n",
       "      <td>0.173116</td>\n",
       "      <td>1.000000</td>\n",
       "      <td>0.777137</td>\n",
       "      <td>0.730400</td>\n",
       "      <td>0.932572</td>\n",
       "      <td>0.966576</td>\n",
       "      <td>0.755064</td>\n",
       "      <td>0.688628</td>\n",
       "      <td>0.723895</td>\n",
       "      <td>0.755064</td>\n",
       "      <td>0.688628</td>\n",
       "      <td>0.723895</td>\n",
       "    </tr>\n",
       "    <tr>\n",
       "      <th>Silver</th>\n",
       "      <td>-0.038931</td>\n",
       "      <td>0.193453</td>\n",
       "      <td>0.777137</td>\n",
       "      <td>1.000000</td>\n",
       "      <td>0.735619</td>\n",
       "      <td>0.911668</td>\n",
       "      <td>0.900730</td>\n",
       "      <td>0.548473</td>\n",
       "      <td>0.677822</td>\n",
       "      <td>0.671086</td>\n",
       "      <td>0.548473</td>\n",
       "      <td>0.677822</td>\n",
       "      <td>0.671086</td>\n",
       "    </tr>\n",
       "    <tr>\n",
       "      <th>Bronze</th>\n",
       "      <td>-0.042259</td>\n",
       "      <td>0.209541</td>\n",
       "      <td>0.730400</td>\n",
       "      <td>0.735619</td>\n",
       "      <td>1.000000</td>\n",
       "      <td>0.889410</td>\n",
       "      <td>0.829889</td>\n",
       "      <td>0.474399</td>\n",
       "      <td>0.622380</td>\n",
       "      <td>0.563273</td>\n",
       "      <td>0.474399</td>\n",
       "      <td>0.622380</td>\n",
       "      <td>0.563273</td>\n",
       "    </tr>\n",
       "    <tr>\n",
       "      <th>Total_Medals</th>\n",
       "      <td>-0.041422</td>\n",
       "      <td>0.208211</td>\n",
       "      <td>0.932572</td>\n",
       "      <td>0.911668</td>\n",
       "      <td>0.889410</td>\n",
       "      <td>1.000000</td>\n",
       "      <td>0.991722</td>\n",
       "      <td>0.666213</td>\n",
       "      <td>0.728746</td>\n",
       "      <td>0.722554</td>\n",
       "      <td>0.666213</td>\n",
       "      <td>0.728746</td>\n",
       "      <td>0.722554</td>\n",
       "    </tr>\n",
       "    <tr>\n",
       "      <th>Ath_Rating</th>\n",
       "      <td>-0.039238</td>\n",
       "      <td>0.198468</td>\n",
       "      <td>0.966576</td>\n",
       "      <td>0.900730</td>\n",
       "      <td>0.829889</td>\n",
       "      <td>0.991722</td>\n",
       "      <td>1.000000</td>\n",
       "      <td>0.706050</td>\n",
       "      <td>0.728495</td>\n",
       "      <td>0.738923</td>\n",
       "      <td>0.706050</td>\n",
       "      <td>0.728495</td>\n",
       "      <td>0.738923</td>\n",
       "    </tr>\n",
       "    <tr>\n",
       "      <th>Gold_Share</th>\n",
       "      <td>-0.124696</td>\n",
       "      <td>0.164326</td>\n",
       "      <td>0.755064</td>\n",
       "      <td>0.548473</td>\n",
       "      <td>0.474399</td>\n",
       "      <td>0.666213</td>\n",
       "      <td>0.706050</td>\n",
       "      <td>1.000000</td>\n",
       "      <td>0.886866</td>\n",
       "      <td>0.944034</td>\n",
       "      <td>1.000000</td>\n",
       "      <td>0.886866</td>\n",
       "      <td>0.944034</td>\n",
       "    </tr>\n",
       "    <tr>\n",
       "      <th>Medal_Share</th>\n",
       "      <td>-0.162646</td>\n",
       "      <td>0.209001</td>\n",
       "      <td>0.688628</td>\n",
       "      <td>0.677822</td>\n",
       "      <td>0.622380</td>\n",
       "      <td>0.728746</td>\n",
       "      <td>0.728495</td>\n",
       "      <td>0.886866</td>\n",
       "      <td>1.000000</td>\n",
       "      <td>0.984697</td>\n",
       "      <td>0.886866</td>\n",
       "      <td>1.000000</td>\n",
       "      <td>0.984697</td>\n",
       "    </tr>\n",
       "    <tr>\n",
       "      <th>Rating_Share</th>\n",
       "      <td>-0.151046</td>\n",
       "      <td>0.197459</td>\n",
       "      <td>0.723895</td>\n",
       "      <td>0.671086</td>\n",
       "      <td>0.563273</td>\n",
       "      <td>0.722554</td>\n",
       "      <td>0.738923</td>\n",
       "      <td>0.944034</td>\n",
       "      <td>0.984697</td>\n",
       "      <td>1.000000</td>\n",
       "      <td>0.944034</td>\n",
       "      <td>0.984697</td>\n",
       "      <td>1.000000</td>\n",
       "    </tr>\n",
       "    <tr>\n",
       "      <th>norm_Gold_Share</th>\n",
       "      <td>-0.124696</td>\n",
       "      <td>0.164326</td>\n",
       "      <td>0.755064</td>\n",
       "      <td>0.548473</td>\n",
       "      <td>0.474399</td>\n",
       "      <td>0.666213</td>\n",
       "      <td>0.706050</td>\n",
       "      <td>1.000000</td>\n",
       "      <td>0.886866</td>\n",
       "      <td>0.944034</td>\n",
       "      <td>1.000000</td>\n",
       "      <td>0.886866</td>\n",
       "      <td>0.944034</td>\n",
       "    </tr>\n",
       "    <tr>\n",
       "      <th>norm_Medal_Share</th>\n",
       "      <td>-0.162646</td>\n",
       "      <td>0.209001</td>\n",
       "      <td>0.688628</td>\n",
       "      <td>0.677822</td>\n",
       "      <td>0.622380</td>\n",
       "      <td>0.728746</td>\n",
       "      <td>0.728495</td>\n",
       "      <td>0.886866</td>\n",
       "      <td>1.000000</td>\n",
       "      <td>0.984697</td>\n",
       "      <td>0.886866</td>\n",
       "      <td>1.000000</td>\n",
       "      <td>0.984697</td>\n",
       "    </tr>\n",
       "    <tr>\n",
       "      <th>norm_Rating_Share</th>\n",
       "      <td>-0.151046</td>\n",
       "      <td>0.197459</td>\n",
       "      <td>0.723895</td>\n",
       "      <td>0.671086</td>\n",
       "      <td>0.563273</td>\n",
       "      <td>0.722554</td>\n",
       "      <td>0.738923</td>\n",
       "      <td>0.944034</td>\n",
       "      <td>0.984697</td>\n",
       "      <td>1.000000</td>\n",
       "      <td>0.944034</td>\n",
       "      <td>0.984697</td>\n",
       "      <td>1.000000</td>\n",
       "    </tr>\n",
       "  </tbody>\n",
       "</table>\n",
       "</div>"
      ],
      "text/plain": [
       "                       Year  Education_Index      Gold    Silver    Bronze  \\\n",
       "Year               1.000000         0.386809 -0.033669 -0.038931 -0.042259   \n",
       "Education_Index    0.386809         1.000000  0.173116  0.193453  0.209541   \n",
       "Gold              -0.033669         0.173116  1.000000  0.777137  0.730400   \n",
       "Silver            -0.038931         0.193453  0.777137  1.000000  0.735619   \n",
       "Bronze            -0.042259         0.209541  0.730400  0.735619  1.000000   \n",
       "Total_Medals      -0.041422         0.208211  0.932572  0.911668  0.889410   \n",
       "Ath_Rating        -0.039238         0.198468  0.966576  0.900730  0.829889   \n",
       "Gold_Share        -0.124696         0.164326  0.755064  0.548473  0.474399   \n",
       "Medal_Share       -0.162646         0.209001  0.688628  0.677822  0.622380   \n",
       "Rating_Share      -0.151046         0.197459  0.723895  0.671086  0.563273   \n",
       "norm_Gold_Share   -0.124696         0.164326  0.755064  0.548473  0.474399   \n",
       "norm_Medal_Share  -0.162646         0.209001  0.688628  0.677822  0.622380   \n",
       "norm_Rating_Share -0.151046         0.197459  0.723895  0.671086  0.563273   \n",
       "\n",
       "                   Total_Medals  Ath_Rating  Gold_Share  Medal_Share  \\\n",
       "Year                  -0.041422   -0.039238   -0.124696    -0.162646   \n",
       "Education_Index        0.208211    0.198468    0.164326     0.209001   \n",
       "Gold                   0.932572    0.966576    0.755064     0.688628   \n",
       "Silver                 0.911668    0.900730    0.548473     0.677822   \n",
       "Bronze                 0.889410    0.829889    0.474399     0.622380   \n",
       "Total_Medals           1.000000    0.991722    0.666213     0.728746   \n",
       "Ath_Rating             0.991722    1.000000    0.706050     0.728495   \n",
       "Gold_Share             0.666213    0.706050    1.000000     0.886866   \n",
       "Medal_Share            0.728746    0.728495    0.886866     1.000000   \n",
       "Rating_Share           0.722554    0.738923    0.944034     0.984697   \n",
       "norm_Gold_Share        0.666213    0.706050    1.000000     0.886866   \n",
       "norm_Medal_Share       0.728746    0.728495    0.886866     1.000000   \n",
       "norm_Rating_Share      0.722554    0.738923    0.944034     0.984697   \n",
       "\n",
       "                   Rating_Share  norm_Gold_Share  norm_Medal_Share  \\\n",
       "Year                  -0.151046        -0.124696         -0.162646   \n",
       "Education_Index        0.197459         0.164326          0.209001   \n",
       "Gold                   0.723895         0.755064          0.688628   \n",
       "Silver                 0.671086         0.548473          0.677822   \n",
       "Bronze                 0.563273         0.474399          0.622380   \n",
       "Total_Medals           0.722554         0.666213          0.728746   \n",
       "Ath_Rating             0.738923         0.706050          0.728495   \n",
       "Gold_Share             0.944034         1.000000          0.886866   \n",
       "Medal_Share            0.984697         0.886866          1.000000   \n",
       "Rating_Share           1.000000         0.944034          0.984697   \n",
       "norm_Gold_Share        0.944034         1.000000          0.886866   \n",
       "norm_Medal_Share       0.984697         0.886866          1.000000   \n",
       "norm_Rating_Share      1.000000         0.944034          0.984697   \n",
       "\n",
       "                   norm_Rating_Share  \n",
       "Year                       -0.151046  \n",
       "Education_Index             0.197459  \n",
       "Gold                        0.723895  \n",
       "Silver                      0.671086  \n",
       "Bronze                      0.563273  \n",
       "Total_Medals                0.722554  \n",
       "Ath_Rating                  0.738923  \n",
       "Gold_Share                  0.944034  \n",
       "Medal_Share                 0.984697  \n",
       "Rating_Share                1.000000  \n",
       "norm_Gold_Share             0.944034  \n",
       "norm_Medal_Share            0.984697  \n",
       "norm_Rating_Share           1.000000  "
      ]
     },
     "execution_count": 26,
     "metadata": {},
     "output_type": "execute_result"
    }
   ],
   "source": [
    "df.corr()"
   ]
  },
  {
   "cell_type": "code",
   "execution_count": 28,
   "metadata": {},
   "outputs": [
    {
     "data": {
      "image/png": "[encoded data removed]",
      "text/plain": [
       "<matplotlib.figure.Figure at 0x1c77e57b630>"
      ]
     },
     "metadata": {},
     "output_type": "display_data"
    }
   ],
   "source": [
    "plt.scatter(df.Education_Index,df.norm_Rating_Share)\n",
    "plt.show()"
   ]
  },
  {
   "cell_type": "code",
   "execution_count": 35,
   "metadata": {
    "collapsed": true
   },
   "outputs": [],
   "source": [
    "def standardScatterLine(x,y,ytitle,xtitle,title):\n",
    "    plt.rcParams[\"figure.figsize\"][0] = 12\n",
    "    plt.rcParams[\"figure.figsize\"][1] = 12\n",
    "    x_nparray = (x.values).reshape(len(x), 1)\n",
    "    y_nparray = (y.values).reshape(len(y), 1)\n",
    "    \n",
    "    regr = LinearRegression()\n",
    "    regr.fit(x_nparray, y_nparray)\n",
    "    \n",
    "    fig, ax = plt.subplots()\n",
    "    \n",
    "    ax.plot(x_nparray, regr.predict(x_nparray), color='k', linewidth=4)\n",
    "    ax.scatter(x,\n",
    "                y,\n",
    "                marker='o',\n",
    "                facecolors='#228B22', \n",
    "                edgecolors='#228B22',\n",
    "                )\n",
    "    \n",
    "    ax.set_ylabel(ytitle,fontsize=17)\n",
    "    ax.set_xlabel(xtitle,fontsize=17)\n",
    "    ax.set_title(\"\\n\"+title+\"\\n\",fontsize=24)\n",
    "    ax.locator_params(nbins=4)\n",
    "    plt.tight_layout()\n",
    "    plt.show()"
   ]
  },
  {
   "cell_type": "code",
   "execution_count": 36,
   "metadata": {},
   "outputs": [
    {
     "data": {
      "image/png": "[encoded data removed]",
      "text/plain": [
       "<matplotlib.figure.Figure at 0x1c77d8fec88>"
      ]
     },
     "metadata": {},
     "output_type": "display_data"
    }
   ],
   "source": [
    "standardScatterLine(df.Education_Index,df.norm_Rating_Share,\"\",'','')"
   ]
  },
  {
   "cell_type": "code",
   "execution_count": 44,
   "metadata": {},
   "outputs": [
    {
     "data": {
      "text/html": [
       "<div>\n",
       "<style>\n",
       "    .dataframe thead tr:only-child th {\n",
       "        text-align: right;\n",
       "    }\n",
       "\n",
       "    .dataframe thead th {\n",
       "        text-align: left;\n",
       "    }\n",
       "\n",
       "    .dataframe tbody tr th {\n",
       "        vertical-align: top;\n",
       "    }\n",
       "</style>\n",
       "<table border=\"1\" class=\"dataframe\">\n",
       "  <thead>\n",
       "    <tr style=\"text-align: right;\">\n",
       "      <th></th>\n",
       "      <th>Country</th>\n",
       "      <th>Host_City</th>\n",
       "      <th>Year</th>\n",
       "      <th>Education_Index</th>\n",
       "      <th>Gold</th>\n",
       "      <th>Silver</th>\n",
       "      <th>Bronze</th>\n",
       "      <th>Total_Medals</th>\n",
       "      <th>Ath_Rating</th>\n",
       "      <th>Gold_Share</th>\n",
       "      <th>Medal_Share</th>\n",
       "      <th>Rating_Share</th>\n",
       "      <th>norm_Gold_Share</th>\n",
       "      <th>norm_Medal_Share</th>\n",
       "      <th>norm_Rating_Share</th>\n",
       "    </tr>\n",
       "  </thead>\n",
       "  <tbody>\n",
       "    <tr>\n",
       "      <th>0</th>\n",
       "      <td>Afghanistan</td>\n",
       "      <td>Beijing</td>\n",
       "      <td>2008</td>\n",
       "      <td>0.332160</td>\n",
       "      <td>0</td>\n",
       "      <td>0</td>\n",
       "      <td>1</td>\n",
       "      <td>1</td>\n",
       "      <td>1</td>\n",
       "      <td>0.000000</td>\n",
       "      <td>0.000490</td>\n",
       "      <td>0.000248</td>\n",
       "      <td>0.000000</td>\n",
       "      <td>0.000000</td>\n",
       "      <td>0.000000</td>\n",
       "    </tr>\n",
       "    <tr>\n",
       "      <th>1</th>\n",
       "      <td>Afghanistan</td>\n",
       "      <td>London</td>\n",
       "      <td>2012</td>\n",
       "      <td>0.365333</td>\n",
       "      <td>0</td>\n",
       "      <td>0</td>\n",
       "      <td>1</td>\n",
       "      <td>1</td>\n",
       "      <td>1</td>\n",
       "      <td>0.000000</td>\n",
       "      <td>0.000514</td>\n",
       "      <td>0.000260</td>\n",
       "      <td>0.000000</td>\n",
       "      <td>0.000076</td>\n",
       "      <td>0.000036</td>\n",
       "    </tr>\n",
       "    <tr>\n",
       "      <th>2</th>\n",
       "      <td>Algeria</td>\n",
       "      <td>Atlanta</td>\n",
       "      <td>1996</td>\n",
       "      <td>0.438191</td>\n",
       "      <td>2</td>\n",
       "      <td>0</td>\n",
       "      <td>1</td>\n",
       "      <td>3</td>\n",
       "      <td>7</td>\n",
       "      <td>0.003252</td>\n",
       "      <td>0.001616</td>\n",
       "      <td>0.001894</td>\n",
       "      <td>0.006980</td>\n",
       "      <td>0.003573</td>\n",
       "      <td>0.004839</td>\n",
       "    </tr>\n",
       "    <tr>\n",
       "      <th>3</th>\n",
       "      <td>Algeria</td>\n",
       "      <td>Barcelone</td>\n",
       "      <td>1992</td>\n",
       "      <td>0.399180</td>\n",
       "      <td>1</td>\n",
       "      <td>0</td>\n",
       "      <td>1</td>\n",
       "      <td>2</td>\n",
       "      <td>4</td>\n",
       "      <td>0.001779</td>\n",
       "      <td>0.001168</td>\n",
       "      <td>0.001180</td>\n",
       "      <td>0.003819</td>\n",
       "      <td>0.002153</td>\n",
       "      <td>0.002740</td>\n",
       "    </tr>\n",
       "    <tr>\n",
       "      <th>4</th>\n",
       "      <td>Algeria</td>\n",
       "      <td>Beijing</td>\n",
       "      <td>2008</td>\n",
       "      <td>0.598080</td>\n",
       "      <td>0</td>\n",
       "      <td>1</td>\n",
       "      <td>1</td>\n",
       "      <td>2</td>\n",
       "      <td>3</td>\n",
       "      <td>0.000000</td>\n",
       "      <td>0.000981</td>\n",
       "      <td>0.000743</td>\n",
       "      <td>0.000000</td>\n",
       "      <td>0.001558</td>\n",
       "      <td>0.001457</td>\n",
       "    </tr>\n",
       "  </tbody>\n",
       "</table>\n",
       "</div>"
      ],
      "text/plain": [
       "       Country  Host_City  Year  Education_Index  Gold  Silver  Bronze  \\\n",
       "0  Afghanistan    Beijing  2008         0.332160     0       0       1   \n",
       "1  Afghanistan     London  2012         0.365333     0       0       1   \n",
       "2      Algeria    Atlanta  1996         0.438191     2       0       1   \n",
       "3      Algeria  Barcelone  1992         0.399180     1       0       1   \n",
       "4      Algeria    Beijing  2008         0.598080     0       1       1   \n",
       "\n",
       "   Total_Medals  Ath_Rating  Gold_Share  Medal_Share  Rating_Share  \\\n",
       "0             1           1    0.000000     0.000490      0.000248   \n",
       "1             1           1    0.000000     0.000514      0.000260   \n",
       "2             3           7    0.003252     0.001616      0.001894   \n",
       "3             2           4    0.001779     0.001168      0.001180   \n",
       "4             2           3    0.000000     0.000981      0.000743   \n",
       "\n",
       "   norm_Gold_Share  norm_Medal_Share  norm_Rating_Share  \n",
       "0         0.000000          0.000000           0.000000  \n",
       "1         0.000000          0.000076           0.000036  \n",
       "2         0.006980          0.003573           0.004839  \n",
       "3         0.003819          0.002153           0.002740  \n",
       "4         0.000000          0.001558           0.001457  "
      ]
     },
     "execution_count": 44,
     "metadata": {},
     "output_type": "execute_result"
    }
   ],
   "source": [
    "quartile_1, quartile_3 = np.percentile(df.Education_Index, [25, 75])\n",
    "iqr = quartile_3 - quartile_1\n",
    "lower_bound = quartile_1 - (iqr * 1.5)\n",
    "temp = df[df.Education_Index > lower_bound]\n",
    "temp.head()"
   ]
  },
  {
   "cell_type": "code",
   "execution_count": 45,
   "metadata": {},
   "outputs": [
    {
     "data": {
      "image/png": "[encoded data removed]",
      "text/plain": [
       "<matplotlib.figure.Figure at 0x1c77e28d828>"
      ]
     },
     "metadata": {},
     "output_type": "display_data"
    }
   ],
   "source": [
    "standardScatterLine(temp.Education_Index,temp.norm_Rating_Share,\"\",'','')"
   ]
  },
  {
   "cell_type": "code",
   "execution_count": 46,
   "metadata": {},
   "outputs": [
    {
     "data": {
      "text/plain": [
       "0.18711879048251334"
      ]
     },
     "execution_count": 46,
     "metadata": {},
     "output_type": "execute_result"
    }
   ],
   "source": [
    "temp.norm_Rating_Share.corr(temp.Education_Index)"
   ]
  },
  {
   "cell_type": "code",
   "execution_count": null,
   "metadata": {
    "collapsed": true
   },
   "outputs": [],
   "source": []
  }
 ],
 "metadata": {
  "kernelspec": {
   "display_name": "Python 3",
   "language": "python",
   "name": "python3"
  },
  "language_info": {
   "codemirror_mode": {
    "name": "ipython",
    "version": 3
   },
   "file_extension": ".py",
   "mimetype": "text/x-python",
   "name": "python",
   "nbconvert_exporter": "python",
   "pygments_lexer": "ipython3",
   "version": "3.6.3"
  }
 },
 "nbformat": 4,
 "nbformat_minor": 2
}
