{
 "cells": [
  {
   "cell_type": "code",
   "execution_count": 1,
   "metadata": {
    "collapsed": true
   },
   "outputs": [],
   "source": [
    "import pandas as pd\n",
    "import numpy as np\n",
    "import matplotlib.pyplot as plt\n",
    "import os.path"
   ]
  },
  {
   "cell_type": "code",
   "execution_count": 2,
   "metadata": {
    "collapsed": true
   },
   "outputs": [],
   "source": [
    "# Ensure the file exists\n",
    "if not os.path.exists( \"Test/Uganda.csv\" ):\n",
    "    print(\"Missing dataset file\")"
   ]
  },
  {
   "cell_type": "code",
   "execution_count": 5,
   "metadata": {
    "collapsed": true
   },
   "outputs": [],
   "source": [
    "df = pd.read_csv( \"Test/Uganda.csv\", skiprows=1  )"
   ]
  },
  {
   "cell_type": "code",
   "execution_count": 9,
   "metadata": {},
   "outputs": [
    {
     "data": {
      "text/plain": [
       "Country Name           NaN\n",
       "Country Code           NaN\n",
       "Indicator Name         NaN\n",
       "Indicator Code         NaN\n",
       "1960                   NaN\n",
       "1961                   NaN\n",
       "1962                   NaN\n",
       "1963                   NaN\n",
       "1964                   NaN\n",
       "1965                   NaN\n",
       "1966                   NaN\n",
       "1967                   NaN\n",
       "1968                   NaN\n",
       "1969                   NaN\n",
       "1970                   NaN\n",
       "1971                   NaN\n",
       "1972                   NaN\n",
       "1973                   NaN\n",
       "1974                   NaN\n",
       "1975                   NaN\n",
       "1976                   NaN\n",
       "1977                   NaN\n",
       "1978                   NaN\n",
       "1979                   NaN\n",
       "1980                   NaN\n",
       "1981                   NaN\n",
       "1982                   NaN\n",
       "1983                   NaN\n",
       "1984                   NaN\n",
       "1985                   NaN\n",
       "                      ... \n",
       "1989                   NaN\n",
       "1990                   NaN\n",
       "1991                   NaN\n",
       "1992                   NaN\n",
       "1993                   NaN\n",
       "1994                   NaN\n",
       "1995                   NaN\n",
       "1996                   NaN\n",
       "1997                   NaN\n",
       "1998                   NaN\n",
       "1999                   NaN\n",
       "2000                   NaN\n",
       "2001                   NaN\n",
       "2002                   NaN\n",
       "2003                   NaN\n",
       "2004                   NaN\n",
       "2005                   NaN\n",
       "2006                   NaN\n",
       "2007                   NaN\n",
       "2008                   NaN\n",
       "2009                   NaN\n",
       "2010                   NaN\n",
       "2011                   NaN\n",
       "2012                   NaN\n",
       "2013                   NaN\n",
       "2014                   NaN\n",
       "2015                   NaN\n",
       "2016                   NaN\n",
       "2017                   NaN\n",
       "Unnamed: 62_level_0    NaN\n",
       "Name: 123, Length: 63, dtype: object"
      ]
     },
     "execution_count": 9,
     "metadata": {},
     "output_type": "execute_result"
    }
   ],
   "source": [
    "df.iloc[123]"
   ]
  },
  {
   "cell_type": "code",
   "execution_count": null,
   "metadata": {
    "collapsed": true
   },
   "outputs": [],
   "source": []
  }
 ],
 "metadata": {
  "kernelspec": {
   "display_name": "Python 3",
   "language": "python",
   "name": "python3"
  },
  "language_info": {
   "codemirror_mode": {
    "name": "ipython",
    "version": 3
   },
   "file_extension": ".py",
   "mimetype": "text/x-python",
   "name": "python",
   "nbconvert_exporter": "python",
   "pygments_lexer": "ipython3",
   "version": "3.6.3"
  }
 },
 "nbformat": 4,
 "nbformat_minor": 2
}
